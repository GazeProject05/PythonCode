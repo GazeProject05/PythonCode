{
 "cells": [
  {
   "cell_type": "code",
   "execution_count": 64,
   "metadata": {},
   "outputs": [],
   "source": [
    "import pandas as pd"
   ]
  },
  {
   "cell_type": "code",
   "execution_count": 188,
   "metadata": {},
   "outputs": [],
   "source": [
    "pb2 = pd.read_table(\"Proband_41_D3.tsv\",low_memory=False)"
   ]
  },
  {
   "cell_type": "code",
   "execution_count": 189,
   "metadata": {},
   "outputs": [],
   "source": [
    "pb2.drop(columns=['ExportDate','StudioVersionRec','StudioProjectName','RecordingName','RecordingDate','RecordingResolution','PresentationSequence','FixationFilter','MediaName','MediaPosX (ADCSpx)'],inplace=True)"
   ]
  },
  {
   "cell_type": "code",
   "execution_count": 190,
   "metadata": {},
   "outputs": [],
   "source": [
    "pb2.drop(columns=['StudioTestName','MediaPosY (ADCSpx)','MediaWidth', 'MediaHeight', 'SegmentName','SegmentStart', 'SegmentEnd', 'SegmentDuration', 'SceneName','SceneSegmentStart', 'SceneSegmentEnd', 'SceneSegmentDuration','MouseEventX (ADCSpx)','MouseEvent','MouseEventY (ADCSpx)'],inplace=True)"
   ]
  },
  {
   "cell_type": "code",
   "execution_count": 191,
   "metadata": {},
   "outputs": [],
   "source": [
    "pb2.drop(columns=['KeyPressEvent','StudioEventData','ExternalEventIndex', 'ExternalEvent', 'ExternalEventValue','EventMarkerValue','GazePointLeftX (ADCSpx)', 'GazePointLeftY (ADCSpx)','GazePointRightX (ADCSpx)', 'GazePointRightY (ADCSpx)','GazePointX (ADCSpx)', 'GazePointY (ADCSpx)','GazePointLeftX (ADCSmm)','GazePointLeftY (ADCSmm)', 'GazePointRightX (ADCSmm)','GazePointRightY (ADCSmm)','StrictAverageGazePointX (ADCSmm)','StrictAverageGazePointY (ADCSmm)', 'EyePosLeftX (ADCSmm)','EyePosLeftY (ADCSmm)', 'EyePosLeftZ (ADCSmm)', 'EyePosRightX (ADCSmm)','EyePosRightY (ADCSmm)', 'EyePosRightZ (ADCSmm)','CamLeftX','CamLeftY', 'CamRightX', 'CamRightY', 'DistanceLeft', 'DistanceRight','IRMarkerCount', 'IRMarkerID', 'PupilGlassesRight', 'Unnamed: 85'],inplace=True)"
   ]
  },
  {
   "cell_type": "code",
   "execution_count": 192,
   "metadata": {},
   "outputs": [],
   "source": [
    "excel_file = pd.ExcelWriter('Proband.xlsx')"
   ]
  },
  {
   "cell_type": "code",
   "execution_count": 193,
   "metadata": {},
   "outputs": [],
   "source": [
    "pb2.to_excel(excel_file, sheet_name='Sheet1', index=False)"
   ]
  },
  {
   "cell_type": "code",
   "execution_count": 194,
   "metadata": {},
   "outputs": [],
   "source": [
    "excel_file.save()"
   ]
  },
  {
   "cell_type": "code",
   "execution_count": 195,
   "metadata": {},
   "outputs": [],
   "source": [
    "excel_file.close()"
   ]
  },
  {
   "cell_type": "code",
   "execution_count": null,
   "metadata": {},
   "outputs": [],
   "source": []
  }
 ],
 "metadata": {
  "kernelspec": {
   "display_name": "Python 3",
   "language": "python",
   "name": "python3"
  },
  "language_info": {
   "codemirror_mode": {
    "name": "ipython",
    "version": 3
   },
   "file_extension": ".py",
   "mimetype": "text/x-python",
   "name": "python",
   "nbconvert_exporter": "python",
   "pygments_lexer": "ipython3",
   "version": "3.6.5"
  }
 },
 "nbformat": 4,
 "nbformat_minor": 2
}
