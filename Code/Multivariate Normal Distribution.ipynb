{
 "cells": [
  {
   "cell_type": "code",
   "execution_count": null,
   "metadata": {},
   "outputs": [],
   "source": [
    "import pandas as pd\n",
    "import matplotlib.pyplot as plt\n",
    "import numpy as np\n",
    "import os\n",
    "from scipy.stats import multivariate_normal\n",
    "pd.set_option('display.max_columns', None)  \n"
   ]
  },
  {
   "cell_type": "code",
   "execution_count": null,
   "metadata": {},
   "outputs": [],
   "source": [
    "mypath = 'Datasets/Gaze10minData/'\n",
    "mydtaframes = {}\n",
    "\n",
    "for index,files in enumerate(os.listdir(mypath)):\n",
    "    mydtaframes[\"df_{}\".format(index)] = pd.read_excel('{}/{}'.format(mypath, files),\n",
    "                                                         sheet_name= 'Sheet1')"
   ]
  },
  {
   "cell_type": "code",
   "execution_count": null,
   "metadata": {},
   "outputs": [],
   "source": [
    "mydtaframes['df_1'].head()"
   ]
  },
  {
   "cell_type": "code",
   "execution_count": null,
   "metadata": {},
   "outputs": [],
   "source": []
  },
  {
   "cell_type": "code",
   "execution_count": 102,
   "metadata": {},
   "outputs": [],
   "source": [
    "studiodf = {}\n",
    "\n",
    "for index,frames in enumerate(mydtaframes):\n",
    "    studiodf[\"{}\".format(index)] = mydtaframes[frames]\n",
    "    #studiodf[\"{}\".format(index)] = mydtaframes[frames].loc[(mydtaframes[frames]['StudioEventTypeDiff'] == \"Agree_1_Scanning\") | (mydtaframes[frames]['StudioEventTypeDiff'] == \"Agree_2_Skimming\") | (mydtaframes[frames]['StudioEventTypeDiff'] == \"Agree_3_Reading\"),['LocalTimeStamp','FixationPointX (MCSpx)','FixationPointY (MCSpx)','StudioEventTypeDiff']]\n",
    "# studiodf = df1.loc[(df1['StudioEventTypeDiff'] == \"Agree_1_Scanning\") | (df1['StudioEventTypeDiff'] == \"Agree_2_Skimming\") | (df1['StudioEventTypeDiff'] == \"Agree_3_Reading\"),['LocalTimeStamp','FixationPointX (MCSpx)','FixationPointY (MCSpx)','StudioEventTypeDiff']]\n",
    "# studiodf.head()"
   ]
  },
  {
   "cell_type": "code",
   "execution_count": 103,
   "metadata": {},
   "outputs": [
    {
     "data": {
      "text/plain": [
       "13"
      ]
     },
     "execution_count": 103,
     "metadata": {},
     "output_type": "execute_result"
    }
   ],
   "source": [
    "len(studiodf)"
   ]
  },
  {
   "cell_type": "code",
   "execution_count": 104,
   "metadata": {},
   "outputs": [],
   "source": [
    "for frames in studiodf:\n",
    "    studiodf[frames].fillna(method='ffill', inplace= True)"
   ]
  },
  {
   "cell_type": "code",
   "execution_count": 106,
   "metadata": {},
   "outputs": [],
   "source": [
    "\n",
    "allData = pd.concat([studiodf['0'],studiodf['1'],studiodf['2'],studiodf['3'],studiodf['4'],studiodf['5'],\n",
    "                    studiodf['6'],studiodf['7'],studiodf['8'],studiodf['9'],studiodf['10'],studiodf['11'],\n",
    "                    studiodf['12'],], sort = False)\n",
    "allData['GazePointX (MCSpx)'].fillna(method='bfill', inplace= True)\n",
    "allData['GazePointY (MCSpx)'].fillna(method='bfill', inplace= True)"
   ]
  },
  {
   "cell_type": "code",
   "execution_count": 107,
   "metadata": {},
   "outputs": [],
   "source": [
    "allData['GazePointX (MCSpx)'] = allData['GazePointX (MCSpx)'].diff()\n",
    "allData['GazePointY (MCSpx)'] = allData['GazePointY (MCSpx)'].diff()\n",
    "allData['GazePointX (MCSpx)'].fillna(method='bfill', inplace= True)\n",
    "allData['GazePointY (MCSpx)'].fillna(method='bfill', inplace= True)\n"
   ]
  },
  {
   "cell_type": "code",
   "execution_count": 108,
   "metadata": {},
   "outputs": [
    {
     "data": {
      "text/plain": [
       "0"
      ]
     },
     "execution_count": 108,
     "metadata": {},
     "output_type": "execute_result"
    }
   ],
   "source": [
    "allData['GazePointX (MCSpx)'].isna().sum().sum()"
   ]
  },
  {
   "cell_type": "code",
   "execution_count": 109,
   "metadata": {},
   "outputs": [
    {
     "data": {
      "text/plain": [
       "array(['Agree_0_unstated', 'Disagree_5_Unknown_0_unstated',\n",
       "       'Disagree_5_Unknown_3_Reading', 'Disagree_1_Scanning_3_Reading',\n",
       "       'Disagree_1_Scanning_5_Unknown', 'Agree_5_Unknown',\n",
       "       'Disagree_5_Unknown_1_Scanning', 'Agree_1_Scanning',\n",
       "       'Agree_3_Reading', 'Disagree_1_Scanning_2_Skimming',\n",
       "       'Disagree_5_Unknown_2_Skimming', 'Agree_2_Skimming',\n",
       "       'Disagree_1_Scanning_4_MediaView',\n",
       "       'Disagree_2_Skimming_1_Scanning', 'Disagree_2_Skimming_5_Unknown',\n",
       "       'Disagree_2_Skimming_3_Reading', 'Disagree_5_Unknown_4_MediaView',\n",
       "       'Agree_4_MediaView', 'Disagree_4_MediaView_1_Scanning',\n",
       "       'Disagree_0_unstated_3_Reading', 'Disagree_3_Reading_1_Scanning',\n",
       "       'Disagree_3_Reading_2_Skimming', 'Disagree_2_Skimming_4_MediaView',\n",
       "       'Disagree_3_Reading_4_MediaView',\n",
       "       'Disagree_4_MediaView_2_Skimming',\n",
       "       'Disagree_4_MediaView_5_Unknown', 'Disagree_3_Reading_5_Unknown',\n",
       "       'Disagree_1_Scanning_0_unstated', 'Disagree_0_unstated_5_Unknown',\n",
       "       'Disagree_4_MediaView_3_Reading', 'Disagree_3_Reading_0_unstated'],\n",
       "      dtype=object)"
      ]
     },
     "execution_count": 109,
     "metadata": {},
     "output_type": "execute_result"
    }
   ],
   "source": [
    "allData['StudioEventTypeDiff'].unique()"
   ]
  },
  {
   "cell_type": "code",
   "execution_count": 110,
   "metadata": {},
   "outputs": [],
   "source": [
    "import matplotlib.pyplot as plt"
   ]
  },
  {
   "cell_type": "code",
   "execution_count": 111,
   "metadata": {},
   "outputs": [],
   "source": [
    "from IPython.display import display"
   ]
  },
  {
   "cell_type": "code",
   "execution_count": 112,
   "metadata": {},
   "outputs": [],
   "source": [
    "readingData = allData.loc[allData['StudioEventTypeDiff'] == \"Agree_3_Reading\"]\n",
    "skimmingData = allData.loc[allData['StudioEventTypeDiff'] == \"Agree_2_Skimming\"]\n",
    "scanningData = allData.loc[allData['StudioEventTypeDiff'] == \"Agree_1_Scanning\"]\n",
    "unknownData = allData.loc[allData['StudioEventTypeDiff'] == \"Agree_5_Unknown\"]\n",
    "mediaViewData = allData.loc[allData['StudioEventTypeDiff'] == \"Agree_4_MediaView\"]"
   ]
  },
  {
   "cell_type": "code",
   "execution_count": 113,
   "metadata": {},
   "outputs": [
    {
     "data": {
      "text/plain": [
       "0"
      ]
     },
     "execution_count": 113,
     "metadata": {},
     "output_type": "execute_result"
    }
   ],
   "source": [
    "readingData['GazePointY (MCSpx)'].isna().sum().sum()"
   ]
  },
  {
   "cell_type": "code",
   "execution_count": 114,
   "metadata": {},
   "outputs": [
    {
     "data": {
      "text/html": [
       "<div>\n",
       "<style scoped>\n",
       "    .dataframe tbody tr th:only-of-type {\n",
       "        vertical-align: middle;\n",
       "    }\n",
       "\n",
       "    .dataframe tbody tr th {\n",
       "        vertical-align: top;\n",
       "    }\n",
       "\n",
       "    .dataframe thead th {\n",
       "        text-align: right;\n",
       "    }\n",
       "</style>\n",
       "<table border=\"1\" class=\"dataframe\">\n",
       "  <thead>\n",
       "    <tr style=\"text-align: right;\">\n",
       "      <th></th>\n",
       "      <th>ParticipantName</th>\n",
       "      <th>RecordingDuration</th>\n",
       "      <th>RecordingTimestamp</th>\n",
       "      <th>LocalTimeStamp</th>\n",
       "      <th>EyeTrackerTimestamp</th>\n",
       "      <th>MouseEventIndex</th>\n",
       "      <th>MouseEventX (MCSpx)</th>\n",
       "      <th>MouseEventY (MCSpx)</th>\n",
       "      <th>KeyPressEventIndex</th>\n",
       "      <th>StudioEventIndex</th>\n",
       "      <th>StudioEventIndex.1</th>\n",
       "      <th>StudioEvent</th>\n",
       "      <th>StudioEvent_B</th>\n",
       "      <th>FixationIndex</th>\n",
       "      <th>SaccadeIndex</th>\n",
       "      <th>GazeEventType</th>\n",
       "      <th>GazeEventType_B</th>\n",
       "      <th>GazeEventDuration</th>\n",
       "      <th>FixationPointX (MCSpx)</th>\n",
       "      <th>FixationPointY (MCSpx)</th>\n",
       "      <th>AbsoluteSaccadicDirection</th>\n",
       "      <th>RelativeSaccadicDirection</th>\n",
       "      <th>GazePointIndex</th>\n",
       "      <th>GazePointX (MCSpx)</th>\n",
       "      <th>GazePointY (MCSpx)</th>\n",
       "      <th>PupilLeft</th>\n",
       "      <th>PupilRight</th>\n",
       "      <th>ValidityLeft</th>\n",
       "      <th>ValidityRight</th>\n",
       "      <th>StudioEventTypeDiff</th>\n",
       "      <th>GazeEventTypeDiff</th>\n",
       "      <th>StudioEventIndex_B</th>\n",
       "      <th>StudioEventIndex_B.1</th>\n",
       "      <th>Unnamed: 11</th>\n",
       "    </tr>\n",
       "  </thead>\n",
       "  <tbody>\n",
       "    <tr>\n",
       "      <th>4691</th>\n",
       "      <td>Proband_30_D1</td>\n",
       "      <td>3520531</td>\n",
       "      <td>77615</td>\n",
       "      <td>14:47:02.446</td>\n",
       "      <td>1.457961e+15</td>\n",
       "      <td>14.0</td>\n",
       "      <td>364.0</td>\n",
       "      <td>13.0</td>\n",
       "      <td>52.0</td>\n",
       "      <td>8.0</td>\n",
       "      <td>8.0</td>\n",
       "      <td>3_Reading</td>\n",
       "      <td>3_Reading</td>\n",
       "      <td>206.0</td>\n",
       "      <td>410.0</td>\n",
       "      <td>Fixation</td>\n",
       "      <td>Fixation</td>\n",
       "      <td>250</td>\n",
       "      <td>162.0</td>\n",
       "      <td>451.0</td>\n",
       "      <td>348,49</td>\n",
       "      <td>172,21</td>\n",
       "      <td>4640.0</td>\n",
       "      <td>0.0</td>\n",
       "      <td>0.0</td>\n",
       "      <td>2,25</td>\n",
       "      <td>2,43</td>\n",
       "      <td>0.0</td>\n",
       "      <td>0.0</td>\n",
       "      <td>Agree_3_Reading</td>\n",
       "      <td>Agree_Fixation</td>\n",
       "      <td>NaN</td>\n",
       "      <td>NaN</td>\n",
       "      <td>NaN</td>\n",
       "    </tr>\n",
       "    <tr>\n",
       "      <th>4692</th>\n",
       "      <td>Proband_30_D1</td>\n",
       "      <td>3520531</td>\n",
       "      <td>77629</td>\n",
       "      <td>14:47:02.460</td>\n",
       "      <td>1.457961e+15</td>\n",
       "      <td>14.0</td>\n",
       "      <td>364.0</td>\n",
       "      <td>13.0</td>\n",
       "      <td>52.0</td>\n",
       "      <td>8.0</td>\n",
       "      <td>8.0</td>\n",
       "      <td>3_Reading</td>\n",
       "      <td>3_Reading</td>\n",
       "      <td>206.0</td>\n",
       "      <td>410.0</td>\n",
       "      <td>Fixation</td>\n",
       "      <td>Fixation</td>\n",
       "      <td>250</td>\n",
       "      <td>162.0</td>\n",
       "      <td>451.0</td>\n",
       "      <td>348,49</td>\n",
       "      <td>172,21</td>\n",
       "      <td>4641.0</td>\n",
       "      <td>2.0</td>\n",
       "      <td>-1.0</td>\n",
       "      <td>2,29</td>\n",
       "      <td>2,43</td>\n",
       "      <td>0.0</td>\n",
       "      <td>0.0</td>\n",
       "      <td>Agree_3_Reading</td>\n",
       "      <td>Agree_Fixation</td>\n",
       "      <td>NaN</td>\n",
       "      <td>NaN</td>\n",
       "      <td>NaN</td>\n",
       "    </tr>\n",
       "    <tr>\n",
       "      <th>4693</th>\n",
       "      <td>Proband_30_D1</td>\n",
       "      <td>3520531</td>\n",
       "      <td>77645</td>\n",
       "      <td>14:47:02.476</td>\n",
       "      <td>1.457961e+15</td>\n",
       "      <td>14.0</td>\n",
       "      <td>364.0</td>\n",
       "      <td>13.0</td>\n",
       "      <td>52.0</td>\n",
       "      <td>8.0</td>\n",
       "      <td>8.0</td>\n",
       "      <td>3_Reading</td>\n",
       "      <td>3_Reading</td>\n",
       "      <td>206.0</td>\n",
       "      <td>410.0</td>\n",
       "      <td>Fixation</td>\n",
       "      <td>Fixation</td>\n",
       "      <td>250</td>\n",
       "      <td>162.0</td>\n",
       "      <td>451.0</td>\n",
       "      <td>348,49</td>\n",
       "      <td>172,21</td>\n",
       "      <td>4642.0</td>\n",
       "      <td>-6.0</td>\n",
       "      <td>21.0</td>\n",
       "      <td>2,26</td>\n",
       "      <td>2,41</td>\n",
       "      <td>0.0</td>\n",
       "      <td>0.0</td>\n",
       "      <td>Agree_3_Reading</td>\n",
       "      <td>Agree_Fixation</td>\n",
       "      <td>NaN</td>\n",
       "      <td>NaN</td>\n",
       "      <td>NaN</td>\n",
       "    </tr>\n",
       "    <tr>\n",
       "      <th>4694</th>\n",
       "      <td>Proband_30_D1</td>\n",
       "      <td>3520531</td>\n",
       "      <td>77662</td>\n",
       "      <td>14:47:02.493</td>\n",
       "      <td>1.457961e+15</td>\n",
       "      <td>14.0</td>\n",
       "      <td>364.0</td>\n",
       "      <td>13.0</td>\n",
       "      <td>52.0</td>\n",
       "      <td>8.0</td>\n",
       "      <td>8.0</td>\n",
       "      <td>3_Reading</td>\n",
       "      <td>3_Reading</td>\n",
       "      <td>206.0</td>\n",
       "      <td>410.0</td>\n",
       "      <td>Fixation</td>\n",
       "      <td>Fixation</td>\n",
       "      <td>250</td>\n",
       "      <td>162.0</td>\n",
       "      <td>451.0</td>\n",
       "      <td>348,49</td>\n",
       "      <td>172,21</td>\n",
       "      <td>4643.0</td>\n",
       "      <td>11.0</td>\n",
       "      <td>-20.0</td>\n",
       "      <td>2,24</td>\n",
       "      <td>2,39</td>\n",
       "      <td>0.0</td>\n",
       "      <td>0.0</td>\n",
       "      <td>Agree_3_Reading</td>\n",
       "      <td>Agree_Fixation</td>\n",
       "      <td>NaN</td>\n",
       "      <td>NaN</td>\n",
       "      <td>NaN</td>\n",
       "    </tr>\n",
       "    <tr>\n",
       "      <th>4695</th>\n",
       "      <td>Proband_30_D1</td>\n",
       "      <td>3520531</td>\n",
       "      <td>77679</td>\n",
       "      <td>14:47:02.510</td>\n",
       "      <td>1.457961e+15</td>\n",
       "      <td>14.0</td>\n",
       "      <td>364.0</td>\n",
       "      <td>13.0</td>\n",
       "      <td>52.0</td>\n",
       "      <td>8.0</td>\n",
       "      <td>8.0</td>\n",
       "      <td>3_Reading</td>\n",
       "      <td>3_Reading</td>\n",
       "      <td>206.0</td>\n",
       "      <td>410.0</td>\n",
       "      <td>Fixation</td>\n",
       "      <td>Fixation</td>\n",
       "      <td>250</td>\n",
       "      <td>162.0</td>\n",
       "      <td>451.0</td>\n",
       "      <td>348,49</td>\n",
       "      <td>172,21</td>\n",
       "      <td>4644.0</td>\n",
       "      <td>0.0</td>\n",
       "      <td>6.0</td>\n",
       "      <td>2,28</td>\n",
       "      <td>2,41</td>\n",
       "      <td>0.0</td>\n",
       "      <td>0.0</td>\n",
       "      <td>Agree_3_Reading</td>\n",
       "      <td>Agree_Fixation</td>\n",
       "      <td>NaN</td>\n",
       "      <td>NaN</td>\n",
       "      <td>NaN</td>\n",
       "    </tr>\n",
       "  </tbody>\n",
       "</table>\n",
       "</div>"
      ],
      "text/plain": [
       "     ParticipantName  RecordingDuration  RecordingTimestamp LocalTimeStamp  \\\n",
       "4691   Proband_30_D1            3520531               77615   14:47:02.446   \n",
       "4692   Proband_30_D1            3520531               77629   14:47:02.460   \n",
       "4693   Proband_30_D1            3520531               77645   14:47:02.476   \n",
       "4694   Proband_30_D1            3520531               77662   14:47:02.493   \n",
       "4695   Proband_30_D1            3520531               77679   14:47:02.510   \n",
       "\n",
       "      EyeTrackerTimestamp  MouseEventIndex  MouseEventX (MCSpx)  \\\n",
       "4691         1.457961e+15             14.0                364.0   \n",
       "4692         1.457961e+15             14.0                364.0   \n",
       "4693         1.457961e+15             14.0                364.0   \n",
       "4694         1.457961e+15             14.0                364.0   \n",
       "4695         1.457961e+15             14.0                364.0   \n",
       "\n",
       "      MouseEventY (MCSpx)  KeyPressEventIndex  StudioEventIndex  \\\n",
       "4691                 13.0                52.0               8.0   \n",
       "4692                 13.0                52.0               8.0   \n",
       "4693                 13.0                52.0               8.0   \n",
       "4694                 13.0                52.0               8.0   \n",
       "4695                 13.0                52.0               8.0   \n",
       "\n",
       "      StudioEventIndex.1 StudioEvent StudioEvent_B  FixationIndex  \\\n",
       "4691                 8.0   3_Reading     3_Reading          206.0   \n",
       "4692                 8.0   3_Reading     3_Reading          206.0   \n",
       "4693                 8.0   3_Reading     3_Reading          206.0   \n",
       "4694                 8.0   3_Reading     3_Reading          206.0   \n",
       "4695                 8.0   3_Reading     3_Reading          206.0   \n",
       "\n",
       "      SaccadeIndex GazeEventType GazeEventType_B  GazeEventDuration  \\\n",
       "4691         410.0      Fixation        Fixation                250   \n",
       "4692         410.0      Fixation        Fixation                250   \n",
       "4693         410.0      Fixation        Fixation                250   \n",
       "4694         410.0      Fixation        Fixation                250   \n",
       "4695         410.0      Fixation        Fixation                250   \n",
       "\n",
       "      FixationPointX (MCSpx)  FixationPointY (MCSpx)  \\\n",
       "4691                   162.0                   451.0   \n",
       "4692                   162.0                   451.0   \n",
       "4693                   162.0                   451.0   \n",
       "4694                   162.0                   451.0   \n",
       "4695                   162.0                   451.0   \n",
       "\n",
       "     AbsoluteSaccadicDirection RelativeSaccadicDirection  GazePointIndex  \\\n",
       "4691                    348,49                    172,21          4640.0   \n",
       "4692                    348,49                    172,21          4641.0   \n",
       "4693                    348,49                    172,21          4642.0   \n",
       "4694                    348,49                    172,21          4643.0   \n",
       "4695                    348,49                    172,21          4644.0   \n",
       "\n",
       "      GazePointX (MCSpx)  GazePointY (MCSpx) PupilLeft PupilRight  \\\n",
       "4691                 0.0                 0.0      2,25       2,43   \n",
       "4692                 2.0                -1.0      2,29       2,43   \n",
       "4693                -6.0                21.0      2,26       2,41   \n",
       "4694                11.0               -20.0      2,24       2,39   \n",
       "4695                 0.0                 6.0      2,28       2,41   \n",
       "\n",
       "      ValidityLeft  ValidityRight StudioEventTypeDiff GazeEventTypeDiff  \\\n",
       "4691           0.0            0.0     Agree_3_Reading    Agree_Fixation   \n",
       "4692           0.0            0.0     Agree_3_Reading    Agree_Fixation   \n",
       "4693           0.0            0.0     Agree_3_Reading    Agree_Fixation   \n",
       "4694           0.0            0.0     Agree_3_Reading    Agree_Fixation   \n",
       "4695           0.0            0.0     Agree_3_Reading    Agree_Fixation   \n",
       "\n",
       "      StudioEventIndex_B  StudioEventIndex_B.1  Unnamed: 11  \n",
       "4691                 NaN                   NaN          NaN  \n",
       "4692                 NaN                   NaN          NaN  \n",
       "4693                 NaN                   NaN          NaN  \n",
       "4694                 NaN                   NaN          NaN  \n",
       "4695                 NaN                   NaN          NaN  "
      ]
     },
     "execution_count": 114,
     "metadata": {},
     "output_type": "execute_result"
    }
   ],
   "source": [
    "readingData.head()"
   ]
  },
  {
   "cell_type": "raw",
   "metadata": {},
   "source": [
    "readingData['GazePointY (MCSpx)'].head()"
   ]
  },
  {
   "cell_type": "code",
   "execution_count": 115,
   "metadata": {},
   "outputs": [
    {
     "data": {
      "text/plain": [
       "array([[1179.63428727,  171.67930601],\n",
       "       [ 171.67930601,  836.91103656]])"
      ]
     },
     "metadata": {},
     "output_type": "display_data"
    },
    {
     "data": {
      "text/plain": [
       "array([[1805.68290536,  216.39954858],\n",
       "       [ 216.39954858, 4072.86681401]])"
      ]
     },
     "metadata": {},
     "output_type": "display_data"
    },
    {
     "data": {
      "text/plain": [
       "array([[1852.15462508,  330.37926778],\n",
       "       [ 330.37926778, 1716.64905786]])"
      ]
     },
     "metadata": {},
     "output_type": "display_data"
    },
    {
     "data": {
      "text/plain": [
       "array([[1786.47885221,  598.16561454],\n",
       "       [ 598.16561454, 2461.48454459]])"
      ]
     },
     "metadata": {},
     "output_type": "display_data"
    },
    {
     "data": {
      "text/plain": [
       "array([[1922.47066957, -383.06551818],\n",
       "       [-383.06551818, 1367.8950435 ]])"
      ]
     },
     "metadata": {},
     "output_type": "display_data"
    }
   ],
   "source": [
    "readCovMat = np.cov((readingData['GazePointX (MCSpx)'],readingData['GazePointY (MCSpx)']))\n",
    "skimmingCovMat = np.cov((skimmingData['GazePointX (MCSpx)'],skimmingData['GazePointY (MCSpx)']))\n",
    "scanningCovMat = np.cov((scanningData['GazePointX (MCSpx)'],scanningData['GazePointY (MCSpx)']))\n",
    "unknownCovMat = np.cov((unknownData['GazePointX (MCSpx)'],unknownData['GazePointY (MCSpx)']))\n",
    "mediaViewCovMat = np.cov((mediaViewData['GazePointX (MCSpx)'],mediaViewData['GazePointY (MCSpx)']))\n",
    "\n",
    "display(readCovMat)\n",
    "display(skimmingCovMat)\n",
    "display(scanningCovMat)\n",
    "display(unknownCovMat)\n",
    "display(mediaViewCovMat)"
   ]
  },
  {
   "cell_type": "code",
   "execution_count": 116,
   "metadata": {},
   "outputs": [
    {
     "data": {
      "text/plain": [
       "[-0.018223117030612773, 0.04327775196599728]"
      ]
     },
     "metadata": {},
     "output_type": "display_data"
    },
    {
     "data": {
      "text/plain": [
       "[0.3212, -0.6845777777777777]"
      ]
     },
     "metadata": {},
     "output_type": "display_data"
    },
    {
     "data": {
      "text/plain": [
       "[-0.14131410896028737, -0.08072241069646777]"
      ]
     },
     "metadata": {},
     "output_type": "display_data"
    },
    {
     "data": {
      "text/plain": [
       "[-0.04316383904262544, 0.06364754324031643]"
      ]
     },
     "metadata": {},
     "output_type": "display_data"
    },
    {
     "data": {
      "text/plain": [
       "[-1.0968448729184925, 0.2287467134092901]"
      ]
     },
     "metadata": {},
     "output_type": "display_data"
    }
   ],
   "source": [
    "readingMeanx = readingData['GazePointX (MCSpx)'].mean()\n",
    "readingMeany = readingData['GazePointY (MCSpx)'].mean()\n",
    "readingMeanVector = [readingMeanx,readingMeany]\n",
    "\n",
    "skimmingMeanx = skimmingData['GazePointX (MCSpx)'].mean()\n",
    "skimmingMeany = skimmingData['GazePointY (MCSpx)'].mean()\n",
    "skimmingMeanVector = [skimmingMeanx,skimmingMeany]\n",
    "\n",
    "scanningMeanx = scanningData['GazePointX (MCSpx)'].mean()\n",
    "scanningMeany = scanningData['GazePointY (MCSpx)'].mean()\n",
    "scanningMeanVector = [scanningMeanx,scanningMeany]\n",
    "\n",
    "unknownMeanx = unknownData['GazePointX (MCSpx)'].mean()\n",
    "unknownMeany = unknownData['GazePointY (MCSpx)'].mean()\n",
    "unknownMeanVector = [unknownMeanx,unknownMeany]\n",
    "\n",
    "mediaViewMeanx = mediaViewData['GazePointX (MCSpx)'].mean()\n",
    "mediaViewMeany = mediaViewData['GazePointY (MCSpx)'].mean()\n",
    "mediaViewMeanVector = [mediaViewMeanx,mediaViewMeany]\n",
    "\n",
    "display(readingMeanVector)\n",
    "display(skimmingMeanVector)\n",
    "display(scanningMeanVector)\n",
    "display(unknownMeanVector)\n",
    "display(mediaViewMeanVector)\n"
   ]
  },
  {
   "cell_type": "code",
   "execution_count": null,
   "metadata": {},
   "outputs": [],
   "source": []
  },
  {
   "cell_type": "code",
   "execution_count": 117,
   "metadata": {},
   "outputs": [],
   "source": [
    "readingPassData = readingData[['GazePointX (MCSpx)','GazePointY (MCSpx)']]\n",
    "skimmingPassData = skimmingData[['GazePointX (MCSpx)','GazePointY (MCSpx)']]\n",
    "scanningPassData = scanningData[['GazePointX (MCSpx)','GazePointY (MCSpx)']]\n",
    "unknownPassData = unknownData[['GazePointX (MCSpx)','GazePointY (MCSpx)']]\n",
    "mediaViewPassData = mediaViewData[['GazePointX (MCSpx)','GazePointY (MCSpx)']]"
   ]
  },
  {
   "cell_type": "code",
   "execution_count": 118,
   "metadata": {},
   "outputs": [],
   "source": [
    "readPdf = multivariate_normal.pdf(readingPassData, mean=readingMeanVector, cov=readCovMat)\n",
    "skimmingPdf = multivariate_normal.pdf(skimmingPassData, mean=skimmingMeanVector, cov=skimmingCovMat)\n",
    "scanningPdf = multivariate_normal.pdf(scanningPassData, mean=scanningMeanVector, cov=scanningCovMat)\n",
    "unknownPdf = multivariate_normal.pdf(unknownPassData, mean=unknownMeanVector, cov=unknownCovMat)\n",
    "mediaViewPdf = multivariate_normal.pdf(mediaViewPassData, mean=mediaViewMeanVector, cov=mediaViewCovMat)"
   ]
  },
  {
   "cell_type": "code",
   "execution_count": null,
   "metadata": {},
   "outputs": [],
   "source": [
    "plt.plot(readingPassData,readPdf)"
   ]
  },
  {
   "cell_type": "code",
   "execution_count": null,
   "metadata": {
    "scrolled": true
   },
   "outputs": [],
   "source": [
    "plt.plot(skimmingPassData,skimmingPdf)"
   ]
  },
  {
   "cell_type": "code",
   "execution_count": null,
   "metadata": {
    "scrolled": false
   },
   "outputs": [],
   "source": [
    "plt.plot(scanningPassData,scanningPdf)"
   ]
  },
  {
   "cell_type": "code",
   "execution_count": null,
   "metadata": {},
   "outputs": [],
   "source": [
    "from hidden_markov import hmm"
   ]
  },
  {
   "cell_type": "code",
   "execution_count": null,
   "metadata": {},
   "outputs": [],
   "source": [
    "states = ('Scanning','Skimming','Reading')\n",
    "observations = ('FixationPointX (MCSpx)','FixationPointY (MCSpx)','GazeEventType')\n",
    "start_probability = np.matrix('0 0 1')\n",
    "transition_probability = np.matrix('0.2 0.3 0.5; 0.3 0.6 0.1; 0.5 0.2 0.3')\n",
    "emission_pprobability = np.matrix('0.1 0.4 0.5; 0.6 0.1 0.3; 0.1 0.7 0.2')\n",
    "test = hmm(states, observations, start_probability, transition_probability, emission_pprobability)\n",
    "\n",
    "obs = ('FixationPointX (MCSpx)','FixationPointX (MCSpx)','GazeEventType')"
   ]
  },
  {
   "cell_type": "code",
   "execution_count": null,
   "metadata": {},
   "outputs": [],
   "source": [
    "test.viterbi(obs)"
   ]
  }
 ],
 "metadata": {
  "kernelspec": {
   "display_name": "Python 3",
   "language": "python",
   "name": "python3"
  },
  "language_info": {
   "codemirror_mode": {
    "name": "ipython",
    "version": 3
   },
   "file_extension": ".py",
   "mimetype": "text/x-python",
   "name": "python",
   "nbconvert_exporter": "python",
   "pygments_lexer": "ipython3",
   "version": "3.7.0"
  }
 },
 "nbformat": 4,
 "nbformat_minor": 2
}
