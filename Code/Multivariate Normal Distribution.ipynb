{
 "cells": [
  {
   "cell_type": "code",
   "execution_count": 29,
   "metadata": {},
   "outputs": [],
   "source": [
    "import pandas as pd\n",
    "import matplotlib.pyplot as plt\n",
    "import numpy as np\n",
    "import os\n",
    "from scipy.stats import multivariate_normal\n",
    "pd.set_option('display.max_columns', None)  \n"
   ]
  },
  {
   "cell_type": "code",
   "execution_count": 46,
   "metadata": {},
   "outputs": [],
   "source": [
    "mypath = 'Datasets/Gaze10minData/'\n",
    "mydtaframes = {}\n",
    "\n",
    "for index,files in enumerate(os.listdir(mypath)):\n",
    "    mydtaframes[\"df_{}\".format(index)] = pd.read_excel('{}/{}'.format(mypath, files),\n",
    "                                                         sheet_name= 'Sheet1')"
   ]
  },
  {
   "cell_type": "code",
   "execution_count": 45,
   "metadata": {},
   "outputs": [
    {
     "data": {
      "text/html": [
       "<div>\n",
       "<style scoped>\n",
       "    .dataframe tbody tr th:only-of-type {\n",
       "        vertical-align: middle;\n",
       "    }\n",
       "\n",
       "    .dataframe tbody tr th {\n",
       "        vertical-align: top;\n",
       "    }\n",
       "\n",
       "    .dataframe thead th {\n",
       "        text-align: right;\n",
       "    }\n",
       "</style>\n",
       "<table border=\"1\" class=\"dataframe\">\n",
       "  <thead>\n",
       "    <tr style=\"text-align: right;\">\n",
       "      <th></th>\n",
       "      <th>ParticipantName</th>\n",
       "      <th>RecordingDuration</th>\n",
       "      <th>RecordingTimestamp</th>\n",
       "      <th>LocalTimeStamp</th>\n",
       "      <th>EyeTrackerTimestamp</th>\n",
       "      <th>MouseEventIndex</th>\n",
       "      <th>MouseEventX (MCSpx)</th>\n",
       "      <th>MouseEventY (MCSpx)</th>\n",
       "      <th>KeyPressEventIndex</th>\n",
       "      <th>StudioEventIndex</th>\n",
       "      <th>StudioEventIndex_B</th>\n",
       "      <th>StudioEvent</th>\n",
       "      <th>StudioEvent_B</th>\n",
       "      <th>FixationIndex</th>\n",
       "      <th>SaccadeIndex</th>\n",
       "      <th>GazeEventType</th>\n",
       "      <th>GazeEventType_B</th>\n",
       "      <th>GazeEventDuration</th>\n",
       "      <th>FixationPointX (MCSpx)</th>\n",
       "      <th>FixationPointY (MCSpx)</th>\n",
       "      <th>AbsoluteSaccadicDirection</th>\n",
       "      <th>RelativeSaccadicDirection</th>\n",
       "      <th>GazePointIndex</th>\n",
       "      <th>GazePointX (MCSpx)</th>\n",
       "      <th>GazePointY (MCSpx)</th>\n",
       "      <th>PupilLeft</th>\n",
       "      <th>PupilRight</th>\n",
       "      <th>ValidityLeft</th>\n",
       "      <th>ValidityRight</th>\n",
       "      <th>StudioEventTypeDiff</th>\n",
       "      <th>GazeEventTypeDiff</th>\n",
       "    </tr>\n",
       "  </thead>\n",
       "  <tbody>\n",
       "    <tr>\n",
       "      <th>0</th>\n",
       "      <td>Proband_31_D2</td>\n",
       "      <td>2895701</td>\n",
       "      <td>440</td>\n",
       "      <td>13:25:24.097</td>\n",
       "      <td>1.458043e+15</td>\n",
       "      <td>NaN</td>\n",
       "      <td>NaN</td>\n",
       "      <td>NaN</td>\n",
       "      <td>NaN</td>\n",
       "      <td>NaN</td>\n",
       "      <td>NaN</td>\n",
       "      <td>0_unstated</td>\n",
       "      <td>0_unstated</td>\n",
       "      <td>NaN</td>\n",
       "      <td>2.0</td>\n",
       "      <td>Saccade</td>\n",
       "      <td>Saccade</td>\n",
       "      <td>133</td>\n",
       "      <td>NaN</td>\n",
       "      <td>NaN</td>\n",
       "      <td>NaN</td>\n",
       "      <td>NaN</td>\n",
       "      <td>21.0</td>\n",
       "      <td>66.0</td>\n",
       "      <td>220.0</td>\n",
       "      <td>2,74</td>\n",
       "      <td>2,59</td>\n",
       "      <td>0.0</td>\n",
       "      <td>0.0</td>\n",
       "      <td>Agree_0_unstated</td>\n",
       "      <td>Agree_Saccade</td>\n",
       "    </tr>\n",
       "    <tr>\n",
       "      <th>1</th>\n",
       "      <td>Proband_31_D2</td>\n",
       "      <td>2895701</td>\n",
       "      <td>456</td>\n",
       "      <td>13:25:24.114</td>\n",
       "      <td>1.458043e+15</td>\n",
       "      <td>NaN</td>\n",
       "      <td>NaN</td>\n",
       "      <td>NaN</td>\n",
       "      <td>NaN</td>\n",
       "      <td>NaN</td>\n",
       "      <td>NaN</td>\n",
       "      <td>0_unstated</td>\n",
       "      <td>0_unstated</td>\n",
       "      <td>NaN</td>\n",
       "      <td>2.0</td>\n",
       "      <td>Saccade</td>\n",
       "      <td>Saccade</td>\n",
       "      <td>133</td>\n",
       "      <td>NaN</td>\n",
       "      <td>NaN</td>\n",
       "      <td>NaN</td>\n",
       "      <td>NaN</td>\n",
       "      <td>22.0</td>\n",
       "      <td>20.0</td>\n",
       "      <td>166.0</td>\n",
       "      <td>2,59</td>\n",
       "      <td>2,54</td>\n",
       "      <td>0.0</td>\n",
       "      <td>0.0</td>\n",
       "      <td>Agree_0_unstated</td>\n",
       "      <td>Agree_Saccade</td>\n",
       "    </tr>\n",
       "    <tr>\n",
       "      <th>2</th>\n",
       "      <td>Proband_31_D2</td>\n",
       "      <td>2895701</td>\n",
       "      <td>473</td>\n",
       "      <td>13:25:24.131</td>\n",
       "      <td>1.458043e+15</td>\n",
       "      <td>NaN</td>\n",
       "      <td>NaN</td>\n",
       "      <td>NaN</td>\n",
       "      <td>NaN</td>\n",
       "      <td>NaN</td>\n",
       "      <td>NaN</td>\n",
       "      <td>0_unstated</td>\n",
       "      <td>0_unstated</td>\n",
       "      <td>2.0</td>\n",
       "      <td>NaN</td>\n",
       "      <td>Fixation</td>\n",
       "      <td>Fixation</td>\n",
       "      <td>200</td>\n",
       "      <td>45.0</td>\n",
       "      <td>168.0</td>\n",
       "      <td>339,44</td>\n",
       "      <td>NaN</td>\n",
       "      <td>23.0</td>\n",
       "      <td>20.0</td>\n",
       "      <td>168.0</td>\n",
       "      <td>NaN</td>\n",
       "      <td>2,62</td>\n",
       "      <td>4.0</td>\n",
       "      <td>0.0</td>\n",
       "      <td>Agree_0_unstated</td>\n",
       "      <td>Agree_Fixation</td>\n",
       "    </tr>\n",
       "    <tr>\n",
       "      <th>3</th>\n",
       "      <td>Proband_31_D2</td>\n",
       "      <td>2895701</td>\n",
       "      <td>490</td>\n",
       "      <td>13:25:24.147</td>\n",
       "      <td>1.458043e+15</td>\n",
       "      <td>NaN</td>\n",
       "      <td>NaN</td>\n",
       "      <td>NaN</td>\n",
       "      <td>NaN</td>\n",
       "      <td>NaN</td>\n",
       "      <td>NaN</td>\n",
       "      <td>0_unstated</td>\n",
       "      <td>0_unstated</td>\n",
       "      <td>2.0</td>\n",
       "      <td>NaN</td>\n",
       "      <td>Fixation</td>\n",
       "      <td>Fixation</td>\n",
       "      <td>200</td>\n",
       "      <td>45.0</td>\n",
       "      <td>168.0</td>\n",
       "      <td>339,44</td>\n",
       "      <td>NaN</td>\n",
       "      <td>24.0</td>\n",
       "      <td>36.0</td>\n",
       "      <td>171.0</td>\n",
       "      <td>2,58</td>\n",
       "      <td>2,50</td>\n",
       "      <td>0.0</td>\n",
       "      <td>0.0</td>\n",
       "      <td>Agree_0_unstated</td>\n",
       "      <td>Agree_Fixation</td>\n",
       "    </tr>\n",
       "    <tr>\n",
       "      <th>4</th>\n",
       "      <td>Proband_31_D2</td>\n",
       "      <td>2895701</td>\n",
       "      <td>506</td>\n",
       "      <td>13:25:24.164</td>\n",
       "      <td>1.458043e+15</td>\n",
       "      <td>NaN</td>\n",
       "      <td>NaN</td>\n",
       "      <td>NaN</td>\n",
       "      <td>NaN</td>\n",
       "      <td>NaN</td>\n",
       "      <td>NaN</td>\n",
       "      <td>0_unstated</td>\n",
       "      <td>0_unstated</td>\n",
       "      <td>2.0</td>\n",
       "      <td>NaN</td>\n",
       "      <td>Fixation</td>\n",
       "      <td>Fixation</td>\n",
       "      <td>200</td>\n",
       "      <td>45.0</td>\n",
       "      <td>168.0</td>\n",
       "      <td>339,44</td>\n",
       "      <td>NaN</td>\n",
       "      <td>25.0</td>\n",
       "      <td>66.0</td>\n",
       "      <td>224.0</td>\n",
       "      <td>2,74</td>\n",
       "      <td>2,60</td>\n",
       "      <td>0.0</td>\n",
       "      <td>0.0</td>\n",
       "      <td>Agree_0_unstated</td>\n",
       "      <td>Agree_Fixation</td>\n",
       "    </tr>\n",
       "  </tbody>\n",
       "</table>\n",
       "</div>"
      ],
      "text/plain": [
       "  ParticipantName  RecordingDuration  RecordingTimestamp LocalTimeStamp  \\\n",
       "0   Proband_31_D2            2895701                 440   13:25:24.097   \n",
       "1   Proband_31_D2            2895701                 456   13:25:24.114   \n",
       "2   Proband_31_D2            2895701                 473   13:25:24.131   \n",
       "3   Proband_31_D2            2895701                 490   13:25:24.147   \n",
       "4   Proband_31_D2            2895701                 506   13:25:24.164   \n",
       "\n",
       "   EyeTrackerTimestamp  MouseEventIndex  MouseEventX (MCSpx)  \\\n",
       "0         1.458043e+15              NaN                  NaN   \n",
       "1         1.458043e+15              NaN                  NaN   \n",
       "2         1.458043e+15              NaN                  NaN   \n",
       "3         1.458043e+15              NaN                  NaN   \n",
       "4         1.458043e+15              NaN                  NaN   \n",
       "\n",
       "   MouseEventY (MCSpx)  KeyPressEventIndex  StudioEventIndex  \\\n",
       "0                  NaN                 NaN               NaN   \n",
       "1                  NaN                 NaN               NaN   \n",
       "2                  NaN                 NaN               NaN   \n",
       "3                  NaN                 NaN               NaN   \n",
       "4                  NaN                 NaN               NaN   \n",
       "\n",
       "   StudioEventIndex_B StudioEvent StudioEvent_B  FixationIndex  SaccadeIndex  \\\n",
       "0                 NaN  0_unstated    0_unstated            NaN           2.0   \n",
       "1                 NaN  0_unstated    0_unstated            NaN           2.0   \n",
       "2                 NaN  0_unstated    0_unstated            2.0           NaN   \n",
       "3                 NaN  0_unstated    0_unstated            2.0           NaN   \n",
       "4                 NaN  0_unstated    0_unstated            2.0           NaN   \n",
       "\n",
       "  GazeEventType GazeEventType_B  GazeEventDuration  FixationPointX (MCSpx)  \\\n",
       "0       Saccade         Saccade                133                     NaN   \n",
       "1       Saccade         Saccade                133                     NaN   \n",
       "2      Fixation        Fixation                200                    45.0   \n",
       "3      Fixation        Fixation                200                    45.0   \n",
       "4      Fixation        Fixation                200                    45.0   \n",
       "\n",
       "   FixationPointY (MCSpx) AbsoluteSaccadicDirection RelativeSaccadicDirection  \\\n",
       "0                     NaN                       NaN                       NaN   \n",
       "1                     NaN                       NaN                       NaN   \n",
       "2                   168.0                    339,44                       NaN   \n",
       "3                   168.0                    339,44                       NaN   \n",
       "4                   168.0                    339,44                       NaN   \n",
       "\n",
       "   GazePointIndex  GazePointX (MCSpx)  GazePointY (MCSpx) PupilLeft  \\\n",
       "0            21.0                66.0               220.0      2,74   \n",
       "1            22.0                20.0               166.0      2,59   \n",
       "2            23.0                20.0               168.0       NaN   \n",
       "3            24.0                36.0               171.0      2,58   \n",
       "4            25.0                66.0               224.0      2,74   \n",
       "\n",
       "  PupilRight  ValidityLeft  ValidityRight StudioEventTypeDiff  \\\n",
       "0       2,59           0.0            0.0    Agree_0_unstated   \n",
       "1       2,54           0.0            0.0    Agree_0_unstated   \n",
       "2       2,62           4.0            0.0    Agree_0_unstated   \n",
       "3       2,50           0.0            0.0    Agree_0_unstated   \n",
       "4       2,60           0.0            0.0    Agree_0_unstated   \n",
       "\n",
       "  GazeEventTypeDiff  \n",
       "0     Agree_Saccade  \n",
       "1     Agree_Saccade  \n",
       "2    Agree_Fixation  \n",
       "3    Agree_Fixation  \n",
       "4    Agree_Fixation  "
      ]
     },
     "execution_count": 45,
     "metadata": {},
     "output_type": "execute_result"
    }
   ],
   "source": [
    "mydtaframes['df_1'].head()"
   ]
  },
  {
   "cell_type": "code",
   "execution_count": null,
   "metadata": {},
   "outputs": [],
   "source": []
  },
  {
   "cell_type": "code",
   "execution_count": 59,
   "metadata": {},
   "outputs": [],
   "source": [
    "studiodf = {}\n",
    "\n",
    "for index,frames in enumerate(mydtaframes):\n",
    "    studiodf[\"{}\".format(index)] = mydtaframes[frames].loc[(mydtaframes[frames]['StudioEventTypeDiff'] == \"Agree_1_Scanning\") | (mydtaframes[frames]['StudioEventTypeDiff'] == \"Agree_2_Skimming\") | (mydtaframes[frames]['StudioEventTypeDiff'] == \"Agree_3_Reading\"),['LocalTimeStamp','FixationPointX (MCSpx)','FixationPointY (MCSpx)','StudioEventTypeDiff']]\n",
    "# studiodf = df1.loc[(df1['StudioEventTypeDiff'] == \"Agree_1_Scanning\") | (df1['StudioEventTypeDiff'] == \"Agree_2_Skimming\") | (df1['StudioEventTypeDiff'] == \"Agree_3_Reading\"),['LocalTimeStamp','FixationPointX (MCSpx)','FixationPointY (MCSpx)','StudioEventTypeDiff']]\n",
    "# studiodf.head()"
   ]
  },
  {
   "cell_type": "code",
   "execution_count": 62,
   "metadata": {},
   "outputs": [
    {
     "data": {
      "text/plain": [
       "20"
      ]
     },
     "execution_count": 62,
     "metadata": {},
     "output_type": "execute_result"
    }
   ],
   "source": [
    "len(studiodf)"
   ]
  },
  {
   "cell_type": "code",
   "execution_count": 81,
   "metadata": {},
   "outputs": [],
   "source": [
    "for frames in studiodf:\n",
    "    studiodf[frames].fillna(method='ffill', inplace= True)"
   ]
  },
  {
   "cell_type": "code",
   "execution_count": 90,
   "metadata": {},
   "outputs": [],
   "source": [
    "\n",
    "allData = pd.concat([studiodf['0'],studiodf['1'],studiodf['2'],studiodf['3'],studiodf['4'],studiodf['5'],\n",
    "                    studiodf['6'],studiodf['7'],studiodf['8'],studiodf['9'],studiodf['10'],studiodf['11'],\n",
    "                    studiodf['12'],studiodf['13'],studiodf['14'],studiodf['15'],studiodf['16'],studiodf['17'],\n",
    "                    studiodf['18'],studiodf['19'],])\n",
    "allData['FixationPointX (MCSpx)'].fillna(method='bfill', inplace= True)\n",
    "allData['FixationPointY (MCSpx)'].fillna(method='bfill', inplace= True)"
   ]
  },
  {
   "cell_type": "code",
   "execution_count": 91,
   "metadata": {},
   "outputs": [
    {
     "data": {
      "text/plain": [
       "array([[122903.35417712,  10528.56440782],\n",
       "       [ 10528.56440782,  51371.49100115]])"
      ]
     },
     "execution_count": 91,
     "metadata": {},
     "output_type": "execute_result"
    }
   ],
   "source": [
    "covMat = np.cov((allData['FixationPointX (MCSpx)'],allData['FixationPointY (MCSpx)']))\n",
    "covMat"
   ]
  },
  {
   "cell_type": "code",
   "execution_count": 92,
   "metadata": {},
   "outputs": [
    {
     "data": {
      "text/plain": [
       "[570.2550334833682, 445.2947085300253]"
      ]
     },
     "execution_count": 92,
     "metadata": {},
     "output_type": "execute_result"
    }
   ],
   "source": [
    "meanx = allData['FixationPointX (MCSpx)'].mean()\n",
    "meany = allData['FixationPointY (MCSpx)'].mean()\n",
    "meanVector = [meanx,meany]\n",
    "meanVector"
   ]
  },
  {
   "cell_type": "code",
   "execution_count": 93,
   "metadata": {},
   "outputs": [
    {
     "data": {
      "text/plain": [
       "(182180, 2)"
      ]
     },
     "execution_count": 93,
     "metadata": {},
     "output_type": "execute_result"
    }
   ],
   "source": [
    "data = allData[['FixationPointX (MCSpx)','FixationPointY (MCSpx)']]\n",
    "data.shape"
   ]
  },
  {
   "cell_type": "code",
   "execution_count": 94,
   "metadata": {},
   "outputs": [
    {
     "name": "stdout",
     "output_type": "stream",
     "text": [
      "[7.99020961e-07 7.99020961e-07 7.99020961e-07 ... 5.96476288e-07\n",
      " 5.96476288e-07 5.96476288e-07]\n"
     ]
    }
   ],
   "source": [
    "y = multivariate_normal.pdf(data, mean=meanVector, cov=covMat)\n",
    "print(y)"
   ]
  },
  {
   "cell_type": "code",
   "execution_count": 96,
   "metadata": {},
   "outputs": [],
   "source": [
    "import matplotlib.pyplot as plt"
   ]
  },
  {
   "cell_type": "code",
   "execution_count": 97,
   "metadata": {},
   "outputs": [
    {
     "data": {
      "text/plain": [
       "[<matplotlib.lines.Line2D at 0x2565ceebe48>,\n",
       " <matplotlib.lines.Line2D at 0x2565ceebf98>]"
      ]
     },
     "execution_count": 97,
     "metadata": {},
     "output_type": "execute_result"
    },
    {
     "data": {
      "image/png": "[encoded data removed]",
      "text/plain": [
       "<Figure size 432x288 with 1 Axes>"
      ]
     },
     "metadata": {
      "needs_background": "light"
     },
     "output_type": "display_data"
    }
   ],
   "source": [
    "plt.plot(data,y)"
   ]
  }
 ],
 "metadata": {
  "kernelspec": {
   "display_name": "Python 3",
   "language": "python",
   "name": "python3"
  },
  "language_info": {
   "codemirror_mode": {
    "name": "ipython",
    "version": 3
   },
   "file_extension": ".py",
   "mimetype": "text/x-python",
   "name": "python",
   "nbconvert_exporter": "python",
   "pygments_lexer": "ipython3",
   "version": "3.7.0"
  }
 },
 "nbformat": 4,
 "nbformat_minor": 2
}
