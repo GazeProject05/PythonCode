{
 "cells": [
  {
   "cell_type": "markdown",
   "metadata": {},
   "source": [
    "# Fold 1"
   ]
  },
  {
   "cell_type": "code",
   "execution_count": 31,
   "metadata": {},
   "outputs": [],
   "source": [
    "mypath1 = 'Datasets/Fold1/'\n",
    "mydtaframes1 = {}\n",
    "\n",
    "for index,files in enumerate(os.listdir(mypath1)):\n",
    "    mydtaframes1[\"df_{}\".format(index)] = pd.read_excel('{}/{}'.format(mypath1, files),\n",
    "                                                         sheet_name= 'Sheet1')"
   ]
  },
  {
   "cell_type": "code",
   "execution_count": 32,
   "metadata": {},
   "outputs": [],
   "source": [
    "studiodf1 = {}\n",
    "\n",
    "for index,frames in enumerate(mydtaframes1):\n",
    "    studiodf1[\"{}\".format(index)] = mydtaframes1[frames]"
   ]
  },
  {
   "cell_type": "code",
   "execution_count": 33,
   "metadata": {},
   "outputs": [],
   "source": [
    "for frames in studiodf1:\n",
    "    studiodf1[frames].fillna(method='ffill', inplace= True)"
   ]
  },
  {
   "cell_type": "code",
   "execution_count": 34,
   "metadata": {},
   "outputs": [],
   "source": [
    "allData1 = pd.concat([studiodf1['0'],studiodf1['1'],studiodf1['2'],studiodf1['3'],studiodf1['4']\n",
    "                     ,studiodf1['5'],studiodf1['6'],studiodf1['7'],studiodf1['8'],studiodf1['9']\n",
    "                     ,studiodf1['10'],studiodf1['11'],studiodf1['12'],studiodf1['13'],studiodf1['14']], sort = False)\n",
    "allData1['GazePointX (MCSpx)'].fillna(method='bfill', inplace= True)\n",
    "allData1['GazePointY (MCSpx)'].fillna(method='bfill', inplace= True)"
   ]
  },
  {
   "cell_type": "code",
   "execution_count": 35,
   "metadata": {},
   "outputs": [],
   "source": [
    "allData1['GazePointX (MCSpx)'] = allData1['GazePointX (MCSpx)'].diff()\n",
    "allData1['GazePointY (MCSpx)'] = allData1['GazePointY (MCSpx)'].diff()\n",
    "allData1['GazePointX (MCSpx)'].fillna(method='bfill', inplace= True)\n",
    "allData1['GazePointY (MCSpx)'].fillna(method='bfill', inplace= True)\n"
   ]
  },
  {
   "cell_type": "code",
   "execution_count": 36,
   "metadata": {},
   "outputs": [],
   "source": [
    "readingData1 = allData1.loc[allData1['StudioEventTypeDiff'] == \"Agree_3_Reading\"]\n",
    "skimmingData1 = allData1.loc[allData1['StudioEventTypeDiff'] == \"Agree_2_Skimming\"]\n",
    "scanningData1 = allData1.loc[allData1['StudioEventTypeDiff'] == \"Agree_1_Scanning\"]\n",
    "unknownData1 = allData1.loc[allData1['StudioEventTypeDiff'] == \"Agree_5_Unknown\"]\n",
    "mediaViewData1 = allData1.loc[allData1['StudioEventTypeDiff'] == \"Agree_4_MediaView\"]"
   ]
  },
  {
   "cell_type": "code",
   "execution_count": null,
   "metadata": {},
   "outputs": [],
   "source": []
  },
  {
   "cell_type": "code",
   "execution_count": 38,
   "metadata": {},
   "outputs": [
    {
     "data": {
      "text/plain": [
       "array(['Agree_0_unstated', 'Disagree_5_Unknown_0_unstated',\n",
       "       'Disagree_5_Unknown_3_Reading', 'Disagree_1_Scanning_3_Reading',\n",
       "       'Disagree_1_Scanning_5_Unknown', 'Agree_5_Unknown',\n",
       "       'Disagree_5_Unknown_1_Scanning', 'Agree_1_Scanning',\n",
       "       'Agree_3_Reading', 'Disagree_1_Scanning_2_Skimming',\n",
       "       'Disagree_5_Unknown_2_Skimming', 'Agree_2_Skimming',\n",
       "       'Disagree_1_Scanning_4_MediaView',\n",
       "       'Disagree_2_Skimming_1_Scanning', 'Disagree_2_Skimming_5_Unknown',\n",
       "       'Disagree_2_Skimming_3_Reading', 'Disagree_5_Unknown_4_MediaView',\n",
       "       'Agree_4_MediaView', 'Disagree_4_MediaView_1_Scanning',\n",
       "       'Disagree_0_unstated_3_Reading', 'Disagree_3_Reading_1_Scanning',\n",
       "       'Disagree_3_Reading_2_Skimming', 'Disagree_2_Skimming_4_MediaView',\n",
       "       'Disagree_3_Reading_4_MediaView',\n",
       "       'Disagree_4_MediaView_2_Skimming',\n",
       "       'Disagree_4_MediaView_5_Unknown', 'Disagree_3_Reading_5_Unknown',\n",
       "       'Disagree_1_Scanning_0_unstated', 'Disagree_4_MediaView_3_Reading',\n",
       "       'Disagree_0_Unstated_0_unstated', 'Disagree_0_Unstated_3_Reading',\n",
       "       'Disagree_3_Reading_0_unstated'], dtype=object)"
      ]
     },
     "execution_count": 38,
     "metadata": {},
     "output_type": "execute_result"
    }
   ],
   "source": [
    "allData1['StudioEventTypeDiff'].unique()"
   ]
  },
  {
   "cell_type": "code",
   "execution_count": 39,
   "metadata": {},
   "outputs": [
    {
     "data": {
      "text/plain": [
       "array([[1347.17819715,  156.69893621],\n",
       "       [ 156.69893621,  829.62864116]])"
      ]
     },
     "metadata": {},
     "output_type": "display_data"
    },
    {
     "data": {
      "text/plain": [
       "array([[1496.0804431 ,  275.10679035],\n",
       "       [ 275.10679035, 1866.72643479]])"
      ]
     },
     "metadata": {},
     "output_type": "display_data"
    },
    {
     "data": {
      "text/plain": [
       "array([[1845.35660031,  278.6600628 ],\n",
       "       [ 278.6600628 , 1534.86548357]])"
      ]
     },
     "metadata": {},
     "output_type": "display_data"
    },
    {
     "data": {
      "text/plain": [
       "array([[2151.34052549,  752.7431546 ],\n",
       "       [ 752.7431546 , 2846.0843203 ]])"
      ]
     },
     "metadata": {},
     "output_type": "display_data"
    },
    {
     "data": {
      "text/plain": [
       "array([[1588.30018404, -328.80130858],\n",
       "       [-328.80130858, 1247.88343492]])"
      ]
     },
     "metadata": {},
     "output_type": "display_data"
    }
   ],
   "source": [
    "readCovMat1 = np.cov((readingData1['GazePointX (MCSpx)'],readingData1['GazePointY (MCSpx)']))\n",
    "skimmingCovMat1 = np.cov((skimmingData1['GazePointX (MCSpx)'],skimmingData1['GazePointY (MCSpx)']))\n",
    "scanningCovMat1 = np.cov((scanningData1['GazePointX (MCSpx)'],scanningData1['GazePointY (MCSpx)']))\n",
    "unknownCovMat1 = np.cov((unknownData1['GazePointX (MCSpx)'],unknownData1['GazePointY (MCSpx)']))\n",
    "mediaViewCovMat1 = np.cov((mediaViewData1['GazePointX (MCSpx)'],mediaViewData1['GazePointY (MCSpx)']))\n",
    "\n",
    "display(readCovMat1)\n",
    "display(skimmingCovMat1)\n",
    "display(scanningCovMat1)\n",
    "display(unknownCovMat1)\n",
    "display(mediaViewCovMat1)"
   ]
  },
  {
   "cell_type": "code",
   "execution_count": 40,
   "metadata": {},
   "outputs": [
    {
     "data": {
      "text/plain": [
       "[-0.0007981869752989638, 0.08868427429125272]"
      ]
     },
     "metadata": {},
     "output_type": "display_data"
    },
    {
     "data": {
      "text/plain": [
       "[-0.0046466128637808754, -0.8479457079970653]"
      ]
     },
     "metadata": {},
     "output_type": "display_data"
    },
    {
     "data": {
      "text/plain": [
       "[0.07340473781530196, 0.001639744618497715]"
      ]
     },
     "metadata": {},
     "output_type": "display_data"
    },
    {
     "data": {
      "text/plain": [
       "[-0.002489527353616831, 0.0640104778437263]"
      ]
     },
     "metadata": {},
     "output_type": "display_data"
    },
    {
     "data": {
      "text/plain": [
       "[-1.0391618000687048, 0.15080728272071453]"
      ]
     },
     "metadata": {},
     "output_type": "display_data"
    }
   ],
   "source": [
    "readingMeanx1 = readingData1['GazePointX (MCSpx)'].mean()\n",
    "readingMeany1 = readingData1['GazePointY (MCSpx)'].mean()\n",
    "readingMeanVector1 = [readingMeanx1,readingMeany1]\n",
    "\n",
    "skimmingMeanx1 = skimmingData1['GazePointX (MCSpx)'].mean()\n",
    "skimmingMeany1 = skimmingData1['GazePointY (MCSpx)'].mean()\n",
    "skimmingMeanVector1 = [skimmingMeanx1,skimmingMeany1]\n",
    "\n",
    "scanningMeanx1 = scanningData1['GazePointX (MCSpx)'].mean()\n",
    "scanningMeany1 = scanningData1['GazePointY (MCSpx)'].mean()\n",
    "scanningMeanVector1 = [scanningMeanx1,scanningMeany1]\n",
    "\n",
    "unknownMeanx1 = unknownData1['GazePointX (MCSpx)'].mean()\n",
    "unknownMeany1 = unknownData1['GazePointY (MCSpx)'].mean()\n",
    "unknownMeanVector1 = [unknownMeanx1,unknownMeany1]\n",
    "\n",
    "mediaViewMeanx1 = mediaViewData1['GazePointX (MCSpx)'].mean()\n",
    "mediaViewMeany1 = mediaViewData1['GazePointY (MCSpx)'].mean()\n",
    "mediaViewMeanVector1 = [mediaViewMeanx1,mediaViewMeany1]\n",
    "\n",
    "display(readingMeanVector1)\n",
    "display(skimmingMeanVector1)\n",
    "display(scanningMeanVector1)\n",
    "display(unknownMeanVector1)\n",
    "display(mediaViewMeanVector1)"
   ]
  },
  {
   "cell_type": "markdown",
   "metadata": {},
   "source": [
    "# Fold 2"
   ]
  },
  {
   "cell_type": "code",
   "execution_count": 41,
   "metadata": {},
   "outputs": [],
   "source": [
    "mypath2 = 'Datasets/Fold2/'\n",
    "mydtaframes2 = {}\n",
    "\n",
    "for index,files in enumerate(os.listdir(mypath2)):\n",
    "    mydtaframes2[\"df_{}\".format(index)] = pd.read_excel('{}/{}'.format(mypath2, files),\n",
    "                                                         sheet_name= 'Sheet1')"
   ]
  },
  {
   "cell_type": "code",
   "execution_count": 42,
   "metadata": {},
   "outputs": [],
   "source": [
    "studiodf2 = {}\n",
    "\n",
    "for index,frames in enumerate(mydtaframes2):\n",
    "    studiodf2[\"{}\".format(index)] = mydtaframes2[frames]"
   ]
  },
  {
   "cell_type": "code",
   "execution_count": 43,
   "metadata": {},
   "outputs": [],
   "source": [
    "for frames in studiodf2:\n",
    "    studiodf2[frames].fillna(method='ffill', inplace= True)"
   ]
  },
  {
   "cell_type": "code",
   "execution_count": 44,
   "metadata": {},
   "outputs": [],
   "source": [
    "allData2 = pd.concat([studiodf2['0'],studiodf2['1'],studiodf2['2'],studiodf2['3'],studiodf2['4']\n",
    "                     ,studiodf2['5'],studiodf2['6'],studiodf2['7'],studiodf2['8'],studiodf2['9']\n",
    "                     ,studiodf2['10'],studiodf2['11'],studiodf2['12'],studiodf2['13'],studiodf2['14']], sort = False)\n",
    "allData2['GazePointX (MCSpx)'].fillna(method='bfill', inplace= True)\n",
    "allData2['GazePointY (MCSpx)'].fillna(method='bfill', inplace= True)"
   ]
  },
  {
   "cell_type": "code",
   "execution_count": 45,
   "metadata": {},
   "outputs": [],
   "source": [
    "allData2['GazePointX (MCSpx)'] = allData2['GazePointX (MCSpx)'].diff()\n",
    "allData2['GazePointY (MCSpx)'] = allData2['GazePointY (MCSpx)'].diff()\n",
    "allData2['GazePointX (MCSpx)'].fillna(method='bfill', inplace= True)\n",
    "allData2['GazePointY (MCSpx)'].fillna(method='bfill', inplace= True)\n"
   ]
  },
  {
   "cell_type": "code",
   "execution_count": 46,
   "metadata": {},
   "outputs": [],
   "source": [
    "readingData2 = allData2.loc[allData2['StudioEventTypeDiff'] == \"Agree_3_Reading\"]\n",
    "skimmingData2 = allData2.loc[allData2['StudioEventTypeDiff'] == \"Agree_2_Skimming\"]\n",
    "scanningData2 = allData2.loc[allData2['StudioEventTypeDiff'] == \"Agree_1_Scanning\"]\n",
    "unknownData2 = allData2.loc[allData2['StudioEventTypeDiff'] == \"Agree_5_Unknown\"]\n",
    "mediaViewData2 = allData2.loc[allData2['StudioEventTypeDiff'] == \"Agree_4_MediaView\"]"
   ]
  },
  {
   "cell_type": "code",
   "execution_count": 47,
   "metadata": {},
   "outputs": [
    {
     "data": {
      "text/plain": [
       "array([[1253.01740257,  123.71435585],\n",
       "       [ 123.71435585,  618.66574195]])"
      ]
     },
     "metadata": {},
     "output_type": "display_data"
    },
    {
     "data": {
      "text/plain": [
       "array([[1710.62134033,  197.24334165],\n",
       "       [ 197.24334165, 4282.67231078]])"
      ]
     },
     "metadata": {},
     "output_type": "display_data"
    },
    {
     "data": {
      "text/plain": [
       "array([[1951.03853306,  285.34334663],\n",
       "       [ 285.34334663, 1457.95684079]])"
      ]
     },
     "metadata": {},
     "output_type": "display_data"
    },
    {
     "data": {
      "text/plain": [
       "array([[2340.19585756,  624.86013029],\n",
       "       [ 624.86013029, 2661.843709  ]])"
      ]
     },
     "metadata": {},
     "output_type": "display_data"
    },
    {
     "data": {
      "text/plain": [
       "array([[1779.58842175, -358.65092781],\n",
       "       [-358.65092781, 1229.4491999 ]])"
      ]
     },
     "metadata": {},
     "output_type": "display_data"
    }
   ],
   "source": [
    "readCovMat2 = np.cov((readingData2['GazePointX (MCSpx)'],readingData2['GazePointY (MCSpx)']))\n",
    "skimmingCovMat2 = np.cov((skimmingData2['GazePointX (MCSpx)'],skimmingData2['GazePointY (MCSpx)']))\n",
    "scanningCovMat2 = np.cov((scanningData2['GazePointX (MCSpx)'],scanningData2['GazePointY (MCSpx)']))\n",
    "unknownCovMat2 = np.cov((unknownData2['GazePointX (MCSpx)'],unknownData2['GazePointY (MCSpx)']))\n",
    "mediaViewCovMat2 = np.cov((mediaViewData2['GazePointX (MCSpx)'],mediaViewData2['GazePointY (MCSpx)']))\n",
    "\n",
    "display(readCovMat2)\n",
    "display(skimmingCovMat2)\n",
    "display(scanningCovMat2)\n",
    "display(unknownCovMat2)\n",
    "display(mediaViewCovMat2)"
   ]
  },
  {
   "cell_type": "code",
   "execution_count": 48,
   "metadata": {},
   "outputs": [
    {
     "data": {
      "text/plain": [
       "[0.032714022583486824, 0.09169536317770481]"
      ]
     },
     "metadata": {},
     "output_type": "display_data"
    },
    {
     "data": {
      "text/plain": [
       "[0.40427693647491414, -0.719289757608012]"
      ]
     },
     "metadata": {},
     "output_type": "display_data"
    },
    {
     "data": {
      "text/plain": [
       "[0.007770614920448872, -0.0027349091619456923]"
      ]
     },
     "metadata": {},
     "output_type": "display_data"
    },
    {
     "data": {
      "text/plain": [
       "[-0.024881482212177303, 0.1339584651003557]"
      ]
     },
     "metadata": {},
     "output_type": "display_data"
    },
    {
     "data": {
      "text/plain": [
       "[-1.0985138004246284, 0.16687898089171974]"
      ]
     },
     "metadata": {},
     "output_type": "display_data"
    }
   ],
   "source": [
    "readingMeanx2 = readingData2['GazePointX (MCSpx)'].mean()\n",
    "readingMeany2 = readingData2['GazePointY (MCSpx)'].mean()\n",
    "readingMeanVector2 = [readingMeanx2,readingMeany2]\n",
    "\n",
    "skimmingMeanx2 = skimmingData2['GazePointX (MCSpx)'].mean()\n",
    "skimmingMeany2 = skimmingData2['GazePointY (MCSpx)'].mean()\n",
    "skimmingMeanVector2 = [skimmingMeanx2,skimmingMeany2]\n",
    "\n",
    "scanningMeanx2 = scanningData2['GazePointX (MCSpx)'].mean()\n",
    "scanningMeany2 = scanningData2['GazePointY (MCSpx)'].mean()\n",
    "scanningMeanVector2 = [scanningMeanx2,scanningMeany2]\n",
    "\n",
    "unknownMeanx2 = unknownData2['GazePointX (MCSpx)'].mean()\n",
    "unknownMeany2 = unknownData2['GazePointY (MCSpx)'].mean()\n",
    "unknownMeanVector2 = [unknownMeanx2,unknownMeany2]\n",
    "\n",
    "mediaViewMeanx2 = mediaViewData2['GazePointX (MCSpx)'].mean()\n",
    "mediaViewMeany2 = mediaViewData2['GazePointY (MCSpx)'].mean()\n",
    "mediaViewMeanVector2 = [mediaViewMeanx2,mediaViewMeany2]\n",
    "\n",
    "display(readingMeanVector2)\n",
    "display(skimmingMeanVector2)\n",
    "display(scanningMeanVector2)\n",
    "display(unknownMeanVector2)\n",
    "display(mediaViewMeanVector2)"
   ]
  },
  {
   "cell_type": "markdown",
   "metadata": {},
   "source": [
    "# Fold 3"
   ]
  },
  {
   "cell_type": "code",
   "execution_count": 49,
   "metadata": {},
   "outputs": [],
   "source": [
    "mypath3 = 'Datasets/Fold3/'\n",
    "mydtaframes3 = {}\n",
    "\n",
    "for index,files in enumerate(os.listdir(mypath3)):\n",
    "    mydtaframes3[\"df_{}\".format(index)] = pd.read_excel('{}/{}'.format(mypath3, files),\n",
    "                                                         sheet_name= 'Sheet1')"
   ]
  },
  {
   "cell_type": "code",
   "execution_count": 50,
   "metadata": {},
   "outputs": [],
   "source": [
    "studiodf3 = {}\n",
    "\n",
    "for index,frames in enumerate(mydtaframes3):\n",
    "    studiodf3[\"{}\".format(index)] = mydtaframes3[frames]"
   ]
  },
  {
   "cell_type": "code",
   "execution_count": 51,
   "metadata": {},
   "outputs": [],
   "source": [
    "for frames in studiodf3:\n",
    "    studiodf3[frames].fillna(method='ffill', inplace= True)"
   ]
  },
  {
   "cell_type": "code",
   "execution_count": 52,
   "metadata": {},
   "outputs": [],
   "source": [
    "allData3 = pd.concat([studiodf3['0'],studiodf3['1'],studiodf3['2'],studiodf3['3'],studiodf3['4']\n",
    "                     ,studiodf3['5'],studiodf3['6'],studiodf3['7'],studiodf3['8'],studiodf3['9']\n",
    "                     ,studiodf3['10'],studiodf3['11'],studiodf1['12'],studiodf3['13'],studiodf3['14']], sort = False)\n",
    "allData3['GazePointX (MCSpx)'].fillna(method='bfill', inplace= True)\n",
    "allData3['GazePointY (MCSpx)'].fillna(method='bfill', inplace= True)"
   ]
  },
  {
   "cell_type": "code",
   "execution_count": 53,
   "metadata": {},
   "outputs": [],
   "source": [
    "allData3['GazePointX (MCSpx)'] = allData3['GazePointX (MCSpx)'].diff()\n",
    "allData3['GazePointY (MCSpx)'] = allData3['GazePointY (MCSpx)'].diff()\n",
    "allData3['GazePointX (MCSpx)'].fillna(method='bfill', inplace= True)\n",
    "allData3['GazePointY (MCSpx)'].fillna(method='bfill', inplace= True)\n"
   ]
  },
  {
   "cell_type": "code",
   "execution_count": 54,
   "metadata": {},
   "outputs": [],
   "source": [
    "readingData3 = allData3.loc[allData3['StudioEventTypeDiff'] == \"Agree_3_Reading\"]\n",
    "skimmingData3 = allData3.loc[allData3['StudioEventTypeDiff'] == \"Agree_2_Skimming\"]\n",
    "scanningData3 = allData3.loc[allData3['StudioEventTypeDiff'] == \"Agree_1_Scanning\"]\n",
    "unknownData3 = allData3.loc[allData3['StudioEventTypeDiff'] == \"Agree_5_Unknown\"]\n",
    "mediaViewData3 = allData3.loc[allData3['StudioEventTypeDiff'] == \"Agree_4_MediaView\"]"
   ]
  },
  {
   "cell_type": "code",
   "execution_count": 55,
   "metadata": {},
   "outputs": [
    {
     "data": {
      "text/plain": [
       "array([[1110.69096749,   98.22130447],\n",
       "       [  98.22130447,  617.1137302 ]])"
      ]
     },
     "metadata": {},
     "output_type": "display_data"
    },
    {
     "data": {
      "text/plain": [
       "array([[1536.95795128,  184.99315269],\n",
       "       [ 184.99315269, 3974.86292082]])"
      ]
     },
     "metadata": {},
     "output_type": "display_data"
    },
    {
     "data": {
      "text/plain": [
       "array([[1534.35520357,  166.87094344],\n",
       "       [ 166.87094344, 1264.1977555 ]])"
      ]
     },
     "metadata": {},
     "output_type": "display_data"
    },
    {
     "data": {
      "text/plain": [
       "array([[2149.53627602,  708.10555101],\n",
       "       [ 708.10555101, 2737.15685474]])"
      ]
     },
     "metadata": {},
     "output_type": "display_data"
    },
    {
     "data": {
      "text/plain": [
       "array([[654.73636355, -71.17187548],\n",
       "       [-71.17187548, 913.97484559]])"
      ]
     },
     "metadata": {},
     "output_type": "display_data"
    }
   ],
   "source": [
    "readCovMat3 = np.cov((readingData3['GazePointX (MCSpx)'],readingData3['GazePointY (MCSpx)']))\n",
    "skimmingCovMat3 = np.cov((skimmingData3['GazePointX (MCSpx)'],skimmingData3['GazePointY (MCSpx)']))\n",
    "scanningCovMat3 = np.cov((scanningData3['GazePointX (MCSpx)'],scanningData3['GazePointY (MCSpx)']))\n",
    "unknownCovMat3 = np.cov((unknownData3['GazePointX (MCSpx)'],unknownData3['GazePointY (MCSpx)']))\n",
    "mediaViewCovMat3 = np.cov((mediaViewData3['GazePointX (MCSpx)'],mediaViewData3['GazePointY (MCSpx)']))\n",
    "\n",
    "display(readCovMat3)\n",
    "display(skimmingCovMat3)\n",
    "display(scanningCovMat3)\n",
    "display(unknownCovMat3)\n",
    "display(mediaViewCovMat3)"
   ]
  },
  {
   "cell_type": "code",
   "execution_count": 56,
   "metadata": {},
   "outputs": [
    {
     "data": {
      "text/plain": [
       "[0.0679529459333106, 0.10794384847680781]"
      ]
     },
     "metadata": {},
     "output_type": "display_data"
    },
    {
     "data": {
      "text/plain": [
       "[0.29470533867347387, -0.5916112847145812]"
      ]
     },
     "metadata": {},
     "output_type": "display_data"
    },
    {
     "data": {
      "text/plain": [
       "[0.02510914561042369, -0.026059221390277557]"
      ]
     },
     "metadata": {},
     "output_type": "display_data"
    },
    {
     "data": {
      "text/plain": [
       "[-0.07280368525488314, 0.027861838061846257]"
      ]
     },
     "metadata": {},
     "output_type": "display_data"
    },
    {
     "data": {
      "text/plain": [
       "[-0.6114854026307347, -0.0548604427333975]"
      ]
     },
     "metadata": {},
     "output_type": "display_data"
    }
   ],
   "source": [
    "readingMeanx3 = readingData3['GazePointX (MCSpx)'].mean()\n",
    "readingMeany3 = readingData3['GazePointY (MCSpx)'].mean()\n",
    "readingMeanVector3 = [readingMeanx3,readingMeany3]\n",
    "\n",
    "skimmingMeanx3 = skimmingData3['GazePointX (MCSpx)'].mean()\n",
    "skimmingMeany3 = skimmingData3['GazePointY (MCSpx)'].mean()\n",
    "skimmingMeanVector3 = [skimmingMeanx3,skimmingMeany3]\n",
    "\n",
    "scanningMeanx3 = scanningData3['GazePointX (MCSpx)'].mean()\n",
    "scanningMeany3 = scanningData3['GazePointY (MCSpx)'].mean()\n",
    "scanningMeanVector3 = [scanningMeanx3,scanningMeany3]\n",
    "\n",
    "unknownMeanx3 = unknownData3['GazePointX (MCSpx)'].mean()\n",
    "unknownMeany3 = unknownData3['GazePointY (MCSpx)'].mean()\n",
    "unknownMeanVector3 = [unknownMeanx3,unknownMeany3]\n",
    "\n",
    "mediaViewMeanx3 = mediaViewData3['GazePointX (MCSpx)'].mean()\n",
    "mediaViewMeany3 = mediaViewData3['GazePointY (MCSpx)'].mean()\n",
    "mediaViewMeanVector3 = [mediaViewMeanx3,mediaViewMeany3]\n",
    "\n",
    "display(readingMeanVector3)\n",
    "display(skimmingMeanVector3)\n",
    "display(scanningMeanVector3)\n",
    "display(unknownMeanVector3)\n",
    "display(mediaViewMeanVector3)"
   ]
  },
  {
   "cell_type": "markdown",
   "metadata": {},
   "source": [
    "# Fold 4"
   ]
  },
  {
   "cell_type": "code",
   "execution_count": 57,
   "metadata": {},
   "outputs": [],
   "source": [
    "mypath4 = 'Datasets/Fold4/'\n",
    "mydtaframes4 = {}\n",
    "\n",
    "for index,files in enumerate(os.listdir(mypath4)):\n",
    "    mydtaframes4[\"df_{}\".format(index)] = pd.read_excel('{}/{}'.format(mypath4, files),\n",
    "                                                         sheet_name= 'Sheet1')"
   ]
  },
  {
   "cell_type": "code",
   "execution_count": 58,
   "metadata": {},
   "outputs": [],
   "source": [
    "studiodf4 = {}\n",
    "\n",
    "for index,frames in enumerate(mydtaframes4):\n",
    "    studiodf4[\"{}\".format(index)] = mydtaframes4[frames]"
   ]
  },
  {
   "cell_type": "code",
   "execution_count": 59,
   "metadata": {},
   "outputs": [],
   "source": [
    "for frames in studiodf4:\n",
    "    studiodf4[frames].fillna(method='ffill', inplace= True)"
   ]
  },
  {
   "cell_type": "code",
   "execution_count": 60,
   "metadata": {},
   "outputs": [],
   "source": [
    "allData4 = pd.concat([studiodf4['0'],studiodf4['1'],studiodf4['2'],studiodf4['3'],studiodf4['4']\n",
    "                     ,studiodf4['5'],studiodf4['6'],studiodf4['7'],studiodf4['8'],studiodf4['9']\n",
    "                     ,studiodf4['10'],studiodf4['11'],studiodf4['12'],studiodf4['13'],studiodf4['14']], sort = False)\n",
    "allData4['GazePointX (MCSpx)'].fillna(method='bfill', inplace= True)\n",
    "allData4['GazePointY (MCSpx)'].fillna(method='bfill', inplace= True)"
   ]
  },
  {
   "cell_type": "code",
   "execution_count": 61,
   "metadata": {},
   "outputs": [],
   "source": [
    "allData4['GazePointX (MCSpx)'] = allData4['GazePointX (MCSpx)'].diff()\n",
    "allData4['GazePointY (MCSpx)'] = allData4['GazePointY (MCSpx)'].diff()\n",
    "allData4['GazePointX (MCSpx)'].fillna(method='bfill', inplace= True)\n",
    "allData4['GazePointY (MCSpx)'].fillna(method='bfill', inplace= True)\n"
   ]
  },
  {
   "cell_type": "code",
   "execution_count": 62,
   "metadata": {},
   "outputs": [],
   "source": [
    "readingData4 = allData4.loc[allData4['StudioEventTypeDiff'] == \"Agree_3_Reading\"]\n",
    "skimmingData4 = allData4.loc[allData4['StudioEventTypeDiff'] == \"Agree_2_Skimming\"]\n",
    "scanningData4 = allData4.loc[allData4['StudioEventTypeDiff'] == \"Agree_1_Scanning\"]\n",
    "unknownData4 = allData4.loc[allData4['StudioEventTypeDiff'] == \"Agree_5_Unknown\"]\n",
    "mediaViewData4 = allData4.loc[allData4['StudioEventTypeDiff'] == \"Agree_4_MediaView\"]"
   ]
  },
  {
   "cell_type": "code",
   "execution_count": 63,
   "metadata": {},
   "outputs": [
    {
     "data": {
      "text/plain": [
       "array([[1209.68368031,  116.48185011],\n",
       "       [ 116.48185011,  678.50471111]])"
      ]
     },
     "metadata": {},
     "output_type": "display_data"
    },
    {
     "data": {
      "text/plain": [
       "array([[1856.99852999,  196.48256553],\n",
       "       [ 196.48256553, 4474.87384138]])"
      ]
     },
     "metadata": {},
     "output_type": "display_data"
    },
    {
     "data": {
      "text/plain": [
       "array([[1966.9732301 ,  288.96552874],\n",
       "       [ 288.96552874, 1575.77310709]])"
      ]
     },
     "metadata": {},
     "output_type": "display_data"
    },
    {
     "data": {
      "text/plain": [
       "array([[2183.31420931,  640.46595065],\n",
       "       [ 640.46595065, 2648.22112941]])"
      ]
     },
     "metadata": {},
     "output_type": "display_data"
    },
    {
     "data": {
      "text/plain": [
       "array([[1888.57658879, -493.30757922],\n",
       "       [-493.30757922, 1496.92895291]])"
      ]
     },
     "metadata": {},
     "output_type": "display_data"
    }
   ],
   "source": [
    "readCovMat4 = np.cov((readingData4['GazePointX (MCSpx)'],readingData4['GazePointY (MCSpx)']))\n",
    "skimmingCovMat4 = np.cov((skimmingData4['GazePointX (MCSpx)'],skimmingData4['GazePointY (MCSpx)']))\n",
    "scanningCovMat4 = np.cov((scanningData4['GazePointX (MCSpx)'],scanningData4['GazePointY (MCSpx)']))\n",
    "unknownCovMat4 = np.cov((unknownData4['GazePointX (MCSpx)'],unknownData4['GazePointY (MCSpx)']))\n",
    "mediaViewCovMat4 = np.cov((mediaViewData4['GazePointX (MCSpx)'],mediaViewData4['GazePointY (MCSpx)']))\n",
    "\n",
    "display(readCovMat4)\n",
    "display(skimmingCovMat4)\n",
    "display(scanningCovMat4)\n",
    "display(unknownCovMat4)\n",
    "display(mediaViewCovMat4)"
   ]
  },
  {
   "cell_type": "code",
   "execution_count": 64,
   "metadata": {},
   "outputs": [
    {
     "data": {
      "text/plain": [
       "[0.0993426873972949, 0.09000126406269751]"
      ]
     },
     "metadata": {},
     "output_type": "display_data"
    },
    {
     "data": {
      "text/plain": [
       "[0.4078805602585809, -0.6966292134831461]"
      ]
     },
     "metadata": {},
     "output_type": "display_data"
    },
    {
     "data": {
      "text/plain": [
       "[0.026479975290847318, -0.018614228353752704]"
      ]
     },
     "metadata": {},
     "output_type": "display_data"
    },
    {
     "data": {
      "text/plain": [
       "[-0.07606059919321942, 0.06723926936500023]"
      ]
     },
     "metadata": {},
     "output_type": "display_data"
    },
    {
     "data": {
      "text/plain": [
       "[-1.5108184383819379, 0.47365945437441204]"
      ]
     },
     "metadata": {},
     "output_type": "display_data"
    }
   ],
   "source": [
    "readingMeanx4 = readingData4['GazePointX (MCSpx)'].mean()\n",
    "readingMeany4 = readingData4['GazePointY (MCSpx)'].mean()\n",
    "readingMeanVector4 = [readingMeanx4,readingMeany4]\n",
    "\n",
    "skimmingMeanx4 = skimmingData4['GazePointX (MCSpx)'].mean()\n",
    "skimmingMeany4 = skimmingData4['GazePointY (MCSpx)'].mean()\n",
    "skimmingMeanVector4 = [skimmingMeanx4,skimmingMeany4]\n",
    "\n",
    "scanningMeanx4 = scanningData4['GazePointX (MCSpx)'].mean()\n",
    "scanningMeany4 = scanningData4['GazePointY (MCSpx)'].mean()\n",
    "scanningMeanVector4 = [scanningMeanx4,scanningMeany4]\n",
    "\n",
    "unknownMeanx4 = unknownData4['GazePointX (MCSpx)'].mean()\n",
    "unknownMeany4 = unknownData4['GazePointY (MCSpx)'].mean()\n",
    "unknownMeanVector4 = [unknownMeanx4,unknownMeany4]\n",
    "\n",
    "mediaViewMeanx4 = mediaViewData4['GazePointX (MCSpx)'].mean()\n",
    "mediaViewMeany4 = mediaViewData4['GazePointY (MCSpx)'].mean()\n",
    "mediaViewMeanVector4 = [mediaViewMeanx4,mediaViewMeany4]\n",
    "\n",
    "display(readingMeanVector4)\n",
    "display(skimmingMeanVector4)\n",
    "display(scanningMeanVector4)\n",
    "display(unknownMeanVector4)\n",
    "display(mediaViewMeanVector4)"
   ]
  },
  {
   "cell_type": "markdown",
   "metadata": {},
   "source": [
    "# Fold 5"
   ]
  },
  {
   "cell_type": "code",
   "execution_count": 65,
   "metadata": {},
   "outputs": [],
   "source": [
    "mypath5 = 'Datasets/Fold5/'\n",
    "mydtaframes5 = {}\n",
    "\n",
    "for index,files in enumerate(os.listdir(mypath5)):\n",
    "    mydtaframes5[\"df_{}\".format(index)] = pd.read_excel('{}/{}'.format(mypath5, files),\n",
    "                                                         sheet_name= 'Sheet1')"
   ]
  },
  {
   "cell_type": "code",
   "execution_count": 66,
   "metadata": {},
   "outputs": [],
   "source": [
    "studiodf5 = {}\n",
    "\n",
    "for index,frames in enumerate(mydtaframes5):\n",
    "    studiodf5[\"{}\".format(index)] = mydtaframes5[frames]"
   ]
  },
  {
   "cell_type": "code",
   "execution_count": 67,
   "metadata": {},
   "outputs": [],
   "source": [
    "for frames in studiodf5:\n",
    "    studiodf5[frames].fillna(method='ffill', inplace= True)"
   ]
  },
  {
   "cell_type": "code",
   "execution_count": 68,
   "metadata": {},
   "outputs": [],
   "source": [
    "allData5 = pd.concat([studiodf5['0'],studiodf5['1'],studiodf5['2'],studiodf5['3'],studiodf5['4']\n",
    "                     ,studiodf5['5'],studiodf5['6'],studiodf5['7'],studiodf5['8'],studiodf5['9']\n",
    "                     ,studiodf5['10'],studiodf5['11'],studiodf5['12'],studiodf5['13'],studiodf5['14']], sort = False)\n",
    "allData5['GazePointX (MCSpx)'].fillna(method='bfill', inplace= True)\n",
    "allData5['GazePointY (MCSpx)'].fillna(method='bfill', inplace= True)"
   ]
  },
  {
   "cell_type": "code",
   "execution_count": 69,
   "metadata": {},
   "outputs": [],
   "source": [
    "allData5['GazePointX (MCSpx)'] = allData5['GazePointX (MCSpx)'].diff()\n",
    "allData5['GazePointY (MCSpx)'] = allData5['GazePointY (MCSpx)'].diff()\n",
    "allData5['GazePointX (MCSpx)'].fillna(method='bfill', inplace= True)\n",
    "allData5['GazePointY (MCSpx)'].fillna(method='bfill', inplace= True)\n"
   ]
  },
  {
   "cell_type": "code",
   "execution_count": 70,
   "metadata": {},
   "outputs": [],
   "source": [
    "readingData5 = allData5.loc[allData5['StudioEventTypeDiff'] == \"Agree_3_Reading\"]\n",
    "skimmingData5 = allData5.loc[allData5['StudioEventTypeDiff'] == \"Agree_2_Skimming\"]\n",
    "scanningData5 = allData5.loc[allData5['StudioEventTypeDiff'] == \"Agree_1_Scanning\"]\n",
    "unknownData5 = allData5.loc[allData5['StudioEventTypeDiff'] == \"Agree_5_Unknown\"]\n",
    "mediaViewData5 = allData5.loc[allData5['StudioEventTypeDiff'] == \"Agree_4_MediaView\"]"
   ]
  },
  {
   "cell_type": "code",
   "execution_count": 71,
   "metadata": {},
   "outputs": [
    {
     "data": {
      "text/plain": [
       "array([[1187.30302354,  135.70934629],\n",
       "       [ 135.70934629,  728.27385289]])"
      ]
     },
     "metadata": {},
     "output_type": "display_data"
    },
    {
     "data": {
      "text/plain": [
       "array([[1840.33208104,  237.12812375],\n",
       "       [ 237.12812375, 4202.62440719]])"
      ]
     },
     "metadata": {},
     "output_type": "display_data"
    },
    {
     "data": {
      "text/plain": [
       "array([[1809.65412004,  292.22588971],\n",
       "       [ 292.22588971, 1604.55710374]])"
      ]
     },
     "metadata": {},
     "output_type": "display_data"
    },
    {
     "data": {
      "text/plain": [
       "array([[2017.70067743,  651.36817897],\n",
       "       [ 651.36817897, 2689.03248665]])"
      ]
     },
     "metadata": {},
     "output_type": "display_data"
    },
    {
     "data": {
      "text/plain": [
       "array([[1850.73564334, -410.12711521],\n",
       "       [-410.12711521, 1388.08187964]])"
      ]
     },
     "metadata": {},
     "output_type": "display_data"
    }
   ],
   "source": [
    "readCovMat5 = np.cov((readingData5['GazePointX (MCSpx)'],readingData5['GazePointY (MCSpx)']))\n",
    "skimmingCovMat5 = np.cov((skimmingData5['GazePointX (MCSpx)'],skimmingData5['GazePointY (MCSpx)']))\n",
    "scanningCovMat5 = np.cov((scanningData5['GazePointX (MCSpx)'],scanningData5['GazePointY (MCSpx)']))\n",
    "unknownCovMat5 = np.cov((unknownData5['GazePointX (MCSpx)'],unknownData5['GazePointY (MCSpx)']))\n",
    "mediaViewCovMat5 = np.cov((mediaViewData5['GazePointX (MCSpx)'],mediaViewData5['GazePointY (MCSpx)']))\n",
    "\n",
    "display(readCovMat5)\n",
    "display(skimmingCovMat5)\n",
    "display(scanningCovMat5)\n",
    "display(unknownCovMat5)\n",
    "display(mediaViewCovMat5)"
   ]
  },
  {
   "cell_type": "code",
   "execution_count": 72,
   "metadata": {},
   "outputs": [
    {
     "data": {
      "text/plain": [
       "[0.08360325873576757, 0.07119895956026698]"
      ]
     },
     "metadata": {},
     "output_type": "display_data"
    },
    {
     "data": {
      "text/plain": [
       "[0.3693995437114703, -0.7066161836804039]"
      ]
     },
     "metadata": {},
     "output_type": "display_data"
    },
    {
     "data": {
      "text/plain": [
       "[-0.006989141164856861, -0.05624876604146101]"
      ]
     },
     "metadata": {},
     "output_type": "display_data"
    },
    {
     "data": {
      "text/plain": [
       "[-0.05340501025991792, 0.0833671768125855]"
      ]
     },
     "metadata": {},
     "output_type": "display_data"
    },
    {
     "data": {
      "text/plain": [
       "[-1.0043103448275863, 0.021982758620689654]"
      ]
     },
     "metadata": {},
     "output_type": "display_data"
    }
   ],
   "source": [
    "readingMeanx5 = readingData5['GazePointX (MCSpx)'].mean()\n",
    "readingMeany5 = readingData5['GazePointY (MCSpx)'].mean()\n",
    "readingMeanVector5 = [readingMeanx5,readingMeany5]\n",
    "\n",
    "skimmingMeanx5 = skimmingData5['GazePointX (MCSpx)'].mean()\n",
    "skimmingMeany5 = skimmingData5['GazePointY (MCSpx)'].mean()\n",
    "skimmingMeanVector5 = [skimmingMeanx5,skimmingMeany5]\n",
    "\n",
    "scanningMeanx5 = scanningData5['GazePointX (MCSpx)'].mean()\n",
    "scanningMeany5 = scanningData5['GazePointY (MCSpx)'].mean()\n",
    "scanningMeanVector5 = [scanningMeanx5,scanningMeany5]\n",
    "\n",
    "unknownMeanx5 = unknownData5['GazePointX (MCSpx)'].mean()\n",
    "unknownMeany5 = unknownData5['GazePointY (MCSpx)'].mean()\n",
    "unknownMeanVector5 = [unknownMeanx5,unknownMeany5]\n",
    "\n",
    "mediaViewMeanx5 = mediaViewData5['GazePointX (MCSpx)'].mean()\n",
    "mediaViewMeany5 = mediaViewData5['GazePointY (MCSpx)'].mean()\n",
    "mediaViewMeanVector5 = [mediaViewMeanx5,mediaViewMeany5]\n",
    "\n",
    "display(readingMeanVector5)\n",
    "display(skimmingMeanVector5)\n",
    "display(scanningMeanVector5)\n",
    "display(unknownMeanVector5)\n",
    "display(mediaViewMeanVector5)"
   ]
  },
  {
   "cell_type": "markdown",
   "metadata": {},
   "source": [
    "# Fold 6"
   ]
  },
  {
   "cell_type": "code",
   "execution_count": 73,
   "metadata": {},
   "outputs": [],
   "source": [
    "mypath6 = 'Datasets/Fold6/'\n",
    "mydtaframes6 = {}\n",
    "\n",
    "for index,files in enumerate(os.listdir(mypath6)):\n",
    "    mydtaframes6[\"df_{}\".format(index)] = pd.read_excel('{}/{}'.format(mypath6, files),\n",
    "                                                         sheet_name= 'Sheet1')"
   ]
  },
  {
   "cell_type": "code",
   "execution_count": 74,
   "metadata": {},
   "outputs": [],
   "source": [
    "studiodf6 = {}\n",
    "\n",
    "for index,frames in enumerate(mydtaframes6):\n",
    "    studiodf6[\"{}\".format(index)] = mydtaframes6[frames]"
   ]
  },
  {
   "cell_type": "code",
   "execution_count": 75,
   "metadata": {},
   "outputs": [],
   "source": [
    "for frames in studiodf6:\n",
    "    studiodf6[frames].fillna(method='ffill', inplace= True)"
   ]
  },
  {
   "cell_type": "code",
   "execution_count": 76,
   "metadata": {},
   "outputs": [],
   "source": [
    "allData6 = pd.concat([studiodf6['0'],studiodf6['1'],studiodf6['2'],studiodf6['3'],studiodf6['4']\n",
    "                     ,studiodf6['5'],studiodf6['6'],studiodf6['7'],studiodf6['8'],studiodf6['9']\n",
    "                     ,studiodf6['10'],studiodf6['11'],studiodf6['12'],studiodf6['13'],studiodf6['14']], sort = False)\n",
    "allData6['GazePointX (MCSpx)'].fillna(method='bfill', inplace= True)\n",
    "allData6['GazePointY (MCSpx)'].fillna(method='bfill', inplace= True)"
   ]
  },
  {
   "cell_type": "code",
   "execution_count": 77,
   "metadata": {},
   "outputs": [],
   "source": [
    "allData6['GazePointX (MCSpx)'] = allData6['GazePointX (MCSpx)'].diff()\n",
    "allData6['GazePointY (MCSpx)'] = allData6['GazePointY (MCSpx)'].diff()\n",
    "allData6['GazePointX (MCSpx)'].fillna(method='bfill', inplace= True)\n",
    "allData6['GazePointY (MCSpx)'].fillna(method='bfill', inplace= True)\n"
   ]
  },
  {
   "cell_type": "code",
   "execution_count": 78,
   "metadata": {},
   "outputs": [],
   "source": [
    "readingData6 = allData6.loc[allData6['StudioEventTypeDiff'] == \"Agree_3_Reading\"]\n",
    "skimmingData6 = allData6.loc[allData6['StudioEventTypeDiff'] == \"Agree_2_Skimming\"]\n",
    "scanningData6 = allData6.loc[allData6['StudioEventTypeDiff'] == \"Agree_1_Scanning\"]\n",
    "unknownData6 = allData6.loc[allData6['StudioEventTypeDiff'] == \"Agree_5_Unknown\"]\n",
    "mediaViewData6 = allData6.loc[allData6['StudioEventTypeDiff'] == \"Agree_4_MediaView\"]"
   ]
  },
  {
   "cell_type": "code",
   "execution_count": 79,
   "metadata": {},
   "outputs": [
    {
     "data": {
      "text/plain": [
       "array([[1223.70685949,  168.33740729],\n",
       "       [ 168.33740729,  810.76398029]])"
      ]
     },
     "metadata": {},
     "output_type": "display_data"
    },
    {
     "data": {
      "text/plain": [
       "array([[1746.74252602,  206.45679967],\n",
       "       [ 206.45679967, 3927.51205563]])"
      ]
     },
     "metadata": {},
     "output_type": "display_data"
    },
    {
     "data": {
      "text/plain": [
       "array([[1901.14104876,  307.75961241],\n",
       "       [ 307.75961241, 1606.50590675]])"
      ]
     },
     "metadata": {},
     "output_type": "display_data"
    },
    {
     "data": {
      "text/plain": [
       "array([[1816.55000326,  675.07144368],\n",
       "       [ 675.07144368, 2548.84218318]])"
      ]
     },
     "metadata": {},
     "output_type": "display_data"
    },
    {
     "data": {
      "text/plain": [
       "array([[1922.47066957, -383.06551818],\n",
       "       [-383.06551818, 1367.8950435 ]])"
      ]
     },
     "metadata": {},
     "output_type": "display_data"
    }
   ],
   "source": [
    "readCovMat6 = np.cov((readingData6['GazePointX (MCSpx)'],readingData6['GazePointY (MCSpx)']))\n",
    "skimmingCovMat6 = np.cov((skimmingData6['GazePointX (MCSpx)'],skimmingData6['GazePointY (MCSpx)']))\n",
    "scanningCovMat6 = np.cov((scanningData6['GazePointX (MCSpx)'],scanningData6['GazePointY (MCSpx)']))\n",
    "unknownCovMat6 = np.cov((unknownData6['GazePointX (MCSpx)'],unknownData6['GazePointY (MCSpx)']))\n",
    "mediaViewCovMat6 = np.cov((mediaViewData6['GazePointX (MCSpx)'],mediaViewData6['GazePointY (MCSpx)']))\n",
    "\n",
    "display(readCovMat6)\n",
    "display(skimmingCovMat6)\n",
    "display(scanningCovMat6)\n",
    "display(unknownCovMat6)\n",
    "display(mediaViewCovMat6)"
   ]
  },
  {
   "cell_type": "code",
   "execution_count": 80,
   "metadata": {},
   "outputs": [
    {
     "data": {
      "text/plain": [
       "[-0.0416769610870908, 0.05007720815318097]"
      ]
     },
     "metadata": {},
     "output_type": "display_data"
    },
    {
     "data": {
      "text/plain": [
       "[0.32107544073715655, -0.7300879370555813]"
      ]
     },
     "metadata": {},
     "output_type": "display_data"
    },
    {
     "data": {
      "text/plain": [
       "[-0.10728676964405641, -0.04650772330423103]"
      ]
     },
     "metadata": {},
     "output_type": "display_data"
    },
    {
     "data": {
      "text/plain": [
       "[-0.05041004570730822, 0.07354421398280613]"
      ]
     },
     "metadata": {},
     "output_type": "display_data"
    },
    {
     "data": {
      "text/plain": [
       "[-1.0968448729184925, 0.2287467134092901]"
      ]
     },
     "metadata": {},
     "output_type": "display_data"
    }
   ],
   "source": [
    "readingMeanx6 = readingData6['GazePointX (MCSpx)'].mean()\n",
    "readingMeany6 = readingData6['GazePointY (MCSpx)'].mean()\n",
    "readingMeanVector6 = [readingMeanx6,readingMeany6]\n",
    "\n",
    "skimmingMeanx6 = skimmingData6['GazePointX (MCSpx)'].mean()\n",
    "skimmingMeany6 = skimmingData6['GazePointY (MCSpx)'].mean()\n",
    "skimmingMeanVector6 = [skimmingMeanx6,skimmingMeany6]\n",
    "\n",
    "scanningMeanx6 = scanningData6['GazePointX (MCSpx)'].mean()\n",
    "scanningMeany6 = scanningData6['GazePointY (MCSpx)'].mean()\n",
    "scanningMeanVector6 = [scanningMeanx6,scanningMeany6]\n",
    "\n",
    "unknownMeanx6 = unknownData6['GazePointX (MCSpx)'].mean()\n",
    "unknownMeany6 = unknownData6['GazePointY (MCSpx)'].mean()\n",
    "unknownMeanVector6 = [unknownMeanx6,unknownMeany6]\n",
    "\n",
    "mediaViewMeanx6 = mediaViewData6['GazePointX (MCSpx)'].mean()\n",
    "mediaViewMeany6 = mediaViewData6['GazePointY (MCSpx)'].mean()\n",
    "mediaViewMeanVector6 = [mediaViewMeanx6,mediaViewMeany6]\n",
    "\n",
    "display(readingMeanVector6)\n",
    "display(skimmingMeanVector6)\n",
    "display(scanningMeanVector6)\n",
    "display(unknownMeanVector6)\n",
    "display(mediaViewMeanVector6)"
   ]
  },
  {
   "cell_type": "markdown",
   "metadata": {},
   "source": [
    "# Parameters with 15 files"
   ]
  },
  {
   "cell_type": "code",
   "execution_count": 2,
   "metadata": {},
   "outputs": [],
   "source": [
    "import pandas as pd\n",
    "import matplotlib.pyplot as plt\n",
    "import numpy as np\n",
    "import os\n",
    "from scipy.stats import multivariate_normal\n",
    "pd.set_option('display.max_columns', None)  \n"
   ]
  },
  {
   "cell_type": "code",
   "execution_count": 2,
   "metadata": {},
   "outputs": [],
   "source": [
    "mypath = 'Datasets/Gaze10minData/'\n",
    "mydtaframes = {}\n",
    "\n",
    "for index,files in enumerate(os.listdir(mypath)):\n",
    "    mydtaframes[\"df_{}\".format(index)] = pd.read_excel('{}/{}'.format(mypath, files),\n",
    "                                                         sheet_name= 'Sheet1')"
   ]
  },
  {
   "cell_type": "code",
   "execution_count": 3,
   "metadata": {},
   "outputs": [
    {
     "data": {
      "text/html": [
       "<div>\n",
       "<style scoped>\n",
       "    .dataframe tbody tr th:only-of-type {\n",
       "        vertical-align: middle;\n",
       "    }\n",
       "\n",
       "    .dataframe tbody tr th {\n",
       "        vertical-align: top;\n",
       "    }\n",
       "\n",
       "    .dataframe thead th {\n",
       "        text-align: right;\n",
       "    }\n",
       "</style>\n",
       "<table border=\"1\" class=\"dataframe\">\n",
       "  <thead>\n",
       "    <tr style=\"text-align: right;\">\n",
       "      <th></th>\n",
       "      <th>ParticipantName</th>\n",
       "      <th>RecordingDuration</th>\n",
       "      <th>RecordingTimestamp</th>\n",
       "      <th>LocalTimeStamp</th>\n",
       "      <th>EyeTrackerTimestamp</th>\n",
       "      <th>MouseEventIndex</th>\n",
       "      <th>MouseEventX (MCSpx)</th>\n",
       "      <th>MouseEventY (MCSpx)</th>\n",
       "      <th>KeyPressEventIndex</th>\n",
       "      <th>StudioEventIndex</th>\n",
       "      <th>StudioEventIndex_B</th>\n",
       "      <th>StudioEvent</th>\n",
       "      <th>StudioEvent_B</th>\n",
       "      <th>FixationIndex</th>\n",
       "      <th>SaccadeIndex</th>\n",
       "      <th>GazeEventType</th>\n",
       "      <th>GazeEventType_B</th>\n",
       "      <th>GazeEventDuration</th>\n",
       "      <th>FixationPointX (MCSpx)</th>\n",
       "      <th>FixationPointY (MCSpx)</th>\n",
       "      <th>AbsoluteSaccadicDirection</th>\n",
       "      <th>RelativeSaccadicDirection</th>\n",
       "      <th>GazePointIndex</th>\n",
       "      <th>GazePointX (MCSpx)</th>\n",
       "      <th>GazePointY (MCSpx)</th>\n",
       "      <th>PupilLeft</th>\n",
       "      <th>PupilRight</th>\n",
       "      <th>ValidityLeft</th>\n",
       "      <th>ValidityRight</th>\n",
       "      <th>StudioEventTypeDiff</th>\n",
       "      <th>GazeEventTypeDiff</th>\n",
       "    </tr>\n",
       "  </thead>\n",
       "  <tbody>\n",
       "    <tr>\n",
       "      <th>0</th>\n",
       "      <td>Proband_31_D2</td>\n",
       "      <td>2895701</td>\n",
       "      <td>440</td>\n",
       "      <td>13:25:24.097</td>\n",
       "      <td>1.458043e+15</td>\n",
       "      <td>NaN</td>\n",
       "      <td>NaN</td>\n",
       "      <td>NaN</td>\n",
       "      <td>NaN</td>\n",
       "      <td>NaN</td>\n",
       "      <td>NaN</td>\n",
       "      <td>0_unstated</td>\n",
       "      <td>0_unstated</td>\n",
       "      <td>NaN</td>\n",
       "      <td>2.0</td>\n",
       "      <td>Saccade</td>\n",
       "      <td>Saccade</td>\n",
       "      <td>133</td>\n",
       "      <td>NaN</td>\n",
       "      <td>NaN</td>\n",
       "      <td>NaN</td>\n",
       "      <td>NaN</td>\n",
       "      <td>21.0</td>\n",
       "      <td>66.0</td>\n",
       "      <td>220.0</td>\n",
       "      <td>2,74</td>\n",
       "      <td>2,59</td>\n",
       "      <td>0.0</td>\n",
       "      <td>0.0</td>\n",
       "      <td>Agree_0_unstated</td>\n",
       "      <td>Agree_Saccade</td>\n",
       "    </tr>\n",
       "    <tr>\n",
       "      <th>1</th>\n",
       "      <td>Proband_31_D2</td>\n",
       "      <td>2895701</td>\n",
       "      <td>456</td>\n",
       "      <td>13:25:24.114</td>\n",
       "      <td>1.458043e+15</td>\n",
       "      <td>NaN</td>\n",
       "      <td>NaN</td>\n",
       "      <td>NaN</td>\n",
       "      <td>NaN</td>\n",
       "      <td>NaN</td>\n",
       "      <td>NaN</td>\n",
       "      <td>0_unstated</td>\n",
       "      <td>0_unstated</td>\n",
       "      <td>NaN</td>\n",
       "      <td>2.0</td>\n",
       "      <td>Saccade</td>\n",
       "      <td>Saccade</td>\n",
       "      <td>133</td>\n",
       "      <td>NaN</td>\n",
       "      <td>NaN</td>\n",
       "      <td>NaN</td>\n",
       "      <td>NaN</td>\n",
       "      <td>22.0</td>\n",
       "      <td>20.0</td>\n",
       "      <td>166.0</td>\n",
       "      <td>2,59</td>\n",
       "      <td>2,54</td>\n",
       "      <td>0.0</td>\n",
       "      <td>0.0</td>\n",
       "      <td>Agree_0_unstated</td>\n",
       "      <td>Agree_Saccade</td>\n",
       "    </tr>\n",
       "    <tr>\n",
       "      <th>2</th>\n",
       "      <td>Proband_31_D2</td>\n",
       "      <td>2895701</td>\n",
       "      <td>473</td>\n",
       "      <td>13:25:24.131</td>\n",
       "      <td>1.458043e+15</td>\n",
       "      <td>NaN</td>\n",
       "      <td>NaN</td>\n",
       "      <td>NaN</td>\n",
       "      <td>NaN</td>\n",
       "      <td>NaN</td>\n",
       "      <td>NaN</td>\n",
       "      <td>0_unstated</td>\n",
       "      <td>0_unstated</td>\n",
       "      <td>2.0</td>\n",
       "      <td>NaN</td>\n",
       "      <td>Fixation</td>\n",
       "      <td>Fixation</td>\n",
       "      <td>200</td>\n",
       "      <td>45.0</td>\n",
       "      <td>168.0</td>\n",
       "      <td>339,44</td>\n",
       "      <td>NaN</td>\n",
       "      <td>23.0</td>\n",
       "      <td>20.0</td>\n",
       "      <td>168.0</td>\n",
       "      <td>NaN</td>\n",
       "      <td>2,62</td>\n",
       "      <td>4.0</td>\n",
       "      <td>0.0</td>\n",
       "      <td>Agree_0_unstated</td>\n",
       "      <td>Agree_Fixation</td>\n",
       "    </tr>\n",
       "    <tr>\n",
       "      <th>3</th>\n",
       "      <td>Proband_31_D2</td>\n",
       "      <td>2895701</td>\n",
       "      <td>490</td>\n",
       "      <td>13:25:24.147</td>\n",
       "      <td>1.458043e+15</td>\n",
       "      <td>NaN</td>\n",
       "      <td>NaN</td>\n",
       "      <td>NaN</td>\n",
       "      <td>NaN</td>\n",
       "      <td>NaN</td>\n",
       "      <td>NaN</td>\n",
       "      <td>0_unstated</td>\n",
       "      <td>0_unstated</td>\n",
       "      <td>2.0</td>\n",
       "      <td>NaN</td>\n",
       "      <td>Fixation</td>\n",
       "      <td>Fixation</td>\n",
       "      <td>200</td>\n",
       "      <td>45.0</td>\n",
       "      <td>168.0</td>\n",
       "      <td>339,44</td>\n",
       "      <td>NaN</td>\n",
       "      <td>24.0</td>\n",
       "      <td>36.0</td>\n",
       "      <td>171.0</td>\n",
       "      <td>2,58</td>\n",
       "      <td>2,50</td>\n",
       "      <td>0.0</td>\n",
       "      <td>0.0</td>\n",
       "      <td>Agree_0_unstated</td>\n",
       "      <td>Agree_Fixation</td>\n",
       "    </tr>\n",
       "    <tr>\n",
       "      <th>4</th>\n",
       "      <td>Proband_31_D2</td>\n",
       "      <td>2895701</td>\n",
       "      <td>506</td>\n",
       "      <td>13:25:24.164</td>\n",
       "      <td>1.458043e+15</td>\n",
       "      <td>NaN</td>\n",
       "      <td>NaN</td>\n",
       "      <td>NaN</td>\n",
       "      <td>NaN</td>\n",
       "      <td>NaN</td>\n",
       "      <td>NaN</td>\n",
       "      <td>0_unstated</td>\n",
       "      <td>0_unstated</td>\n",
       "      <td>2.0</td>\n",
       "      <td>NaN</td>\n",
       "      <td>Fixation</td>\n",
       "      <td>Fixation</td>\n",
       "      <td>200</td>\n",
       "      <td>45.0</td>\n",
       "      <td>168.0</td>\n",
       "      <td>339,44</td>\n",
       "      <td>NaN</td>\n",
       "      <td>25.0</td>\n",
       "      <td>66.0</td>\n",
       "      <td>224.0</td>\n",
       "      <td>2,74</td>\n",
       "      <td>2,60</td>\n",
       "      <td>0.0</td>\n",
       "      <td>0.0</td>\n",
       "      <td>Agree_0_unstated</td>\n",
       "      <td>Agree_Fixation</td>\n",
       "    </tr>\n",
       "  </tbody>\n",
       "</table>\n",
       "</div>"
      ],
      "text/plain": [
       "  ParticipantName  RecordingDuration  RecordingTimestamp LocalTimeStamp  \\\n",
       "0   Proband_31_D2            2895701                 440   13:25:24.097   \n",
       "1   Proband_31_D2            2895701                 456   13:25:24.114   \n",
       "2   Proband_31_D2            2895701                 473   13:25:24.131   \n",
       "3   Proband_31_D2            2895701                 490   13:25:24.147   \n",
       "4   Proband_31_D2            2895701                 506   13:25:24.164   \n",
       "\n",
       "   EyeTrackerTimestamp  MouseEventIndex  MouseEventX (MCSpx)  \\\n",
       "0         1.458043e+15              NaN                  NaN   \n",
       "1         1.458043e+15              NaN                  NaN   \n",
       "2         1.458043e+15              NaN                  NaN   \n",
       "3         1.458043e+15              NaN                  NaN   \n",
       "4         1.458043e+15              NaN                  NaN   \n",
       "\n",
       "   MouseEventY (MCSpx)  KeyPressEventIndex  StudioEventIndex  \\\n",
       "0                  NaN                 NaN               NaN   \n",
       "1                  NaN                 NaN               NaN   \n",
       "2                  NaN                 NaN               NaN   \n",
       "3                  NaN                 NaN               NaN   \n",
       "4                  NaN                 NaN               NaN   \n",
       "\n",
       "   StudioEventIndex_B StudioEvent StudioEvent_B  FixationIndex  SaccadeIndex  \\\n",
       "0                 NaN  0_unstated    0_unstated            NaN           2.0   \n",
       "1                 NaN  0_unstated    0_unstated            NaN           2.0   \n",
       "2                 NaN  0_unstated    0_unstated            2.0           NaN   \n",
       "3                 NaN  0_unstated    0_unstated            2.0           NaN   \n",
       "4                 NaN  0_unstated    0_unstated            2.0           NaN   \n",
       "\n",
       "  GazeEventType GazeEventType_B  GazeEventDuration  FixationPointX (MCSpx)  \\\n",
       "0       Saccade         Saccade                133                     NaN   \n",
       "1       Saccade         Saccade                133                     NaN   \n",
       "2      Fixation        Fixation                200                    45.0   \n",
       "3      Fixation        Fixation                200                    45.0   \n",
       "4      Fixation        Fixation                200                    45.0   \n",
       "\n",
       "   FixationPointY (MCSpx) AbsoluteSaccadicDirection RelativeSaccadicDirection  \\\n",
       "0                     NaN                       NaN                       NaN   \n",
       "1                     NaN                       NaN                       NaN   \n",
       "2                   168.0                    339,44                       NaN   \n",
       "3                   168.0                    339,44                       NaN   \n",
       "4                   168.0                    339,44                       NaN   \n",
       "\n",
       "   GazePointIndex  GazePointX (MCSpx)  GazePointY (MCSpx) PupilLeft  \\\n",
       "0            21.0                66.0               220.0      2,74   \n",
       "1            22.0                20.0               166.0      2,59   \n",
       "2            23.0                20.0               168.0       NaN   \n",
       "3            24.0                36.0               171.0      2,58   \n",
       "4            25.0                66.0               224.0      2,74   \n",
       "\n",
       "  PupilRight  ValidityLeft  ValidityRight StudioEventTypeDiff  \\\n",
       "0       2,59           0.0            0.0    Agree_0_unstated   \n",
       "1       2,54           0.0            0.0    Agree_0_unstated   \n",
       "2       2,62           4.0            0.0    Agree_0_unstated   \n",
       "3       2,50           0.0            0.0    Agree_0_unstated   \n",
       "4       2,60           0.0            0.0    Agree_0_unstated   \n",
       "\n",
       "  GazeEventTypeDiff  \n",
       "0     Agree_Saccade  \n",
       "1     Agree_Saccade  \n",
       "2    Agree_Fixation  \n",
       "3    Agree_Fixation  \n",
       "4    Agree_Fixation  "
      ]
     },
     "execution_count": 3,
     "metadata": {},
     "output_type": "execute_result"
    }
   ],
   "source": [
    "mydtaframes['df_1'].head()"
   ]
  },
  {
   "cell_type": "code",
   "execution_count": null,
   "metadata": {},
   "outputs": [],
   "source": []
  },
  {
   "cell_type": "code",
   "execution_count": 4,
   "metadata": {},
   "outputs": [],
   "source": [
    "studiodf = {}\n",
    "\n",
    "for index,frames in enumerate(mydtaframes):\n",
    "    studiodf[\"{}\".format(index)] = mydtaframes[frames]\n",
    "    #studiodf[\"{}\".format(index)] = mydtaframes[frames].loc[(mydtaframes[frames]['StudioEventTypeDiff'] == \"Agree_1_Scanning\") | (mydtaframes[frames]['StudioEventTypeDiff'] == \"Agree_2_Skimming\") | (mydtaframes[frames]['StudioEventTypeDiff'] == \"Agree_3_Reading\"),['LocalTimeStamp','FixationPointX (MCSpx)','FixationPointY (MCSpx)','StudioEventTypeDiff']]\n",
    "# studiodf = df1.loc[(df1['StudioEventTypeDiff'] == \"Agree_1_Scanning\") | (df1['StudioEventTypeDiff'] == \"Agree_2_Skimming\") | (df1['StudioEventTypeDiff'] == \"Agree_3_Reading\"),['LocalTimeStamp','FixationPointX (MCSpx)','FixationPointY (MCSpx)','StudioEventTypeDiff']]\n",
    "# studiodf.head()"
   ]
  },
  {
   "cell_type": "code",
   "execution_count": 5,
   "metadata": {},
   "outputs": [
    {
     "data": {
      "text/plain": [
       "13"
      ]
     },
     "execution_count": 5,
     "metadata": {},
     "output_type": "execute_result"
    }
   ],
   "source": [
    "len(studiodf)"
   ]
  },
  {
   "cell_type": "code",
   "execution_count": 6,
   "metadata": {},
   "outputs": [],
   "source": [
    "for frames in studiodf:\n",
    "    studiodf[frames].fillna(method='ffill', inplace= True)"
   ]
  },
  {
   "cell_type": "code",
   "execution_count": 7,
   "metadata": {},
   "outputs": [],
   "source": [
    "\n",
    "allData = pd.concat([studiodf['0'],studiodf['1'],studiodf['2'],studiodf['3'],studiodf['4'],studiodf['5'],\n",
    "                    studiodf['6'],studiodf['7'],studiodf['8'],studiodf['9'],studiodf['10'],studiodf['11'],\n",
    "                    studiodf['12'],], sort = False)\n",
    "allData['GazePointX (MCSpx)'].fillna(method='bfill', inplace= True)\n",
    "allData['GazePointY (MCSpx)'].fillna(method='bfill', inplace= True)"
   ]
  },
  {
   "cell_type": "code",
   "execution_count": 8,
   "metadata": {},
   "outputs": [],
   "source": [
    "allData['GazePointX (MCSpx)'] = allData['GazePointX (MCSpx)'].diff()\n",
    "allData['GazePointY (MCSpx)'] = allData['GazePointY (MCSpx)'].diff()\n",
    "allData['GazePointX (MCSpx)'].fillna(method='bfill', inplace= True)\n",
    "allData['GazePointY (MCSpx)'].fillna(method='bfill', inplace= True)\n"
   ]
  },
  {
   "cell_type": "code",
   "execution_count": 9,
   "metadata": {},
   "outputs": [
    {
     "data": {
      "text/plain": [
       "0"
      ]
     },
     "execution_count": 9,
     "metadata": {},
     "output_type": "execute_result"
    }
   ],
   "source": [
    "allData['GazePointX (MCSpx)'].isna().sum().sum()"
   ]
  },
  {
   "cell_type": "code",
   "execution_count": 10,
   "metadata": {},
   "outputs": [
    {
     "data": {
      "text/plain": [
       "array(['Agree_0_unstated', 'Disagree_5_Unknown_0_unstated',\n",
       "       'Disagree_5_Unknown_3_Reading', 'Disagree_1_Scanning_3_Reading',\n",
       "       'Disagree_1_Scanning_5_Unknown', 'Agree_5_Unknown',\n",
       "       'Disagree_5_Unknown_1_Scanning', 'Agree_1_Scanning',\n",
       "       'Agree_3_Reading', 'Disagree_1_Scanning_2_Skimming',\n",
       "       'Disagree_5_Unknown_2_Skimming', 'Agree_2_Skimming',\n",
       "       'Disagree_1_Scanning_4_MediaView',\n",
       "       'Disagree_2_Skimming_1_Scanning', 'Disagree_2_Skimming_5_Unknown',\n",
       "       'Disagree_2_Skimming_3_Reading', 'Disagree_5_Unknown_4_MediaView',\n",
       "       'Agree_4_MediaView', 'Disagree_4_MediaView_1_Scanning',\n",
       "       'Disagree_0_unstated_3_Reading', 'Disagree_3_Reading_1_Scanning',\n",
       "       'Disagree_3_Reading_2_Skimming', 'Disagree_2_Skimming_4_MediaView',\n",
       "       'Disagree_3_Reading_4_MediaView',\n",
       "       'Disagree_4_MediaView_2_Skimming',\n",
       "       'Disagree_4_MediaView_5_Unknown', 'Disagree_3_Reading_5_Unknown',\n",
       "       'Disagree_1_Scanning_0_unstated', 'Disagree_0_unstated_5_Unknown',\n",
       "       'Disagree_4_MediaView_3_Reading', 'Disagree_3_Reading_0_unstated'],\n",
       "      dtype=object)"
      ]
     },
     "execution_count": 10,
     "metadata": {},
     "output_type": "execute_result"
    }
   ],
   "source": [
    "allData['StudioEventTypeDiff'].unique()"
   ]
  },
  {
   "cell_type": "code",
   "execution_count": 11,
   "metadata": {},
   "outputs": [],
   "source": [
    "import matplotlib.pyplot as plt"
   ]
  },
  {
   "cell_type": "code",
   "execution_count": 12,
   "metadata": {},
   "outputs": [],
   "source": [
    "from IPython.display import display"
   ]
  },
  {
   "cell_type": "code",
   "execution_count": 13,
   "metadata": {},
   "outputs": [],
   "source": [
    "readingData = allData.loc[allData['StudioEventTypeDiff'] == \"Agree_3_Reading\"]\n",
    "skimmingData = allData.loc[allData['StudioEventTypeDiff'] == \"Agree_2_Skimming\"]\n",
    "scanningData = allData.loc[allData['StudioEventTypeDiff'] == \"Agree_1_Scanning\"]\n",
    "unknownData = allData.loc[allData['StudioEventTypeDiff'] == \"Agree_5_Unknown\"]\n",
    "mediaViewData = allData.loc[allData['StudioEventTypeDiff'] == \"Agree_4_MediaView\"]"
   ]
  },
  {
   "cell_type": "code",
   "execution_count": 14,
   "metadata": {},
   "outputs": [
    {
     "data": {
      "text/plain": [
       "0"
      ]
     },
     "execution_count": 14,
     "metadata": {},
     "output_type": "execute_result"
    }
   ],
   "source": [
    "readingData['GazePointY (MCSpx)'].isna().sum().sum()"
   ]
  },
  {
   "cell_type": "code",
   "execution_count": 15,
   "metadata": {},
   "outputs": [
    {
     "data": {
      "text/html": [
       "<div>\n",
       "<style scoped>\n",
       "    .dataframe tbody tr th:only-of-type {\n",
       "        vertical-align: middle;\n",
       "    }\n",
       "\n",
       "    .dataframe tbody tr th {\n",
       "        vertical-align: top;\n",
       "    }\n",
       "\n",
       "    .dataframe thead th {\n",
       "        text-align: right;\n",
       "    }\n",
       "</style>\n",
       "<table border=\"1\" class=\"dataframe\">\n",
       "  <thead>\n",
       "    <tr style=\"text-align: right;\">\n",
       "      <th></th>\n",
       "      <th>ParticipantName</th>\n",
       "      <th>RecordingDuration</th>\n",
       "      <th>RecordingTimestamp</th>\n",
       "      <th>LocalTimeStamp</th>\n",
       "      <th>EyeTrackerTimestamp</th>\n",
       "      <th>MouseEventIndex</th>\n",
       "      <th>MouseEventX (MCSpx)</th>\n",
       "      <th>MouseEventY (MCSpx)</th>\n",
       "      <th>KeyPressEventIndex</th>\n",
       "      <th>StudioEventIndex</th>\n",
       "      <th>StudioEventIndex.1</th>\n",
       "      <th>StudioEvent</th>\n",
       "      <th>StudioEvent_B</th>\n",
       "      <th>FixationIndex</th>\n",
       "      <th>SaccadeIndex</th>\n",
       "      <th>GazeEventType</th>\n",
       "      <th>GazeEventType_B</th>\n",
       "      <th>GazeEventDuration</th>\n",
       "      <th>FixationPointX (MCSpx)</th>\n",
       "      <th>FixationPointY (MCSpx)</th>\n",
       "      <th>AbsoluteSaccadicDirection</th>\n",
       "      <th>RelativeSaccadicDirection</th>\n",
       "      <th>GazePointIndex</th>\n",
       "      <th>GazePointX (MCSpx)</th>\n",
       "      <th>GazePointY (MCSpx)</th>\n",
       "      <th>PupilLeft</th>\n",
       "      <th>PupilRight</th>\n",
       "      <th>ValidityLeft</th>\n",
       "      <th>ValidityRight</th>\n",
       "      <th>StudioEventTypeDiff</th>\n",
       "      <th>GazeEventTypeDiff</th>\n",
       "      <th>StudioEventIndex_B</th>\n",
       "      <th>StudioEventIndex_B.1</th>\n",
       "      <th>Unnamed: 11</th>\n",
       "    </tr>\n",
       "  </thead>\n",
       "  <tbody>\n",
       "    <tr>\n",
       "      <th>4691</th>\n",
       "      <td>Proband_30_D1</td>\n",
       "      <td>3520531</td>\n",
       "      <td>77615</td>\n",
       "      <td>14:47:02.446</td>\n",
       "      <td>1.457961e+15</td>\n",
       "      <td>14.0</td>\n",
       "      <td>364.0</td>\n",
       "      <td>13.0</td>\n",
       "      <td>52.0</td>\n",
       "      <td>8.0</td>\n",
       "      <td>8.0</td>\n",
       "      <td>3_Reading</td>\n",
       "      <td>3_Reading</td>\n",
       "      <td>206.0</td>\n",
       "      <td>410.0</td>\n",
       "      <td>Fixation</td>\n",
       "      <td>Fixation</td>\n",
       "      <td>250</td>\n",
       "      <td>162.0</td>\n",
       "      <td>451.0</td>\n",
       "      <td>348,49</td>\n",
       "      <td>172,21</td>\n",
       "      <td>4640.0</td>\n",
       "      <td>0.0</td>\n",
       "      <td>0.0</td>\n",
       "      <td>2,25</td>\n",
       "      <td>2,43</td>\n",
       "      <td>0.0</td>\n",
       "      <td>0.0</td>\n",
       "      <td>Agree_3_Reading</td>\n",
       "      <td>Agree_Fixation</td>\n",
       "      <td>NaN</td>\n",
       "      <td>NaN</td>\n",
       "      <td>NaN</td>\n",
       "    </tr>\n",
       "    <tr>\n",
       "      <th>4692</th>\n",
       "      <td>Proband_30_D1</td>\n",
       "      <td>3520531</td>\n",
       "      <td>77629</td>\n",
       "      <td>14:47:02.460</td>\n",
       "      <td>1.457961e+15</td>\n",
       "      <td>14.0</td>\n",
       "      <td>364.0</td>\n",
       "      <td>13.0</td>\n",
       "      <td>52.0</td>\n",
       "      <td>8.0</td>\n",
       "      <td>8.0</td>\n",
       "      <td>3_Reading</td>\n",
       "      <td>3_Reading</td>\n",
       "      <td>206.0</td>\n",
       "      <td>410.0</td>\n",
       "      <td>Fixation</td>\n",
       "      <td>Fixation</td>\n",
       "      <td>250</td>\n",
       "      <td>162.0</td>\n",
       "      <td>451.0</td>\n",
       "      <td>348,49</td>\n",
       "      <td>172,21</td>\n",
       "      <td>4641.0</td>\n",
       "      <td>2.0</td>\n",
       "      <td>-1.0</td>\n",
       "      <td>2,29</td>\n",
       "      <td>2,43</td>\n",
       "      <td>0.0</td>\n",
       "      <td>0.0</td>\n",
       "      <td>Agree_3_Reading</td>\n",
       "      <td>Agree_Fixation</td>\n",
       "      <td>NaN</td>\n",
       "      <td>NaN</td>\n",
       "      <td>NaN</td>\n",
       "    </tr>\n",
       "    <tr>\n",
       "      <th>4693</th>\n",
       "      <td>Proband_30_D1</td>\n",
       "      <td>3520531</td>\n",
       "      <td>77645</td>\n",
       "      <td>14:47:02.476</td>\n",
       "      <td>1.457961e+15</td>\n",
       "      <td>14.0</td>\n",
       "      <td>364.0</td>\n",
       "      <td>13.0</td>\n",
       "      <td>52.0</td>\n",
       "      <td>8.0</td>\n",
       "      <td>8.0</td>\n",
       "      <td>3_Reading</td>\n",
       "      <td>3_Reading</td>\n",
       "      <td>206.0</td>\n",
       "      <td>410.0</td>\n",
       "      <td>Fixation</td>\n",
       "      <td>Fixation</td>\n",
       "      <td>250</td>\n",
       "      <td>162.0</td>\n",
       "      <td>451.0</td>\n",
       "      <td>348,49</td>\n",
       "      <td>172,21</td>\n",
       "      <td>4642.0</td>\n",
       "      <td>-6.0</td>\n",
       "      <td>21.0</td>\n",
       "      <td>2,26</td>\n",
       "      <td>2,41</td>\n",
       "      <td>0.0</td>\n",
       "      <td>0.0</td>\n",
       "      <td>Agree_3_Reading</td>\n",
       "      <td>Agree_Fixation</td>\n",
       "      <td>NaN</td>\n",
       "      <td>NaN</td>\n",
       "      <td>NaN</td>\n",
       "    </tr>\n",
       "    <tr>\n",
       "      <th>4694</th>\n",
       "      <td>Proband_30_D1</td>\n",
       "      <td>3520531</td>\n",
       "      <td>77662</td>\n",
       "      <td>14:47:02.493</td>\n",
       "      <td>1.457961e+15</td>\n",
       "      <td>14.0</td>\n",
       "      <td>364.0</td>\n",
       "      <td>13.0</td>\n",
       "      <td>52.0</td>\n",
       "      <td>8.0</td>\n",
       "      <td>8.0</td>\n",
       "      <td>3_Reading</td>\n",
       "      <td>3_Reading</td>\n",
       "      <td>206.0</td>\n",
       "      <td>410.0</td>\n",
       "      <td>Fixation</td>\n",
       "      <td>Fixation</td>\n",
       "      <td>250</td>\n",
       "      <td>162.0</td>\n",
       "      <td>451.0</td>\n",
       "      <td>348,49</td>\n",
       "      <td>172,21</td>\n",
       "      <td>4643.0</td>\n",
       "      <td>11.0</td>\n",
       "      <td>-20.0</td>\n",
       "      <td>2,24</td>\n",
       "      <td>2,39</td>\n",
       "      <td>0.0</td>\n",
       "      <td>0.0</td>\n",
       "      <td>Agree_3_Reading</td>\n",
       "      <td>Agree_Fixation</td>\n",
       "      <td>NaN</td>\n",
       "      <td>NaN</td>\n",
       "      <td>NaN</td>\n",
       "    </tr>\n",
       "    <tr>\n",
       "      <th>4695</th>\n",
       "      <td>Proband_30_D1</td>\n",
       "      <td>3520531</td>\n",
       "      <td>77679</td>\n",
       "      <td>14:47:02.510</td>\n",
       "      <td>1.457961e+15</td>\n",
       "      <td>14.0</td>\n",
       "      <td>364.0</td>\n",
       "      <td>13.0</td>\n",
       "      <td>52.0</td>\n",
       "      <td>8.0</td>\n",
       "      <td>8.0</td>\n",
       "      <td>3_Reading</td>\n",
       "      <td>3_Reading</td>\n",
       "      <td>206.0</td>\n",
       "      <td>410.0</td>\n",
       "      <td>Fixation</td>\n",
       "      <td>Fixation</td>\n",
       "      <td>250</td>\n",
       "      <td>162.0</td>\n",
       "      <td>451.0</td>\n",
       "      <td>348,49</td>\n",
       "      <td>172,21</td>\n",
       "      <td>4644.0</td>\n",
       "      <td>0.0</td>\n",
       "      <td>6.0</td>\n",
       "      <td>2,28</td>\n",
       "      <td>2,41</td>\n",
       "      <td>0.0</td>\n",
       "      <td>0.0</td>\n",
       "      <td>Agree_3_Reading</td>\n",
       "      <td>Agree_Fixation</td>\n",
       "      <td>NaN</td>\n",
       "      <td>NaN</td>\n",
       "      <td>NaN</td>\n",
       "    </tr>\n",
       "  </tbody>\n",
       "</table>\n",
       "</div>"
      ],
      "text/plain": [
       "     ParticipantName  RecordingDuration  RecordingTimestamp LocalTimeStamp  \\\n",
       "4691   Proband_30_D1            3520531               77615   14:47:02.446   \n",
       "4692   Proband_30_D1            3520531               77629   14:47:02.460   \n",
       "4693   Proband_30_D1            3520531               77645   14:47:02.476   \n",
       "4694   Proband_30_D1            3520531               77662   14:47:02.493   \n",
       "4695   Proband_30_D1            3520531               77679   14:47:02.510   \n",
       "\n",
       "      EyeTrackerTimestamp  MouseEventIndex  MouseEventX (MCSpx)  \\\n",
       "4691         1.457961e+15             14.0                364.0   \n",
       "4692         1.457961e+15             14.0                364.0   \n",
       "4693         1.457961e+15             14.0                364.0   \n",
       "4694         1.457961e+15             14.0                364.0   \n",
       "4695         1.457961e+15             14.0                364.0   \n",
       "\n",
       "      MouseEventY (MCSpx)  KeyPressEventIndex  StudioEventIndex  \\\n",
       "4691                 13.0                52.0               8.0   \n",
       "4692                 13.0                52.0               8.0   \n",
       "4693                 13.0                52.0               8.0   \n",
       "4694                 13.0                52.0               8.0   \n",
       "4695                 13.0                52.0               8.0   \n",
       "\n",
       "      StudioEventIndex.1 StudioEvent StudioEvent_B  FixationIndex  \\\n",
       "4691                 8.0   3_Reading     3_Reading          206.0   \n",
       "4692                 8.0   3_Reading     3_Reading          206.0   \n",
       "4693                 8.0   3_Reading     3_Reading          206.0   \n",
       "4694                 8.0   3_Reading     3_Reading          206.0   \n",
       "4695                 8.0   3_Reading     3_Reading          206.0   \n",
       "\n",
       "      SaccadeIndex GazeEventType GazeEventType_B  GazeEventDuration  \\\n",
       "4691         410.0      Fixation        Fixation                250   \n",
       "4692         410.0      Fixation        Fixation                250   \n",
       "4693         410.0      Fixation        Fixation                250   \n",
       "4694         410.0      Fixation        Fixation                250   \n",
       "4695         410.0      Fixation        Fixation                250   \n",
       "\n",
       "      FixationPointX (MCSpx)  FixationPointY (MCSpx)  \\\n",
       "4691                   162.0                   451.0   \n",
       "4692                   162.0                   451.0   \n",
       "4693                   162.0                   451.0   \n",
       "4694                   162.0                   451.0   \n",
       "4695                   162.0                   451.0   \n",
       "\n",
       "     AbsoluteSaccadicDirection RelativeSaccadicDirection  GazePointIndex  \\\n",
       "4691                    348,49                    172,21          4640.0   \n",
       "4692                    348,49                    172,21          4641.0   \n",
       "4693                    348,49                    172,21          4642.0   \n",
       "4694                    348,49                    172,21          4643.0   \n",
       "4695                    348,49                    172,21          4644.0   \n",
       "\n",
       "      GazePointX (MCSpx)  GazePointY (MCSpx) PupilLeft PupilRight  \\\n",
       "4691                 0.0                 0.0      2,25       2,43   \n",
       "4692                 2.0                -1.0      2,29       2,43   \n",
       "4693                -6.0                21.0      2,26       2,41   \n",
       "4694                11.0               -20.0      2,24       2,39   \n",
       "4695                 0.0                 6.0      2,28       2,41   \n",
       "\n",
       "      ValidityLeft  ValidityRight StudioEventTypeDiff GazeEventTypeDiff  \\\n",
       "4691           0.0            0.0     Agree_3_Reading    Agree_Fixation   \n",
       "4692           0.0            0.0     Agree_3_Reading    Agree_Fixation   \n",
       "4693           0.0            0.0     Agree_3_Reading    Agree_Fixation   \n",
       "4694           0.0            0.0     Agree_3_Reading    Agree_Fixation   \n",
       "4695           0.0            0.0     Agree_3_Reading    Agree_Fixation   \n",
       "\n",
       "      StudioEventIndex_B  StudioEventIndex_B.1  Unnamed: 11  \n",
       "4691                 NaN                   NaN          NaN  \n",
       "4692                 NaN                   NaN          NaN  \n",
       "4693                 NaN                   NaN          NaN  \n",
       "4694                 NaN                   NaN          NaN  \n",
       "4695                 NaN                   NaN          NaN  "
      ]
     },
     "execution_count": 15,
     "metadata": {},
     "output_type": "execute_result"
    }
   ],
   "source": [
    "readingData.head()"
   ]
  },
  {
   "cell_type": "raw",
   "metadata": {},
   "source": [
    "readingData['GazePointY (MCSpx)'].head()"
   ]
  },
  {
   "cell_type": "code",
   "execution_count": 16,
   "metadata": {},
   "outputs": [
    {
     "data": {
      "text/plain": [
       "array([[1179.63428727,  171.67930601],\n",
       "       [ 171.67930601,  836.91103656]])"
      ]
     },
     "metadata": {},
     "output_type": "display_data"
    },
    {
     "data": {
      "text/plain": [
       "array([[1805.68290536,  216.39954858],\n",
       "       [ 216.39954858, 4072.86681401]])"
      ]
     },
     "metadata": {},
     "output_type": "display_data"
    },
    {
     "data": {
      "text/plain": [
       "array([[1852.15462508,  330.37926778],\n",
       "       [ 330.37926778, 1716.64905786]])"
      ]
     },
     "metadata": {},
     "output_type": "display_data"
    },
    {
     "data": {
      "text/plain": [
       "array([[1786.47885221,  598.16561454],\n",
       "       [ 598.16561454, 2461.48454459]])"
      ]
     },
     "metadata": {},
     "output_type": "display_data"
    },
    {
     "data": {
      "text/plain": [
       "array([[1922.47066957, -383.06551818],\n",
       "       [-383.06551818, 1367.8950435 ]])"
      ]
     },
     "metadata": {},
     "output_type": "display_data"
    }
   ],
   "source": [
    "readCovMat = np.cov((readingData['GazePointX (MCSpx)'],readingData['GazePointY (MCSpx)']))\n",
    "skimmingCovMat = np.cov((skimmingData['GazePointX (MCSpx)'],skimmingData['GazePointY (MCSpx)']))\n",
    "scanningCovMat = np.cov((scanningData['GazePointX (MCSpx)'],scanningData['GazePointY (MCSpx)']))\n",
    "unknownCovMat = np.cov((unknownData['GazePointX (MCSpx)'],unknownData['GazePointY (MCSpx)']))\n",
    "mediaViewCovMat = np.cov((mediaViewData['GazePointX (MCSpx)'],mediaViewData['GazePointY (MCSpx)']))\n",
    "\n",
    "display(readCovMat)\n",
    "display(skimmingCovMat)\n",
    "display(scanningCovMat)\n",
    "display(unknownCovMat)\n",
    "display(mediaViewCovMat)"
   ]
  },
  {
   "cell_type": "code",
   "execution_count": 17,
   "metadata": {},
   "outputs": [
    {
     "data": {
      "text/plain": [
       "[-0.018223117030612773, 0.04327775196599728]"
      ]
     },
     "metadata": {},
     "output_type": "display_data"
    },
    {
     "data": {
      "text/plain": [
       "[0.3212, -0.6845777777777777]"
      ]
     },
     "metadata": {},
     "output_type": "display_data"
    },
    {
     "data": {
      "text/plain": [
       "[-0.14131410896028737, -0.08072241069646777]"
      ]
     },
     "metadata": {},
     "output_type": "display_data"
    },
    {
     "data": {
      "text/plain": [
       "[-0.04316383904262544, 0.06364754324031643]"
      ]
     },
     "metadata": {},
     "output_type": "display_data"
    },
    {
     "data": {
      "text/plain": [
       "[-1.0968448729184925, 0.2287467134092901]"
      ]
     },
     "metadata": {},
     "output_type": "display_data"
    }
   ],
   "source": [
    "readingMeanx = readingData['GazePointX (MCSpx)'].mean()\n",
    "readingMeany = readingData['GazePointY (MCSpx)'].mean()\n",
    "readingMeanVector = [readingMeanx,readingMeany]\n",
    "\n",
    "skimmingMeanx = skimmingData['GazePointX (MCSpx)'].mean()\n",
    "skimmingMeany = skimmingData['GazePointY (MCSpx)'].mean()\n",
    "skimmingMeanVector = [skimmingMeanx,skimmingMeany]\n",
    "\n",
    "scanningMeanx = scanningData['GazePointX (MCSpx)'].mean()\n",
    "scanningMeany = scanningData['GazePointY (MCSpx)'].mean()\n",
    "scanningMeanVector = [scanningMeanx,scanningMeany]\n",
    "\n",
    "unknownMeanx = unknownData['GazePointX (MCSpx)'].mean()\n",
    "unknownMeany = unknownData['GazePointY (MCSpx)'].mean()\n",
    "unknownMeanVector = [unknownMeanx,unknownMeany]\n",
    "\n",
    "mediaViewMeanx = mediaViewData['GazePointX (MCSpx)'].mean()\n",
    "mediaViewMeany = mediaViewData['GazePointY (MCSpx)'].mean()\n",
    "mediaViewMeanVector = [mediaViewMeanx,mediaViewMeany]\n",
    "\n",
    "display(readingMeanVector)\n",
    "display(skimmingMeanVector)\n",
    "display(scanningMeanVector)\n",
    "display(unknownMeanVector)\n",
    "display(mediaViewMeanVector)\n"
   ]
  },
  {
   "cell_type": "code",
   "execution_count": 42,
   "metadata": {},
   "outputs": [
    {
     "name": "stderr",
     "output_type": "stream",
     "text": [
      "No handles with labels found to put in legend.\n"
     ]
    },
    {
     "data": {
      "text/plain": [
       "<matplotlib.collections.PathCollection at 0x1ff93f49358>"
      ]
     },
     "execution_count": 42,
     "metadata": {},
     "output_type": "execute_result"
    },
    {
     "data": {
      "image/png": "[encoded data removed]",
      "text/plain": [
       "<Figure size 432x288 with 1 Axes>"
      ]
     },
     "metadata": {
      "needs_background": "light"
     },
     "output_type": "display_data"
    }
   ],
   "source": [
    "plt.legend(prop={'size': 8}, title = 'Readings')\n",
    "plt.title('GazePointX, GazePointY relation')\n",
    "plt.xlabel('GazePointX')\n",
    "plt.ylabel('GazePointY')\n",
    "plt.scatter(allData['GazePointX (MCSpx)'],allData['GazePointY (MCSpx)'])"
   ]
  },
  {
   "cell_type": "code",
   "execution_count": null,
   "metadata": {},
   "outputs": [],
   "source": [
    "gazex = readingPassData['GazePointX (MCSpx)']"
   ]
  },
  {
   "cell_type": "code",
   "execution_count": 63,
   "metadata": {},
   "outputs": [
    {
     "data": {
      "text/plain": [
       "array([[1919.60645212,  449.84333302],\n",
       "       [ 449.84333302, 2322.19269335]])"
      ]
     },
     "execution_count": 63,
     "metadata": {},
     "output_type": "execute_result"
    }
   ],
   "source": [
    "covmat = np.cov(allData['GazePointX (MCSpx)'],allData['GazePointY (MCSpx)'])\n",
    "covmat"
   ]
  },
  {
   "cell_type": "code",
   "execution_count": 64,
   "metadata": {},
   "outputs": [
    {
     "data": {
      "text/plain": [
       "0.0013950053338439236"
      ]
     },
     "execution_count": 64,
     "metadata": {},
     "output_type": "execute_result"
    }
   ],
   "source": [
    "meanx = np.mean(allData['GazePointX (MCSpx)'])\n",
    "meanx"
   ]
  },
  {
   "cell_type": "code",
   "execution_count": 65,
   "metadata": {},
   "outputs": [
    {
     "data": {
      "text/plain": [
       "0.002249261993784546"
      ]
     },
     "execution_count": 65,
     "metadata": {},
     "output_type": "execute_result"
    }
   ],
   "source": [
    "meany = np.mean(allData['GazePointY (MCSpx)'])\n",
    "meany"
   ]
  },
  {
   "cell_type": "code",
   "execution_count": 70,
   "metadata": {},
   "outputs": [
    {
     "data": {
      "image/png": "[encoded data removed]",
      "text/plain": [
       "<Figure size 432x288 with 1 Axes>"
      ]
     },
     "metadata": {
      "needs_background": "light"
     },
     "output_type": "display_data"
    }
   ],
   "source": [
    "import numpy as np\n",
    "import matplotlib.pyplot as plt\n",
    "from scipy.stats import multivariate_normal\n",
    "from mpl_toolkits.mplot3d import Axes3D\n",
    "\n",
    "#Parameters to set\n",
    "mu_x = meanx\n",
    "variance_x = 1919\n",
    "\n",
    "mu_y = meany\n",
    "variance_y = 2322\n",
    "\n",
    "#Create grid and multivariate normal\n",
    "x = np.linspace(-10,10,500)\n",
    "y = np.linspace(-10,10,500)\n",
    "X, Y = np.meshgrid(x,y)\n",
    "pos = np.empty(X.shape + (2,))\n",
    "pos[:, :, 0] = X; pos[:, :, 1] = Y\n",
    "rv = multivariate_normal([mu_x, mu_y], covmat)\n",
    "\n",
    "#Make a 3D plot\n",
    "fig = plt.figure()\n",
    "ax = fig.gca(projection='3d')\n",
    "ax.plot_surface(X, Y, rv.pdf(pos),cmap='viridis',linewidth=0)\n",
    "ax.set_xlabel('X axis')\n",
    "ax.set_ylabel('Y axis')\n",
    "ax.set_zlabel('Z axis')\n",
    "plt.show()"
   ]
  },
  {
   "cell_type": "code",
   "execution_count": 72,
   "metadata": {},
   "outputs": [
    {
     "name": "stderr",
     "output_type": "stream",
     "text": [
      "c:\\users\\zain ul abdeen\\appdata\\local\\programs\\python\\python37\\lib\\site-packages\\ipykernel_launcher.py:17: MatplotlibDeprecationWarning: The bivariate_normal function was deprecated in Matplotlib 2.2 and will be removed in 3.1.\n"
     ]
    },
    {
     "data": {
      "image/png": "[encoded data removed]",
      "text/plain": [
       "<Figure size 432x288 with 1 Axes>"
      ]
     },
     "metadata": {
      "needs_background": "light"
     },
     "output_type": "display_data"
    }
   ],
   "source": [
    "import numpy as np\n",
    "import matplotlib.pyplot as plt\n",
    "from matplotlib.mlab import bivariate_normal\n",
    "from mpl_toolkits.mplot3d import Axes3D\n",
    "\n",
    "#Parameters to set\n",
    "mu_x = meanx\n",
    "sigma_x = 1919\n",
    "\n",
    "mu_y = meany\n",
    "sigma_y = 2322\n",
    "\n",
    "#Create grid and multivariate normal\n",
    "x = np.linspace(-10,10,500)\n",
    "y = np.linspace(-10,10,500)\n",
    "X, Y = np.meshgrid(x,y)\n",
    "Z = bivariate_normal(X,Y,sigma_x,sigma_y,mu_x,mu_y)\n",
    "\n",
    "#Make a 3D plot\n",
    "fig = plt.figure()\n",
    "ax = fig.gca(projection='3d')\n",
    "ax.plot_surface(X, Y, Z,cmap='viridis',linewidth=0)\n",
    "ax.set_xlabel('X axis')\n",
    "ax.set_ylabel('Y axis')\n",
    "ax.set_zlabel('Z axis')\n",
    "plt.show()"
   ]
  },
  {
   "cell_type": "code",
   "execution_count": 18,
   "metadata": {},
   "outputs": [],
   "source": [
    "readingPassData = readingData[['GazePointX (MCSpx)','GazePointY (MCSpx)']]\n",
    "skimmingPassData = skimmingData[['GazePointX (MCSpx)','GazePointY (MCSpx)']]\n",
    "scanningPassData = scanningData[['GazePointX (MCSpx)','GazePointY (MCSpx)']]\n",
    "unknownPassData = unknownData[['GazePointX (MCSpx)','GazePointY (MCSpx)']]\n",
    "mediaViewPassData = mediaViewData[['GazePointX (MCSpx)','GazePointY (MCSpx)']]"
   ]
  },
  {
   "cell_type": "code",
   "execution_count": 50,
   "metadata": {},
   "outputs": [],
   "source": [
    "gaze = allData.loc[(allData['GazePointX (MCSpx)'] >= -50) & \n",
    "                                            (allData['GazePointX (MCSpx)'] <= 50), :]"
   ]
  },
  {
   "cell_type": "code",
   "execution_count": 53,
   "metadata": {},
   "outputs": [
    {
     "name": "stderr",
     "output_type": "stream",
     "text": [
      "No handles with labels found to put in legend.\n",
      "c:\\users\\zain ul abdeen\\appdata\\local\\programs\\python\\python37\\lib\\site-packages\\scipy\\stats\\stats.py:1713: FutureWarning: Using a non-tuple sequence for multidimensional indexing is deprecated; use `arr[tuple(seq)]` instead of `arr[seq]`. In the future this will be interpreted as an array index, `arr[np.array(seq)]`, which will result either in an error or a different result.\n",
      "  return np.add.reduce(sorted[indexer] * weights, axis=axis) / sumval\n"
     ]
    },
    {
     "data": {
      "text/plain": [
       "<matplotlib.axes._subplots.AxesSubplot at 0x1ff890e4438>"
      ]
     },
     "execution_count": 53,
     "metadata": {},
     "output_type": "execute_result"
    },
    {
     "data": {
      "image/png": "[encoded data removed]",
      "text/plain": [
       "<Figure size 700x600 with 1 Axes>"
      ]
     },
     "metadata": {
      "needs_background": "light"
     },
     "output_type": "display_data"
    }
   ],
   "source": [
    "import seaborn as sns\n",
    "plt.subplots(figsize=(7,6), dpi=100)\n",
    "plt.legend(prop={'size': 12}, title = 'Readings')\n",
    "plt.title('Population Plot with Multiple readings')\n",
    "plt.xlabel('GazePointX')\n",
    "plt.ylabel('Population')\n",
    "\n",
    "sns.distplot(gaze['GazePointX (MCSpx)'].sample(frac=0.1),bins=10, hist = False, kde = True, \n",
    "                 kde_kws = {'linewidth': 3}\n",
    "                 )"
   ]
  },
  {
   "cell_type": "code",
   "execution_count": 19,
   "metadata": {},
   "outputs": [],
   "source": [
    "readPdf = multivariate_normal.pdf(readingPassData, mean=readingMeanVector, cov=readCovMat)\n",
    "skimmingPdf = multivariate_normal.pdf(skimmingPassData, mean=skimmingMeanVector, cov=skimmingCovMat)\n",
    "scanningPdf = multivariate_normal.pdf(scanningPassData, mean=scanningMeanVector, cov=scanningCovMat)\n",
    "unknownPdf = multivariate_normal.pdf(unknownPassData, mean=unknownMeanVector, cov=unknownCovMat)\n",
    "mediaViewPdf = multivariate_normal.pdf(mediaViewPassData, mean=mediaViewMeanVector, cov=mediaViewCovMat)"
   ]
  },
  {
   "cell_type": "markdown",
   "metadata": {},
   "source": [
    "# Parameters all files"
   ]
  },
  {
   "cell_type": "code",
   "execution_count": 20,
   "metadata": {},
   "outputs": [],
   "source": [
    "mypath_all = 'Datasets/Gaze10minData_all/'\n",
    "mydtaframes_all = {}\n",
    "\n",
    "for index,files in enumerate(os.listdir(mypath_all)):\n",
    "    mydtaframes_all[\"df_{}\".format(index)] = pd.read_excel('{}/{}'.format(mypath_all, files),\n",
    "                                                         sheet_name= 'Sheet1')"
   ]
  },
  {
   "cell_type": "code",
   "execution_count": 21,
   "metadata": {},
   "outputs": [
    {
     "data": {
      "text/html": [
       "<div>\n",
       "<style scoped>\n",
       "    .dataframe tbody tr th:only-of-type {\n",
       "        vertical-align: middle;\n",
       "    }\n",
       "\n",
       "    .dataframe tbody tr th {\n",
       "        vertical-align: top;\n",
       "    }\n",
       "\n",
       "    .dataframe thead th {\n",
       "        text-align: right;\n",
       "    }\n",
       "</style>\n",
       "<table border=\"1\" class=\"dataframe\">\n",
       "  <thead>\n",
       "    <tr style=\"text-align: right;\">\n",
       "      <th></th>\n",
       "      <th>ParticipantName</th>\n",
       "      <th>RecordingDuration</th>\n",
       "      <th>RecordingTimestamp</th>\n",
       "      <th>LocalTimeStamp</th>\n",
       "      <th>EyeTrackerTimestamp</th>\n",
       "      <th>MouseEventIndex</th>\n",
       "      <th>MouseEventX (MCSpx)</th>\n",
       "      <th>MouseEventY (MCSpx)</th>\n",
       "      <th>KeyPressEventIndex</th>\n",
       "      <th>StudioEventIndex</th>\n",
       "      <th>StudioEventIndex_B</th>\n",
       "      <th>StudioEvent</th>\n",
       "      <th>StudioEvent_B</th>\n",
       "      <th>FixationIndex</th>\n",
       "      <th>SaccadeIndex</th>\n",
       "      <th>GazeEventType</th>\n",
       "      <th>GazeEventType_B</th>\n",
       "      <th>GazeEventDuration</th>\n",
       "      <th>FixationPointX (MCSpx)</th>\n",
       "      <th>FixationPointY (MCSpx)</th>\n",
       "      <th>AbsoluteSaccadicDirection</th>\n",
       "      <th>RelativeSaccadicDirection</th>\n",
       "      <th>GazePointIndex</th>\n",
       "      <th>GazePointX (MCSpx)</th>\n",
       "      <th>GazePointY (MCSpx)</th>\n",
       "      <th>PupilLeft</th>\n",
       "      <th>PupilRight</th>\n",
       "      <th>ValidityLeft</th>\n",
       "      <th>ValidityRight</th>\n",
       "      <th>StudioEventTypeDiff</th>\n",
       "      <th>GazeEventTypeDiff</th>\n",
       "    </tr>\n",
       "  </thead>\n",
       "  <tbody>\n",
       "    <tr>\n",
       "      <th>0</th>\n",
       "      <td>Proband_31_D2</td>\n",
       "      <td>2895701</td>\n",
       "      <td>440</td>\n",
       "      <td>13:25:24.097</td>\n",
       "      <td>1.458043e+15</td>\n",
       "      <td>NaN</td>\n",
       "      <td>NaN</td>\n",
       "      <td>NaN</td>\n",
       "      <td>NaN</td>\n",
       "      <td>NaN</td>\n",
       "      <td>NaN</td>\n",
       "      <td>0_unstated</td>\n",
       "      <td>0_unstated</td>\n",
       "      <td>NaN</td>\n",
       "      <td>2.0</td>\n",
       "      <td>Saccade</td>\n",
       "      <td>Saccade</td>\n",
       "      <td>133</td>\n",
       "      <td>NaN</td>\n",
       "      <td>NaN</td>\n",
       "      <td>NaN</td>\n",
       "      <td>NaN</td>\n",
       "      <td>21.0</td>\n",
       "      <td>66.0</td>\n",
       "      <td>220.0</td>\n",
       "      <td>2,74</td>\n",
       "      <td>2,59</td>\n",
       "      <td>0.0</td>\n",
       "      <td>0.0</td>\n",
       "      <td>Agree_0_unstated</td>\n",
       "      <td>Agree_Saccade</td>\n",
       "    </tr>\n",
       "    <tr>\n",
       "      <th>1</th>\n",
       "      <td>Proband_31_D2</td>\n",
       "      <td>2895701</td>\n",
       "      <td>456</td>\n",
       "      <td>13:25:24.114</td>\n",
       "      <td>1.458043e+15</td>\n",
       "      <td>NaN</td>\n",
       "      <td>NaN</td>\n",
       "      <td>NaN</td>\n",
       "      <td>NaN</td>\n",
       "      <td>NaN</td>\n",
       "      <td>NaN</td>\n",
       "      <td>0_unstated</td>\n",
       "      <td>0_unstated</td>\n",
       "      <td>NaN</td>\n",
       "      <td>2.0</td>\n",
       "      <td>Saccade</td>\n",
       "      <td>Saccade</td>\n",
       "      <td>133</td>\n",
       "      <td>NaN</td>\n",
       "      <td>NaN</td>\n",
       "      <td>NaN</td>\n",
       "      <td>NaN</td>\n",
       "      <td>22.0</td>\n",
       "      <td>20.0</td>\n",
       "      <td>166.0</td>\n",
       "      <td>2,59</td>\n",
       "      <td>2,54</td>\n",
       "      <td>0.0</td>\n",
       "      <td>0.0</td>\n",
       "      <td>Agree_0_unstated</td>\n",
       "      <td>Agree_Saccade</td>\n",
       "    </tr>\n",
       "    <tr>\n",
       "      <th>2</th>\n",
       "      <td>Proband_31_D2</td>\n",
       "      <td>2895701</td>\n",
       "      <td>473</td>\n",
       "      <td>13:25:24.131</td>\n",
       "      <td>1.458043e+15</td>\n",
       "      <td>NaN</td>\n",
       "      <td>NaN</td>\n",
       "      <td>NaN</td>\n",
       "      <td>NaN</td>\n",
       "      <td>NaN</td>\n",
       "      <td>NaN</td>\n",
       "      <td>0_unstated</td>\n",
       "      <td>0_unstated</td>\n",
       "      <td>2.0</td>\n",
       "      <td>NaN</td>\n",
       "      <td>Fixation</td>\n",
       "      <td>Fixation</td>\n",
       "      <td>200</td>\n",
       "      <td>45.0</td>\n",
       "      <td>168.0</td>\n",
       "      <td>339,44</td>\n",
       "      <td>NaN</td>\n",
       "      <td>23.0</td>\n",
       "      <td>20.0</td>\n",
       "      <td>168.0</td>\n",
       "      <td>NaN</td>\n",
       "      <td>2,62</td>\n",
       "      <td>4.0</td>\n",
       "      <td>0.0</td>\n",
       "      <td>Agree_0_unstated</td>\n",
       "      <td>Agree_Fixation</td>\n",
       "    </tr>\n",
       "    <tr>\n",
       "      <th>3</th>\n",
       "      <td>Proband_31_D2</td>\n",
       "      <td>2895701</td>\n",
       "      <td>490</td>\n",
       "      <td>13:25:24.147</td>\n",
       "      <td>1.458043e+15</td>\n",
       "      <td>NaN</td>\n",
       "      <td>NaN</td>\n",
       "      <td>NaN</td>\n",
       "      <td>NaN</td>\n",
       "      <td>NaN</td>\n",
       "      <td>NaN</td>\n",
       "      <td>0_unstated</td>\n",
       "      <td>0_unstated</td>\n",
       "      <td>2.0</td>\n",
       "      <td>NaN</td>\n",
       "      <td>Fixation</td>\n",
       "      <td>Fixation</td>\n",
       "      <td>200</td>\n",
       "      <td>45.0</td>\n",
       "      <td>168.0</td>\n",
       "      <td>339,44</td>\n",
       "      <td>NaN</td>\n",
       "      <td>24.0</td>\n",
       "      <td>36.0</td>\n",
       "      <td>171.0</td>\n",
       "      <td>2,58</td>\n",
       "      <td>2,50</td>\n",
       "      <td>0.0</td>\n",
       "      <td>0.0</td>\n",
       "      <td>Agree_0_unstated</td>\n",
       "      <td>Agree_Fixation</td>\n",
       "    </tr>\n",
       "    <tr>\n",
       "      <th>4</th>\n",
       "      <td>Proband_31_D2</td>\n",
       "      <td>2895701</td>\n",
       "      <td>506</td>\n",
       "      <td>13:25:24.164</td>\n",
       "      <td>1.458043e+15</td>\n",
       "      <td>NaN</td>\n",
       "      <td>NaN</td>\n",
       "      <td>NaN</td>\n",
       "      <td>NaN</td>\n",
       "      <td>NaN</td>\n",
       "      <td>NaN</td>\n",
       "      <td>0_unstated</td>\n",
       "      <td>0_unstated</td>\n",
       "      <td>2.0</td>\n",
       "      <td>NaN</td>\n",
       "      <td>Fixation</td>\n",
       "      <td>Fixation</td>\n",
       "      <td>200</td>\n",
       "      <td>45.0</td>\n",
       "      <td>168.0</td>\n",
       "      <td>339,44</td>\n",
       "      <td>NaN</td>\n",
       "      <td>25.0</td>\n",
       "      <td>66.0</td>\n",
       "      <td>224.0</td>\n",
       "      <td>2,74</td>\n",
       "      <td>2,60</td>\n",
       "      <td>0.0</td>\n",
       "      <td>0.0</td>\n",
       "      <td>Agree_0_unstated</td>\n",
       "      <td>Agree_Fixation</td>\n",
       "    </tr>\n",
       "  </tbody>\n",
       "</table>\n",
       "</div>"
      ],
      "text/plain": [
       "  ParticipantName  RecordingDuration  RecordingTimestamp LocalTimeStamp  \\\n",
       "0   Proband_31_D2            2895701                 440   13:25:24.097   \n",
       "1   Proband_31_D2            2895701                 456   13:25:24.114   \n",
       "2   Proband_31_D2            2895701                 473   13:25:24.131   \n",
       "3   Proband_31_D2            2895701                 490   13:25:24.147   \n",
       "4   Proband_31_D2            2895701                 506   13:25:24.164   \n",
       "\n",
       "   EyeTrackerTimestamp  MouseEventIndex  MouseEventX (MCSpx)  \\\n",
       "0         1.458043e+15              NaN                  NaN   \n",
       "1         1.458043e+15              NaN                  NaN   \n",
       "2         1.458043e+15              NaN                  NaN   \n",
       "3         1.458043e+15              NaN                  NaN   \n",
       "4         1.458043e+15              NaN                  NaN   \n",
       "\n",
       "   MouseEventY (MCSpx)  KeyPressEventIndex  StudioEventIndex  \\\n",
       "0                  NaN                 NaN               NaN   \n",
       "1                  NaN                 NaN               NaN   \n",
       "2                  NaN                 NaN               NaN   \n",
       "3                  NaN                 NaN               NaN   \n",
       "4                  NaN                 NaN               NaN   \n",
       "\n",
       "   StudioEventIndex_B StudioEvent StudioEvent_B  FixationIndex  SaccadeIndex  \\\n",
       "0                 NaN  0_unstated    0_unstated            NaN           2.0   \n",
       "1                 NaN  0_unstated    0_unstated            NaN           2.0   \n",
       "2                 NaN  0_unstated    0_unstated            2.0           NaN   \n",
       "3                 NaN  0_unstated    0_unstated            2.0           NaN   \n",
       "4                 NaN  0_unstated    0_unstated            2.0           NaN   \n",
       "\n",
       "  GazeEventType GazeEventType_B  GazeEventDuration  FixationPointX (MCSpx)  \\\n",
       "0       Saccade         Saccade                133                     NaN   \n",
       "1       Saccade         Saccade                133                     NaN   \n",
       "2      Fixation        Fixation                200                    45.0   \n",
       "3      Fixation        Fixation                200                    45.0   \n",
       "4      Fixation        Fixation                200                    45.0   \n",
       "\n",
       "   FixationPointY (MCSpx) AbsoluteSaccadicDirection RelativeSaccadicDirection  \\\n",
       "0                     NaN                       NaN                       NaN   \n",
       "1                     NaN                       NaN                       NaN   \n",
       "2                   168.0                    339,44                       NaN   \n",
       "3                   168.0                    339,44                       NaN   \n",
       "4                   168.0                    339,44                       NaN   \n",
       "\n",
       "   GazePointIndex  GazePointX (MCSpx)  GazePointY (MCSpx) PupilLeft  \\\n",
       "0            21.0                66.0               220.0      2,74   \n",
       "1            22.0                20.0               166.0      2,59   \n",
       "2            23.0                20.0               168.0       NaN   \n",
       "3            24.0                36.0               171.0      2,58   \n",
       "4            25.0                66.0               224.0      2,74   \n",
       "\n",
       "  PupilRight  ValidityLeft  ValidityRight StudioEventTypeDiff  \\\n",
       "0       2,59           0.0            0.0    Agree_0_unstated   \n",
       "1       2,54           0.0            0.0    Agree_0_unstated   \n",
       "2       2,62           4.0            0.0    Agree_0_unstated   \n",
       "3       2,50           0.0            0.0    Agree_0_unstated   \n",
       "4       2,60           0.0            0.0    Agree_0_unstated   \n",
       "\n",
       "  GazeEventTypeDiff  \n",
       "0     Agree_Saccade  \n",
       "1     Agree_Saccade  \n",
       "2    Agree_Fixation  \n",
       "3    Agree_Fixation  \n",
       "4    Agree_Fixation  "
      ]
     },
     "execution_count": 21,
     "metadata": {},
     "output_type": "execute_result"
    }
   ],
   "source": [
    "mydtaframes_all['df_1'].head()"
   ]
  },
  {
   "cell_type": "code",
   "execution_count": null,
   "metadata": {},
   "outputs": [],
   "source": []
  },
  {
   "cell_type": "code",
   "execution_count": 22,
   "metadata": {},
   "outputs": [],
   "source": [
    "studiodf_all = {}\n",
    "\n",
    "for index,frames in enumerate(mydtaframes_all):\n",
    "    studiodf_all[\"{}\".format(index)] = mydtaframes_all[frames]\n",
    "    #studiodf[\"{}\".format(index)] = mydtaframes[frames].loc[(mydtaframes[frames]['StudioEventTypeDiff'] == \"Agree_1_Scanning\") | (mydtaframes[frames]['StudioEventTypeDiff'] == \"Agree_2_Skimming\") | (mydtaframes[frames]['StudioEventTypeDiff'] == \"Agree_3_Reading\"),['LocalTimeStamp','FixationPointX (MCSpx)','FixationPointY (MCSpx)','StudioEventTypeDiff']]\n",
    "# studiodf = df1.loc[(df1['StudioEventTypeDiff'] == \"Agree_1_Scanning\") | (df1['StudioEventTypeDiff'] == \"Agree_2_Skimming\") | (df1['StudioEventTypeDiff'] == \"Agree_3_Reading\"),['LocalTimeStamp','FixationPointX (MCSpx)','FixationPointY (MCSpx)','StudioEventTypeDiff']]\n",
    "# studiodf.head()"
   ]
  },
  {
   "cell_type": "code",
   "execution_count": 23,
   "metadata": {},
   "outputs": [
    {
     "data": {
      "text/plain": [
       "20"
      ]
     },
     "execution_count": 23,
     "metadata": {},
     "output_type": "execute_result"
    }
   ],
   "source": [
    "len(studiodf_all)"
   ]
  },
  {
   "cell_type": "code",
   "execution_count": 24,
   "metadata": {},
   "outputs": [],
   "source": [
    "for frames in studiodf_all:\n",
    "    studiodf_all[frames].fillna(method='ffill', inplace= True)"
   ]
  },
  {
   "cell_type": "code",
   "execution_count": 25,
   "metadata": {},
   "outputs": [],
   "source": [
    "\n",
    "allData_all = pd.concat([studiodf_all['0'],studiodf_all['1'],studiodf_all['2'],studiodf_all['3'],studiodf_all['4'],studiodf_all['5'],\n",
    "                    studiodf_all['6'],studiodf_all['7'],studiodf_all['8'],studiodf_all['9'],studiodf_all['10'],studiodf_all['11'],\n",
    "                    studiodf_all['12'],studiodf_all['13'],studiodf_all['14'],studiodf_all['15'],studiodf_all['16'],studiodf_all['17'],\n",
    "                         studiodf_all['18'],studiodf_all['19'],], sort = False)\n",
    "allData_all['GazePointX (MCSpx)'].fillna(method='bfill', inplace= True)\n",
    "allData_all['GazePointY (MCSpx)'].fillna(method='bfill', inplace= True)"
   ]
  },
  {
   "cell_type": "code",
   "execution_count": 26,
   "metadata": {},
   "outputs": [],
   "source": [
    "allData_all['GazePointX (MCSpx)'] = allData_all['GazePointX (MCSpx)'].diff()\n",
    "allData_all['GazePointY (MCSpx)'] = allData_all['GazePointY (MCSpx)'].diff()\n",
    "allData_all['GazePointX (MCSpx)'].fillna(method='bfill', inplace= True)\n",
    "allData_all['GazePointY (MCSpx)'].fillna(method='bfill', inplace= True)\n"
   ]
  },
  {
   "cell_type": "code",
   "execution_count": 27,
   "metadata": {},
   "outputs": [
    {
     "data": {
      "text/plain": [
       "0"
      ]
     },
     "execution_count": 27,
     "metadata": {},
     "output_type": "execute_result"
    }
   ],
   "source": [
    "allData_all['GazePointX (MCSpx)'].isna().sum().sum()"
   ]
  },
  {
   "cell_type": "code",
   "execution_count": 28,
   "metadata": {},
   "outputs": [
    {
     "data": {
      "text/plain": [
       "array(['Agree_0_unstated', 'Disagree_5_Unknown_0_unstated',\n",
       "       'Disagree_5_Unknown_3_Reading', 'Disagree_1_Scanning_3_Reading',\n",
       "       'Disagree_1_Scanning_5_Unknown', 'Agree_5_Unknown',\n",
       "       'Disagree_5_Unknown_1_Scanning', 'Agree_1_Scanning',\n",
       "       'Agree_3_Reading', 'Disagree_1_Scanning_2_Skimming',\n",
       "       'Disagree_5_Unknown_2_Skimming', 'Agree_2_Skimming',\n",
       "       'Disagree_1_Scanning_4_MediaView',\n",
       "       'Disagree_2_Skimming_1_Scanning', 'Disagree_2_Skimming_5_Unknown',\n",
       "       'Disagree_2_Skimming_3_Reading', 'Disagree_5_Unknown_4_MediaView',\n",
       "       'Agree_4_MediaView', 'Disagree_4_MediaView_1_Scanning',\n",
       "       'Disagree_0_unstated_3_Reading', 'Disagree_3_Reading_1_Scanning',\n",
       "       'Disagree_3_Reading_2_Skimming', 'Disagree_2_Skimming_4_MediaView',\n",
       "       'Disagree_3_Reading_4_MediaView',\n",
       "       'Disagree_4_MediaView_2_Skimming',\n",
       "       'Disagree_4_MediaView_5_Unknown', 'Disagree_3_Reading_5_Unknown',\n",
       "       'Disagree_1_Scanning_0_unstated', 'Disagree_0_unstated_5_Unknown',\n",
       "       'Disagree_4_MediaView_3_Reading', 'Disagree_0_Unstated_0_unstated',\n",
       "       'Disagree_0_Unstated_3_Reading', 'Disagree_3_Reading_0_unstated'],\n",
       "      dtype=object)"
      ]
     },
     "execution_count": 28,
     "metadata": {},
     "output_type": "execute_result"
    }
   ],
   "source": [
    "allData_all['StudioEventTypeDiff'].unique()"
   ]
  },
  {
   "cell_type": "code",
   "execution_count": 29,
   "metadata": {},
   "outputs": [],
   "source": [
    "import matplotlib.pyplot as plt"
   ]
  },
  {
   "cell_type": "code",
   "execution_count": 30,
   "metadata": {},
   "outputs": [],
   "source": [
    "from IPython.display import display"
   ]
  },
  {
   "cell_type": "code",
   "execution_count": 31,
   "metadata": {},
   "outputs": [],
   "source": [
    "readingData_all = allData_all.loc[allData_all['StudioEventTypeDiff'] == \"Agree_3_Reading\"]\n",
    "skimmingData_all = allData_all.loc[allData_all['StudioEventTypeDiff'] == \"Agree_2_Skimming\"]\n",
    "scanningData_all = allData_all.loc[allData_all['StudioEventTypeDiff'] == \"Agree_1_Scanning\"]\n",
    "unknownData_all = allData_all.loc[allData_all['StudioEventTypeDiff'] == \"Agree_5_Unknown\"]\n",
    "mediaViewData_all = allData_all.loc[allData_all['StudioEventTypeDiff'] == \"Agree_4_MediaView\"]"
   ]
  },
  {
   "cell_type": "code",
   "execution_count": 32,
   "metadata": {},
   "outputs": [
    {
     "data": {
      "text/plain": [
       "0"
      ]
     },
     "execution_count": 32,
     "metadata": {},
     "output_type": "execute_result"
    }
   ],
   "source": [
    "readingData_all['GazePointY (MCSpx)'].isna().sum().sum()"
   ]
  },
  {
   "cell_type": "code",
   "execution_count": 33,
   "metadata": {},
   "outputs": [
    {
     "data": {
      "text/html": [
       "<div>\n",
       "<style scoped>\n",
       "    .dataframe tbody tr th:only-of-type {\n",
       "        vertical-align: middle;\n",
       "    }\n",
       "\n",
       "    .dataframe tbody tr th {\n",
       "        vertical-align: top;\n",
       "    }\n",
       "\n",
       "    .dataframe thead th {\n",
       "        text-align: right;\n",
       "    }\n",
       "</style>\n",
       "<table border=\"1\" class=\"dataframe\">\n",
       "  <thead>\n",
       "    <tr style=\"text-align: right;\">\n",
       "      <th></th>\n",
       "      <th>ParticipantName</th>\n",
       "      <th>RecordingDuration</th>\n",
       "      <th>RecordingTimestamp</th>\n",
       "      <th>LocalTimeStamp</th>\n",
       "      <th>EyeTrackerTimestamp</th>\n",
       "      <th>MouseEventIndex</th>\n",
       "      <th>MouseEventX (MCSpx)</th>\n",
       "      <th>MouseEventY (MCSpx)</th>\n",
       "      <th>KeyPressEventIndex</th>\n",
       "      <th>StudioEventIndex</th>\n",
       "      <th>StudioEventIndex.1</th>\n",
       "      <th>StudioEvent</th>\n",
       "      <th>StudioEvent_B</th>\n",
       "      <th>FixationIndex</th>\n",
       "      <th>SaccadeIndex</th>\n",
       "      <th>GazeEventType</th>\n",
       "      <th>GazeEventType_B</th>\n",
       "      <th>GazeEventDuration</th>\n",
       "      <th>FixationPointX (MCSpx)</th>\n",
       "      <th>FixationPointY (MCSpx)</th>\n",
       "      <th>AbsoluteSaccadicDirection</th>\n",
       "      <th>RelativeSaccadicDirection</th>\n",
       "      <th>GazePointIndex</th>\n",
       "      <th>GazePointX (MCSpx)</th>\n",
       "      <th>GazePointY (MCSpx)</th>\n",
       "      <th>PupilLeft</th>\n",
       "      <th>PupilRight</th>\n",
       "      <th>ValidityLeft</th>\n",
       "      <th>ValidityRight</th>\n",
       "      <th>StudioEventTypeDiff</th>\n",
       "      <th>GazeEventTypeDiff</th>\n",
       "      <th>StudioEventIndex_B</th>\n",
       "      <th>StudioEventIndex_B.1</th>\n",
       "      <th>Unnamed: 11</th>\n",
       "    </tr>\n",
       "  </thead>\n",
       "  <tbody>\n",
       "    <tr>\n",
       "      <th>4691</th>\n",
       "      <td>Proband_30_D1</td>\n",
       "      <td>3520531</td>\n",
       "      <td>77615</td>\n",
       "      <td>14:47:02.446</td>\n",
       "      <td>1.457961e+15</td>\n",
       "      <td>14.0</td>\n",
       "      <td>364.0</td>\n",
       "      <td>13.0</td>\n",
       "      <td>52.0</td>\n",
       "      <td>8.0</td>\n",
       "      <td>8.0</td>\n",
       "      <td>3_Reading</td>\n",
       "      <td>3_Reading</td>\n",
       "      <td>206.0</td>\n",
       "      <td>410.0</td>\n",
       "      <td>Fixation</td>\n",
       "      <td>Fixation</td>\n",
       "      <td>250</td>\n",
       "      <td>162.0</td>\n",
       "      <td>451.0</td>\n",
       "      <td>348,49</td>\n",
       "      <td>172,21</td>\n",
       "      <td>4640.0</td>\n",
       "      <td>0.0</td>\n",
       "      <td>0.0</td>\n",
       "      <td>2,25</td>\n",
       "      <td>2,43</td>\n",
       "      <td>0.0</td>\n",
       "      <td>0.0</td>\n",
       "      <td>Agree_3_Reading</td>\n",
       "      <td>Agree_Fixation</td>\n",
       "      <td>NaN</td>\n",
       "      <td>NaN</td>\n",
       "      <td>NaN</td>\n",
       "    </tr>\n",
       "    <tr>\n",
       "      <th>4692</th>\n",
       "      <td>Proband_30_D1</td>\n",
       "      <td>3520531</td>\n",
       "      <td>77629</td>\n",
       "      <td>14:47:02.460</td>\n",
       "      <td>1.457961e+15</td>\n",
       "      <td>14.0</td>\n",
       "      <td>364.0</td>\n",
       "      <td>13.0</td>\n",
       "      <td>52.0</td>\n",
       "      <td>8.0</td>\n",
       "      <td>8.0</td>\n",
       "      <td>3_Reading</td>\n",
       "      <td>3_Reading</td>\n",
       "      <td>206.0</td>\n",
       "      <td>410.0</td>\n",
       "      <td>Fixation</td>\n",
       "      <td>Fixation</td>\n",
       "      <td>250</td>\n",
       "      <td>162.0</td>\n",
       "      <td>451.0</td>\n",
       "      <td>348,49</td>\n",
       "      <td>172,21</td>\n",
       "      <td>4641.0</td>\n",
       "      <td>2.0</td>\n",
       "      <td>-1.0</td>\n",
       "      <td>2,29</td>\n",
       "      <td>2,43</td>\n",
       "      <td>0.0</td>\n",
       "      <td>0.0</td>\n",
       "      <td>Agree_3_Reading</td>\n",
       "      <td>Agree_Fixation</td>\n",
       "      <td>NaN</td>\n",
       "      <td>NaN</td>\n",
       "      <td>NaN</td>\n",
       "    </tr>\n",
       "    <tr>\n",
       "      <th>4693</th>\n",
       "      <td>Proband_30_D1</td>\n",
       "      <td>3520531</td>\n",
       "      <td>77645</td>\n",
       "      <td>14:47:02.476</td>\n",
       "      <td>1.457961e+15</td>\n",
       "      <td>14.0</td>\n",
       "      <td>364.0</td>\n",
       "      <td>13.0</td>\n",
       "      <td>52.0</td>\n",
       "      <td>8.0</td>\n",
       "      <td>8.0</td>\n",
       "      <td>3_Reading</td>\n",
       "      <td>3_Reading</td>\n",
       "      <td>206.0</td>\n",
       "      <td>410.0</td>\n",
       "      <td>Fixation</td>\n",
       "      <td>Fixation</td>\n",
       "      <td>250</td>\n",
       "      <td>162.0</td>\n",
       "      <td>451.0</td>\n",
       "      <td>348,49</td>\n",
       "      <td>172,21</td>\n",
       "      <td>4642.0</td>\n",
       "      <td>-6.0</td>\n",
       "      <td>21.0</td>\n",
       "      <td>2,26</td>\n",
       "      <td>2,41</td>\n",
       "      <td>0.0</td>\n",
       "      <td>0.0</td>\n",
       "      <td>Agree_3_Reading</td>\n",
       "      <td>Agree_Fixation</td>\n",
       "      <td>NaN</td>\n",
       "      <td>NaN</td>\n",
       "      <td>NaN</td>\n",
       "    </tr>\n",
       "    <tr>\n",
       "      <th>4694</th>\n",
       "      <td>Proband_30_D1</td>\n",
       "      <td>3520531</td>\n",
       "      <td>77662</td>\n",
       "      <td>14:47:02.493</td>\n",
       "      <td>1.457961e+15</td>\n",
       "      <td>14.0</td>\n",
       "      <td>364.0</td>\n",
       "      <td>13.0</td>\n",
       "      <td>52.0</td>\n",
       "      <td>8.0</td>\n",
       "      <td>8.0</td>\n",
       "      <td>3_Reading</td>\n",
       "      <td>3_Reading</td>\n",
       "      <td>206.0</td>\n",
       "      <td>410.0</td>\n",
       "      <td>Fixation</td>\n",
       "      <td>Fixation</td>\n",
       "      <td>250</td>\n",
       "      <td>162.0</td>\n",
       "      <td>451.0</td>\n",
       "      <td>348,49</td>\n",
       "      <td>172,21</td>\n",
       "      <td>4643.0</td>\n",
       "      <td>11.0</td>\n",
       "      <td>-20.0</td>\n",
       "      <td>2,24</td>\n",
       "      <td>2,39</td>\n",
       "      <td>0.0</td>\n",
       "      <td>0.0</td>\n",
       "      <td>Agree_3_Reading</td>\n",
       "      <td>Agree_Fixation</td>\n",
       "      <td>NaN</td>\n",
       "      <td>NaN</td>\n",
       "      <td>NaN</td>\n",
       "    </tr>\n",
       "    <tr>\n",
       "      <th>4695</th>\n",
       "      <td>Proband_30_D1</td>\n",
       "      <td>3520531</td>\n",
       "      <td>77679</td>\n",
       "      <td>14:47:02.510</td>\n",
       "      <td>1.457961e+15</td>\n",
       "      <td>14.0</td>\n",
       "      <td>364.0</td>\n",
       "      <td>13.0</td>\n",
       "      <td>52.0</td>\n",
       "      <td>8.0</td>\n",
       "      <td>8.0</td>\n",
       "      <td>3_Reading</td>\n",
       "      <td>3_Reading</td>\n",
       "      <td>206.0</td>\n",
       "      <td>410.0</td>\n",
       "      <td>Fixation</td>\n",
       "      <td>Fixation</td>\n",
       "      <td>250</td>\n",
       "      <td>162.0</td>\n",
       "      <td>451.0</td>\n",
       "      <td>348,49</td>\n",
       "      <td>172,21</td>\n",
       "      <td>4644.0</td>\n",
       "      <td>0.0</td>\n",
       "      <td>6.0</td>\n",
       "      <td>2,28</td>\n",
       "      <td>2,41</td>\n",
       "      <td>0.0</td>\n",
       "      <td>0.0</td>\n",
       "      <td>Agree_3_Reading</td>\n",
       "      <td>Agree_Fixation</td>\n",
       "      <td>NaN</td>\n",
       "      <td>NaN</td>\n",
       "      <td>NaN</td>\n",
       "    </tr>\n",
       "  </tbody>\n",
       "</table>\n",
       "</div>"
      ],
      "text/plain": [
       "     ParticipantName  RecordingDuration  RecordingTimestamp LocalTimeStamp  \\\n",
       "4691   Proband_30_D1            3520531               77615   14:47:02.446   \n",
       "4692   Proband_30_D1            3520531               77629   14:47:02.460   \n",
       "4693   Proband_30_D1            3520531               77645   14:47:02.476   \n",
       "4694   Proband_30_D1            3520531               77662   14:47:02.493   \n",
       "4695   Proband_30_D1            3520531               77679   14:47:02.510   \n",
       "\n",
       "      EyeTrackerTimestamp  MouseEventIndex  MouseEventX (MCSpx)  \\\n",
       "4691         1.457961e+15             14.0                364.0   \n",
       "4692         1.457961e+15             14.0                364.0   \n",
       "4693         1.457961e+15             14.0                364.0   \n",
       "4694         1.457961e+15             14.0                364.0   \n",
       "4695         1.457961e+15             14.0                364.0   \n",
       "\n",
       "      MouseEventY (MCSpx)  KeyPressEventIndex  StudioEventIndex  \\\n",
       "4691                 13.0                52.0               8.0   \n",
       "4692                 13.0                52.0               8.0   \n",
       "4693                 13.0                52.0               8.0   \n",
       "4694                 13.0                52.0               8.0   \n",
       "4695                 13.0                52.0               8.0   \n",
       "\n",
       "      StudioEventIndex.1 StudioEvent StudioEvent_B  FixationIndex  \\\n",
       "4691                 8.0   3_Reading     3_Reading          206.0   \n",
       "4692                 8.0   3_Reading     3_Reading          206.0   \n",
       "4693                 8.0   3_Reading     3_Reading          206.0   \n",
       "4694                 8.0   3_Reading     3_Reading          206.0   \n",
       "4695                 8.0   3_Reading     3_Reading          206.0   \n",
       "\n",
       "      SaccadeIndex GazeEventType GazeEventType_B  GazeEventDuration  \\\n",
       "4691         410.0      Fixation        Fixation                250   \n",
       "4692         410.0      Fixation        Fixation                250   \n",
       "4693         410.0      Fixation        Fixation                250   \n",
       "4694         410.0      Fixation        Fixation                250   \n",
       "4695         410.0      Fixation        Fixation                250   \n",
       "\n",
       "      FixationPointX (MCSpx)  FixationPointY (MCSpx)  \\\n",
       "4691                   162.0                   451.0   \n",
       "4692                   162.0                   451.0   \n",
       "4693                   162.0                   451.0   \n",
       "4694                   162.0                   451.0   \n",
       "4695                   162.0                   451.0   \n",
       "\n",
       "     AbsoluteSaccadicDirection RelativeSaccadicDirection  GazePointIndex  \\\n",
       "4691                    348,49                    172,21          4640.0   \n",
       "4692                    348,49                    172,21          4641.0   \n",
       "4693                    348,49                    172,21          4642.0   \n",
       "4694                    348,49                    172,21          4643.0   \n",
       "4695                    348,49                    172,21          4644.0   \n",
       "\n",
       "      GazePointX (MCSpx)  GazePointY (MCSpx) PupilLeft PupilRight  \\\n",
       "4691                 0.0                 0.0      2,25       2,43   \n",
       "4692                 2.0                -1.0      2,29       2,43   \n",
       "4693                -6.0                21.0      2,26       2,41   \n",
       "4694                11.0               -20.0      2,24       2,39   \n",
       "4695                 0.0                 6.0      2,28       2,41   \n",
       "\n",
       "      ValidityLeft  ValidityRight StudioEventTypeDiff GazeEventTypeDiff  \\\n",
       "4691           0.0            0.0     Agree_3_Reading    Agree_Fixation   \n",
       "4692           0.0            0.0     Agree_3_Reading    Agree_Fixation   \n",
       "4693           0.0            0.0     Agree_3_Reading    Agree_Fixation   \n",
       "4694           0.0            0.0     Agree_3_Reading    Agree_Fixation   \n",
       "4695           0.0            0.0     Agree_3_Reading    Agree_Fixation   \n",
       "\n",
       "      StudioEventIndex_B  StudioEventIndex_B.1  Unnamed: 11  \n",
       "4691                 NaN                   NaN          NaN  \n",
       "4692                 NaN                   NaN          NaN  \n",
       "4693                 NaN                   NaN          NaN  \n",
       "4694                 NaN                   NaN          NaN  \n",
       "4695                 NaN                   NaN          NaN  "
      ]
     },
     "execution_count": 33,
     "metadata": {},
     "output_type": "execute_result"
    }
   ],
   "source": [
    "readingData_all.head()"
   ]
  },
  {
   "cell_type": "raw",
   "metadata": {},
   "source": [
    "readingData_all['GazePointY (MCSpx)'].head()"
   ]
  },
  {
   "cell_type": "code",
   "execution_count": 34,
   "metadata": {},
   "outputs": [
    {
     "data": {
      "text/plain": [
       "array([[1219.36119249,  132.08377548],\n",
       "       [ 132.08377548,  708.32083509]])"
      ]
     },
     "metadata": {},
     "output_type": "display_data"
    },
    {
     "data": {
      "text/plain": [
       "array([[1729.46174858,  213.14434616],\n",
       "       [ 213.14434616, 3865.69122351]])"
      ]
     },
     "metadata": {},
     "output_type": "display_data"
    },
    {
     "data": {
      "text/plain": [
       "array([[1925.199349  ,  255.68209493],\n",
       "       [ 255.68209493, 1631.86858628]])"
      ]
     },
     "metadata": {},
     "output_type": "display_data"
    },
    {
     "data": {
      "text/plain": [
       "array([[2134.70523252,  692.36575501],\n",
       "       [ 692.36575501, 2710.03012675]])"
      ]
     },
     "metadata": {},
     "output_type": "display_data"
    },
    {
     "data": {
      "text/plain": [
       "array([[1588.30018404, -328.80130858],\n",
       "       [-328.80130858, 1247.88343492]])"
      ]
     },
     "metadata": {},
     "output_type": "display_data"
    }
   ],
   "source": [
    "readCovMat_all = np.cov((readingData_all['GazePointX (MCSpx)'],readingData_all['GazePointY (MCSpx)']))\n",
    "skimmingCovMat_all = np.cov((skimmingData_all['GazePointX (MCSpx)'],skimmingData_all['GazePointY (MCSpx)']))\n",
    "scanningCovMat_all = np.cov((scanningData_all['GazePointX (MCSpx)'],scanningData_all['GazePointY (MCSpx)']))\n",
    "unknownCovMat_all = np.cov((unknownData_all['GazePointX (MCSpx)'],unknownData_all['GazePointY (MCSpx)']))\n",
    "mediaViewCovMat_all = np.cov((mediaViewData_all['GazePointX (MCSpx)'],mediaViewData_all['GazePointY (MCSpx)']))\n",
    "\n",
    "display(readCovMat_all)\n",
    "display(skimmingCovMat_all)\n",
    "display(scanningCovMat_all)\n",
    "display(unknownCovMat_all)\n",
    "display(mediaViewCovMat_all)"
   ]
  },
  {
   "cell_type": "code",
   "execution_count": 35,
   "metadata": {},
   "outputs": [
    {
     "data": {
      "text/plain": [
       "[0.04776158969657473, 0.07900986380656777]"
      ]
     },
     "metadata": {},
     "output_type": "display_data"
    },
    {
     "data": {
      "text/plain": [
       "[0.31418546774917383, -0.7167802211252091]"
      ]
     },
     "metadata": {},
     "output_type": "display_data"
    },
    {
     "data": {
      "text/plain": [
       "[-0.01577395138226883, -0.026021806482364157]"
      ]
     },
     "metadata": {},
     "output_type": "display_data"
    },
    {
     "data": {
      "text/plain": [
       "[-0.036332538613040324, 0.09393248332815038]"
      ]
     },
     "metadata": {},
     "output_type": "display_data"
    },
    {
     "data": {
      "text/plain": [
       "[-1.0391618000687048, 0.15080728272071453]"
      ]
     },
     "metadata": {},
     "output_type": "display_data"
    }
   ],
   "source": [
    "readingMeanx_all = readingData_all['GazePointX (MCSpx)'].mean()\n",
    "readingMeany_all = readingData_all['GazePointY (MCSpx)'].mean()\n",
    "readingMeanVector_all = [readingMeanx_all,readingMeany_all]\n",
    "\n",
    "skimmingMeanx_all = skimmingData_all['GazePointX (MCSpx)'].mean()\n",
    "skimmingMeany_all = skimmingData_all['GazePointY (MCSpx)'].mean()\n",
    "skimmingMeanVector_all = [skimmingMeanx_all,skimmingMeany_all]\n",
    "\n",
    "scanningMeanx_all = scanningData_all['GazePointX (MCSpx)'].mean()\n",
    "scanningMeany_all = scanningData_all['GazePointY (MCSpx)'].mean()\n",
    "scanningMeanVector_all = [scanningMeanx_all,scanningMeany_all]\n",
    "\n",
    "unknownMeanx_all = unknownData_all['GazePointX (MCSpx)'].mean()\n",
    "unknownMeany_all = unknownData_all['GazePointY (MCSpx)'].mean()\n",
    "unknownMeanVector_all = [unknownMeanx_all,unknownMeany_all]\n",
    "\n",
    "mediaViewMeanx_all = mediaViewData_all['GazePointX (MCSpx)'].mean()\n",
    "mediaViewMeany_all = mediaViewData_all['GazePointY (MCSpx)'].mean()\n",
    "mediaViewMeanVector_all = [mediaViewMeanx_all,mediaViewMeany_all]\n",
    "\n",
    "display(readingMeanVector_all)\n",
    "display(skimmingMeanVector_all)\n",
    "display(scanningMeanVector_all)\n",
    "display(unknownMeanVector_all)\n",
    "display(mediaViewMeanVector_all)\n"
   ]
  },
  {
   "cell_type": "code",
   "execution_count": null,
   "metadata": {},
   "outputs": [],
   "source": []
  },
  {
   "cell_type": "code",
   "execution_count": null,
   "metadata": {},
   "outputs": [],
   "source": []
  },
  {
   "cell_type": "code",
   "execution_count": null,
   "metadata": {},
   "outputs": [],
   "source": []
  },
  {
   "cell_type": "code",
   "execution_count": null,
   "metadata": {},
   "outputs": [],
   "source": []
  },
  {
   "cell_type": "code",
   "execution_count": null,
   "metadata": {},
   "outputs": [],
   "source": []
  },
  {
   "cell_type": "code",
   "execution_count": null,
   "metadata": {},
   "outputs": [],
   "source": []
  },
  {
   "cell_type": "code",
   "execution_count": null,
   "metadata": {},
   "outputs": [],
   "source": []
  }
 ],
 "metadata": {
  "kernelspec": {
   "display_name": "Python 3",
   "language": "python",
   "name": "python3"
  },
  "language_info": {
   "codemirror_mode": {
    "name": "ipython",
    "version": 3
   },
   "file_extension": ".py",
   "mimetype": "text/x-python",
   "name": "python",
   "nbconvert_exporter": "python",
   "pygments_lexer": "ipython3",
   "version": "3.7.0"
  },
  "toc": {
   "base_numbering": 1,
   "nav_menu": {},
   "number_sections": true,
   "sideBar": true,
   "skip_h1_title": false,
   "title_cell": "Table of Contents",
   "title_sidebar": "Contents",
   "toc_cell": false,
   "toc_position": {},
   "toc_section_display": true,
   "toc_window_display": true
  }
 },
 "nbformat": 4,
 "nbformat_minor": 2
}
