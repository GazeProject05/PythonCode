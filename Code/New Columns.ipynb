{
 "cells": [
  {
   "cell_type": "code",
   "execution_count": 1,
   "metadata": {},
   "outputs": [],
   "source": [
    "import pandas as pd\n",
    "import numpy as np"
   ]
  },
  {
   "cell_type": "code",
   "execution_count": 48,
   "metadata": {},
   "outputs": [],
   "source": [
    "pb = pd.read_excel('Proband_41.xlsx')"
   ]
  },
  {
   "cell_type": "code",
   "execution_count": 49,
   "metadata": {},
   "outputs": [],
   "source": [
    "def newCol(df):\n",
    "    #df['StudioEventTypeDiff'] = \" \"\n",
    "    #df['GazeEventTypeDiff'] = \" \"\n",
    "    \n",
    "    df['StudioEventTypeDiff'] =  np.where(df['StudioEvent'] == df['StudioEvent_B'], \"Agree_\" + df['StudioEvent'], \"Disagree_\" + df['StudioEvent'] + \"_\" + df['StudioEvent_B'])\n",
    "    df['GazeEventTypeDiff'] =  np.where(df['GazeEventType'] == df['GazeEventType_B'], \"Agree_\" + df['GazeEventType'], \"Disagree_\" + df['GazeEventType'] + \"_\" + df['GazeEventType_B'])\n",
    "    \n",
    "    excel_file = pd.ExcelWriter('Proband_211.xlsx')\n",
    "    df.to_excel(excel_file, sheet_name='Band1', index=False)\n",
    "    excel_file.save()\n",
    "    excel_file.close()\n",
    "        \n",
    "    return None\n",
    "    \n",
    "    "
   ]
  },
  {
   "cell_type": "code",
   "execution_count": 50,
   "metadata": {},
   "outputs": [],
   "source": [
    "newCol(pb)"
   ]
  },
  {
   "cell_type": "code",
   "execution_count": 29,
   "metadata": {},
   "outputs": [],
   "source": [
    "''' \n",
    "    for row in df:\n",
    "        if all(df['StudioEvent']) == all(df['StudioEvent_B']):\n",
    "            df['StudioEventTypeDiff'] = \"Agree_\" + df['StudioEvent']\n",
    "        elif all(df['StudioEvent']) != all(df['StudioEvent_B']):\n",
    "            df['StudioEventTypeDiff'] = \"Disagree_\" + df['StudioEvent']\n",
    "        \n",
    "        if all(df['GazeEventType']) == all(df['GazeEventType_B']):\n",
    "            df['GazeEventTypeDiff'] = \"Agree_\" + df['GazeEventType']\n",
    "        elif all(df['GazeEventType']) != all(df['GazeEventType_B']):\n",
    "            df['GazeEventTypeDiff'] = \"Disagree_\" + df['GazeEventType']\n",
    "    \n",
    "    excel_file = pd.ExcelWriter('Proband_1.xlsx')\n",
    "    df.to_excel(excel_file, sheet_name='Band1', index=False)\n",
    "    excel_file.save()\n",
    "    excel_file.close()\n",
    "\n",
    "    #df['result'] = np.where(df['col1'] == df['col2'], 'no change', 'changed')\n",
    "    \n",
    "    return None"
   ]
  },
  {
   "cell_type": "code",
   "execution_count": null,
   "metadata": {},
   "outputs": [],
   "source": []
  }
 ],
 "metadata": {
  "kernelspec": {
   "display_name": "Python 3",
   "language": "python",
   "name": "python3"
  },
  "language_info": {
   "codemirror_mode": {
    "name": "ipython",
    "version": 3
   },
   "file_extension": ".py",
   "mimetype": "text/x-python",
   "name": "python",
   "nbconvert_exporter": "python",
   "pygments_lexer": "ipython3",
   "version": "3.6.5"
  }
 },
 "nbformat": 4,
 "nbformat_minor": 2
}
